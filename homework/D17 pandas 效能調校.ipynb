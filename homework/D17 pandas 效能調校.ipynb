{
 "cells": [
  {
   "cell_type": "code",
   "execution_count": 1,
   "metadata": {},
   "outputs": [
    {
     "name": "stdout",
     "output_type": "stream",
     "text": [
      "1.在速度較慢的時候，可以先從哪邊開始檢查？\n"
     ]
    }
   ],
   "source": [
    "print('1.在速度較慢的時候，可以先從哪邊開始檢查？')\n"
   ]
  },
  {
   "cell_type": "code",
   "execution_count": 2,
   "metadata": {},
   "outputs": [
    {
     "name": "stdout",
     "output_type": "stream",
     "text": [
      "檔案格式\n"
     ]
    }
   ],
   "source": [
    "print('檔案格式')"
   ]
  },
  {
   "cell_type": "code",
   "execution_count": 4,
   "metadata": {},
   "outputs": [
    {
     "name": "stdout",
     "output_type": "stream",
     "text": [
      "2.資料過大時應採取什麼方式讓記憶體占用量下降？\n"
     ]
    }
   ],
   "source": [
    "print('2.資料過大時應採取什麼方式讓記憶體占用量下降？')"
   ]
  },
  {
   "cell_type": "code",
   "execution_count": 5,
   "metadata": {},
   "outputs": [
    {
     "name": "stdout",
     "output_type": "stream",
     "text": [
      "透過欄位的型態降級幫助記憶體佔用量下降，將整數型態 int 改成 uint 減少記憶體正用空間\n"
     ]
    }
   ],
   "source": [
    "print('透過欄位的型態降級幫助記憶體佔用量下降，將整數型態 int 改成 uint 減少記憶體正用空間')"
   ]
  },
  {
   "cell_type": "code",
   "execution_count": null,
   "metadata": {},
   "outputs": [],
   "source": []
  }
 ],
 "metadata": {
  "kernelspec": {
   "display_name": "Python 3",
   "language": "python",
   "name": "python3"
  },
  "language_info": {
   "codemirror_mode": {
    "name": "ipython",
    "version": 3
   },
   "file_extension": ".py",
   "mimetype": "text/x-python",
   "name": "python",
   "nbconvert_exporter": "python",
   "pygments_lexer": "ipython3",
   "version": "3.7.4"
  }
 },
 "nbformat": 4,
 "nbformat_minor": 4
}
