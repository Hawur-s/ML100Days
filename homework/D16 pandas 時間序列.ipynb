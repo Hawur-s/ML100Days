{
 "cells": [
  {
   "cell_type": "code",
   "execution_count": 9,
   "metadata": {},
   "outputs": [
    {
     "data": {
      "text/plain": [
       "2019-01-01     0\n",
       "2019-01-02     1\n",
       "2019-01-03     2\n",
       "2019-01-04     3\n",
       "2019-01-05     4\n",
       "2019-01-06     5\n",
       "2019-01-07     6\n",
       "2019-01-08     7\n",
       "2019-01-09     8\n",
       "2019-01-10     9\n",
       "2019-01-11    10\n",
       "2019-01-12    11\n",
       "2019-01-13    12\n",
       "2019-01-14    13\n",
       "2019-01-15    14\n",
       "2019-01-16    15\n",
       "2019-01-17    16\n",
       "2019-01-18    17\n",
       "2019-01-19    18\n",
       "2019-01-20    19\n",
       "Freq: D, dtype: int64"
      ]
     },
     "execution_count": 9,
     "metadata": {},
     "output_type": "execute_result"
    }
   ],
   "source": [
    "import numpy as np\n",
    "import pandas as pd\n",
    "index = pd.date_range('1/1/2019', periods=20, freq='D')\n",
    "series = pd.Series(range(20), index=index)\n",
    "series"
   ]
  },
  {
   "cell_type": "code",
   "execution_count": 10,
   "metadata": {},
   "outputs": [
    {
     "data": {
      "text/plain": [
       "2019-01-06     0\n",
       "2019-01-13     1\n",
       "2019-01-20     2\n",
       "2019-01-27     3\n",
       "2019-02-03     4\n",
       "2019-02-10     5\n",
       "2019-02-17     6\n",
       "2019-02-24     7\n",
       "2019-03-03     8\n",
       "2019-03-10     9\n",
       "2019-03-17    10\n",
       "2019-03-24    11\n",
       "2019-03-31    12\n",
       "2019-04-07    13\n",
       "2019-04-14    14\n",
       "2019-04-21    15\n",
       "2019-04-28    16\n",
       "2019-05-05    17\n",
       "2019-05-12    18\n",
       "2019-05-19    19\n",
       "Freq: W-SUN, dtype: int64"
      ]
     },
     "execution_count": 10,
     "metadata": {},
     "output_type": "execute_result"
    }
   ],
   "source": [
    "#1. 將所有轉為周資料\n",
    "import numpy as np\n",
    "import pandas as pd\n",
    "index = pd.date_range('1/1/2019', periods=20, freq='W')\n",
    "series = pd.Series(range(20), index=index)\n",
    "series"
   ]
  },
  {
   "cell_type": "code",
   "execution_count": 14,
   "metadata": {},
   "outputs": [
    {
     "data": {
      "text/plain": [
       "9.5"
      ]
     },
     "execution_count": 14,
     "metadata": {},
     "output_type": "execute_result"
    }
   ],
   "source": [
    "#2. 將周資料的值取平均\n",
    "series.mean()"
   ]
  },
  {
   "cell_type": "code",
   "execution_count": null,
   "metadata": {},
   "outputs": [],
   "source": []
  }
 ],
 "metadata": {
  "kernelspec": {
   "display_name": "Python 3",
   "language": "python",
   "name": "python3"
  },
  "language_info": {
   "codemirror_mode": {
    "name": "ipython",
    "version": 3
   },
   "file_extension": ".py",
   "mimetype": "text/x-python",
   "name": "python",
   "nbconvert_exporter": "python",
   "pygments_lexer": "ipython3",
   "version": "3.7.4"
  }
 },
 "nbformat": 4,
 "nbformat_minor": 4
}
