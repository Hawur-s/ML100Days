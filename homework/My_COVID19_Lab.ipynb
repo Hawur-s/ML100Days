{
 "cells": [
  {
   "cell_type": "code",
   "execution_count": 3,
   "metadata": {},
   "outputs": [
    {
     "data": {
      "text/html": [
       "        <script type=\"text/javascript\">\n",
       "        window.PlotlyConfig = {MathJaxConfig: 'local'};\n",
       "        if (window.MathJax) {MathJax.Hub.Config({SVG: {font: \"STIX-Web\"}});}\n",
       "        if (typeof require !== 'undefined') {\n",
       "        require.undef(\"plotly\");\n",
       "        requirejs.config({\n",
       "            paths: {\n",
       "                'plotly': ['https://cdn.plot.ly/plotly-latest.min']\n",
       "            }\n",
       "        });\n",
       "        require(['plotly'], function(Plotly) {\n",
       "            window._Plotly = Plotly;\n",
       "        });\n",
       "        }\n",
       "        </script>\n",
       "        "
      ]
     },
     "metadata": {},
     "output_type": "display_data"
    }
   ],
   "source": [
    "from bs4 import BeautifulSoup as soup\n",
    "from urllib.request import Request, urlopen\n",
    "import pandas as pd\n",
    "import numpy as np\n",
    "from datetime import date, datetime\n",
    "import matplotlib.pyplot as plt\n",
    "import gc #garbage collector\n",
    "import plotly.graph_objects as go\n",
    "import plotly.offline as py\n",
    "py.init_notebook_mode(connected=True)\n",
    "import seaborn as sns"
   ]
  },
  {
   "cell_type": "code",
   "execution_count": 4,
   "metadata": {},
   "outputs": [],
   "source": [
    "fname = 'https://www.worldometers.info/coronavirus/#countries'\n",
    "req = Request(fname, headers={'User-Agent': 'Mozilla/5.0'})\n",
    "webpage = urlopen(req)\n",
    "page_soup = soup(webpage, \"html.parser\")\n",
    "today = datetime.now()\n",
    "today_str = \"%s %d, %d\" % (date.today().strftime(\"%b\"), today.day, today.year)\n",
    "yesterday_str = \"%s %d, %d\" % (date.today().strftime(\"%b\"), today.day-1, today.year)\n",
    "clean = True"
   ]
  },
  {
   "cell_type": "code",
   "execution_count": 5,
   "metadata": {},
   "outputs": [
    {
     "name": "stdout",
     "output_type": "stream",
     "text": [
      "This version of the notebook is being run on Mar 16, 2021.\n"
     ]
    }
   ],
   "source": [
    "print(\"This version of the notebook is being run on %s.\" % today_str)\n"
   ]
  },
  {
   "cell_type": "code",
   "execution_count": 6,
   "metadata": {},
   "outputs": [],
   "source": [
    "table = page_soup.findAll(\"table\", {\"id\": \"main_table_countries_yesterday\"})\n",
    "containers = table[0].findAll(\"tr\", {\"style\": \"\"})\n",
    "del containers[0]\n",
    "\n",
    "all_data = []\n",
    "for country in containers:\n",
    "    country_data = []\n",
    "    country_container = country.findAll(\"td\")\n",
    "    if country_container[1].text == 'China':\n",
    "        continue\n",
    "    for i in range(1, len(country_container)):\n",
    "        final_feature = country_container[i].text\n",
    "        if clean:\n",
    "            if i != 1 and i != len(country_container)-1:\n",
    "                final_feature = final_feature.replace(',', '')\n",
    "                if final_feature.find('+') != -1:\n",
    "                    final_feature = final_feature.replace('+', '')\n",
    "                    final_feature = float(final_feature)\n",
    "                elif final_feature.find('-') != -1:\n",
    "                    final_feature = final_feature.replace('-', '')\n",
    "                    final_feature = float(final_feature)*-1\n",
    "        if final_feature == 'N/A':\n",
    "            final_feature = 0\n",
    "        elif final_feature == '' or final_feature == ' ':\n",
    "            final_feature = -1 #None\n",
    "        country_data.append(final_feature)\n",
    "    all_data.append(country_data)"
   ]
  },
  {
   "cell_type": "code",
   "execution_count": 7,
   "metadata": {
    "scrolled": true
   },
   "outputs": [],
   "source": [
    "df = pd.DataFrame(all_data)\n",
    "\n",
    "df = df.drop([8, 9, 10, 11, 12, 15, 16, 17], axis=1) # Get rid of unnecessary data"
   ]
  },
  {
   "cell_type": "code",
   "execution_count": 8,
   "metadata": {},
   "outputs": [],
   "source": [
    "df\n",
    "column_labels = [\"Country\", \"Total Cases\", \"New Cases\", \"Total Deaths\", \"New Deaths\", \"Total Recovered\", \"New Recovered\", \"Active Cases\",\n",
    "                \"Population\", \"Continent\"]\n",
    "df.columns = column_labels\n"
   ]
  },
  {
   "cell_type": "code",
   "execution_count": 9,
   "metadata": {},
   "outputs": [
    {
     "data": {
      "text/plain": [
       "Index(['Country', 'Total Cases', 'New Cases', 'Total Deaths', 'New Deaths',\n",
       "       'Total Recovered', 'New Recovered', 'Active Cases', 'Population',\n",
       "       'Continent'],\n",
       "      dtype='object')"
      ]
     },
     "execution_count": 9,
     "metadata": {},
     "output_type": "execute_result"
    }
   ],
   "source": [
    "df.columns\n"
   ]
  },
  {
   "cell_type": "code",
   "execution_count": 10,
   "metadata": {},
   "outputs": [],
   "source": [
    "country_labels = page_soup.findAll(\"a\", {\"class\": \"mt_a\"})\n",
    "c_label = []\n",
    "for country in country_labels:\n",
    "    c_label.append(country.text)\n",
    "c_label = set(c_label)\n",
    "\n",
    "not_counted = []\n",
    "sorted_countries = set(df['Country']) #Increase computational speed\n",
    "for country in c_label:\n",
    "    if country not in sorted_countries:\n",
    "        not_counted.append(country)"
   ]
  },
  {
   "cell_type": "code",
   "execution_count": 11,
   "metadata": {},
   "outputs": [
    {
     "name": "stdout",
     "output_type": "stream",
     "text": [
      "['Saint Pierre Miquelon', 'China', 'Micronesia', 'Greenland', 'Marshall Islands', 'Tajikistan', 'Falkland Islands']\n"
     ]
    }
   ],
   "source": [
    "print(not_counted)\n"
   ]
  },
  {
   "cell_type": "code",
   "execution_count": 12,
   "metadata": {},
   "outputs": [],
   "source": [
    "for label in df.columns:\n",
    "    if label != 'Country' and label != 'Continent':\n",
    "        df[label] = pd.to_numeric(df[label])"
   ]
  },
  {
   "cell_type": "code",
   "execution_count": 13,
   "metadata": {
    "scrolled": true
   },
   "outputs": [
    {
     "data": {
      "text/html": [
       "<div>\n",
       "<style scoped>\n",
       "    .dataframe tbody tr th:only-of-type {\n",
       "        vertical-align: middle;\n",
       "    }\n",
       "\n",
       "    .dataframe tbody tr th {\n",
       "        vertical-align: top;\n",
       "    }\n",
       "\n",
       "    .dataframe thead th {\n",
       "        text-align: right;\n",
       "    }\n",
       "</style>\n",
       "<table border=\"1\" class=\"dataframe\">\n",
       "  <thead>\n",
       "    <tr style=\"text-align: right;\">\n",
       "      <th></th>\n",
       "      <th>Country</th>\n",
       "      <th>Total Cases</th>\n",
       "      <th>New Cases</th>\n",
       "      <th>Total Deaths</th>\n",
       "      <th>New Deaths</th>\n",
       "      <th>Total Recovered</th>\n",
       "      <th>New Recovered</th>\n",
       "      <th>Active Cases</th>\n",
       "      <th>Population</th>\n",
       "      <th>Continent</th>\n",
       "    </tr>\n",
       "  </thead>\n",
       "  <tbody>\n",
       "    <tr>\n",
       "      <th>0</th>\n",
       "      <td>World</td>\n",
       "      <td>120764967</td>\n",
       "      <td>336327.0</td>\n",
       "      <td>2671762</td>\n",
       "      <td>6550.0</td>\n",
       "      <td>97406968</td>\n",
       "      <td>392946.0</td>\n",
       "      <td>20686237.0</td>\n",
       "      <td>-1</td>\n",
       "      <td>All</td>\n",
       "    </tr>\n",
       "    <tr>\n",
       "      <th>1</th>\n",
       "      <td>USA</td>\n",
       "      <td>30138586</td>\n",
       "      <td>45045.0</td>\n",
       "      <td>548013</td>\n",
       "      <td>785.0</td>\n",
       "      <td>22286551</td>\n",
       "      <td>114732.0</td>\n",
       "      <td>7304022.0</td>\n",
       "      <td>332367957</td>\n",
       "      <td>North America</td>\n",
       "    </tr>\n",
       "    <tr>\n",
       "      <th>2</th>\n",
       "      <td>Brazil</td>\n",
       "      <td>11525477</td>\n",
       "      <td>42107.0</td>\n",
       "      <td>279602</td>\n",
       "      <td>1275.0</td>\n",
       "      <td>10111954</td>\n",
       "      <td>48146.0</td>\n",
       "      <td>1133921.0</td>\n",
       "      <td>213621654</td>\n",
       "      <td>South America</td>\n",
       "    </tr>\n",
       "    <tr>\n",
       "      <th>3</th>\n",
       "      <td>India</td>\n",
       "      <td>11409595</td>\n",
       "      <td>24437.0</td>\n",
       "      <td>158892</td>\n",
       "      <td>130.0</td>\n",
       "      <td>11025631</td>\n",
       "      <td>20186.0</td>\n",
       "      <td>225072.0</td>\n",
       "      <td>1389530904</td>\n",
       "      <td>Asia</td>\n",
       "    </tr>\n",
       "    <tr>\n",
       "      <th>4</th>\n",
       "      <td>Russia</td>\n",
       "      <td>4400045</td>\n",
       "      <td>9437.0</td>\n",
       "      <td>92494</td>\n",
       "      <td>404.0</td>\n",
       "      <td>4003576</td>\n",
       "      <td>8267.0</td>\n",
       "      <td>303975.0</td>\n",
       "      <td>145978580</td>\n",
       "      <td>Europe</td>\n",
       "    </tr>\n",
       "    <tr>\n",
       "      <th>5</th>\n",
       "      <td>UK</td>\n",
       "      <td>4263527</td>\n",
       "      <td>5089.0</td>\n",
       "      <td>125580</td>\n",
       "      <td>64.0</td>\n",
       "      <td>3526715</td>\n",
       "      <td>29790.0</td>\n",
       "      <td>611232.0</td>\n",
       "      <td>68136918</td>\n",
       "      <td>Europe</td>\n",
       "    </tr>\n",
       "    <tr>\n",
       "      <th>6</th>\n",
       "      <td>France</td>\n",
       "      <td>4078133</td>\n",
       "      <td>6471.0</td>\n",
       "      <td>90762</td>\n",
       "      <td>333.0</td>\n",
       "      <td>273771</td>\n",
       "      <td>811.0</td>\n",
       "      <td>3713600.0</td>\n",
       "      <td>65375268</td>\n",
       "      <td>Europe</td>\n",
       "    </tr>\n",
       "    <tr>\n",
       "      <th>7</th>\n",
       "      <td>Italy</td>\n",
       "      <td>3238394</td>\n",
       "      <td>15267.0</td>\n",
       "      <td>102499</td>\n",
       "      <td>354.0</td>\n",
       "      <td>2605538</td>\n",
       "      <td>15807.0</td>\n",
       "      <td>530357.0</td>\n",
       "      <td>60399096</td>\n",
       "      <td>Europe</td>\n",
       "    </tr>\n",
       "    <tr>\n",
       "      <th>8</th>\n",
       "      <td>Spain</td>\n",
       "      <td>3195062</td>\n",
       "      <td>4484.0</td>\n",
       "      <td>72424</td>\n",
       "      <td>56.0</td>\n",
       "      <td>2857714</td>\n",
       "      <td>-1.0</td>\n",
       "      <td>264924.0</td>\n",
       "      <td>46767546</td>\n",
       "      <td>Europe</td>\n",
       "    </tr>\n",
       "    <tr>\n",
       "      <th>9</th>\n",
       "      <td>Turkey</td>\n",
       "      <td>2894893</td>\n",
       "      <td>15503.0</td>\n",
       "      <td>29552</td>\n",
       "      <td>63.0</td>\n",
       "      <td>2716969</td>\n",
       "      <td>15893.0</td>\n",
       "      <td>148372.0</td>\n",
       "      <td>84976014</td>\n",
       "      <td>Asia</td>\n",
       "    </tr>\n",
       "    <tr>\n",
       "      <th>10</th>\n",
       "      <td>Germany</td>\n",
       "      <td>2585385</td>\n",
       "      <td>6550.0</td>\n",
       "      <td>74115</td>\n",
       "      <td>156.0</td>\n",
       "      <td>2365100</td>\n",
       "      <td>7100.0</td>\n",
       "      <td>146170.0</td>\n",
       "      <td>83972604</td>\n",
       "      <td>Europe</td>\n",
       "    </tr>\n",
       "    <tr>\n",
       "      <th>11</th>\n",
       "      <td>Colombia</td>\n",
       "      <td>2305884</td>\n",
       "      <td>2740.0</td>\n",
       "      <td>61243</td>\n",
       "      <td>100.0</td>\n",
       "      <td>2206210</td>\n",
       "      <td>3630.0</td>\n",
       "      <td>38431.0</td>\n",
       "      <td>51263550</td>\n",
       "      <td>South America</td>\n",
       "    </tr>\n",
       "    <tr>\n",
       "      <th>12</th>\n",
       "      <td>Argentina</td>\n",
       "      <td>2201886</td>\n",
       "      <td>6164.0</td>\n",
       "      <td>53836</td>\n",
       "      <td>166.0</td>\n",
       "      <td>1993215</td>\n",
       "      <td>6312.0</td>\n",
       "      <td>154835.0</td>\n",
       "      <td>45487062</td>\n",
       "      <td>South America</td>\n",
       "    </tr>\n",
       "    <tr>\n",
       "      <th>13</th>\n",
       "      <td>Mexico</td>\n",
       "      <td>2166290</td>\n",
       "      <td>2415.0</td>\n",
       "      <td>194710</td>\n",
       "      <td>220.0</td>\n",
       "      <td>1705743</td>\n",
       "      <td>4527.0</td>\n",
       "      <td>265837.0</td>\n",
       "      <td>129883602</td>\n",
       "      <td>North America</td>\n",
       "    </tr>\n",
       "    <tr>\n",
       "      <th>14</th>\n",
       "      <td>Poland</td>\n",
       "      <td>1917527</td>\n",
       "      <td>10896.0</td>\n",
       "      <td>47206</td>\n",
       "      <td>28.0</td>\n",
       "      <td>1574455</td>\n",
       "      <td>14228.0</td>\n",
       "      <td>295866.0</td>\n",
       "      <td>37817368</td>\n",
       "      <td>Europe</td>\n",
       "    </tr>\n",
       "    <tr>\n",
       "      <th>15</th>\n",
       "      <td>Iran</td>\n",
       "      <td>1754933</td>\n",
       "      <td>7980.0</td>\n",
       "      <td>61330</td>\n",
       "      <td>100.0</td>\n",
       "      <td>1499301</td>\n",
       "      <td>6813.0</td>\n",
       "      <td>194302.0</td>\n",
       "      <td>84746758</td>\n",
       "      <td>Asia</td>\n",
       "    </tr>\n",
       "    <tr>\n",
       "      <th>16</th>\n",
       "      <td>South Africa</td>\n",
       "      <td>1530033</td>\n",
       "      <td>613.0</td>\n",
       "      <td>51421</td>\n",
       "      <td>95.0</td>\n",
       "      <td>1455325</td>\n",
       "      <td>1035.0</td>\n",
       "      <td>23287.0</td>\n",
       "      <td>59833051</td>\n",
       "      <td>Africa</td>\n",
       "    </tr>\n",
       "    <tr>\n",
       "      <th>17</th>\n",
       "      <td>Ukraine</td>\n",
       "      <td>1467548</td>\n",
       "      <td>6792.0</td>\n",
       "      <td>28433</td>\n",
       "      <td>130.0</td>\n",
       "      <td>1226007</td>\n",
       "      <td>3491.0</td>\n",
       "      <td>213108.0</td>\n",
       "      <td>43548043</td>\n",
       "      <td>Europe</td>\n",
       "    </tr>\n",
       "    <tr>\n",
       "      <th>18</th>\n",
       "      <td>Indonesia</td>\n",
       "      <td>1425044</td>\n",
       "      <td>5589.0</td>\n",
       "      <td>38573</td>\n",
       "      <td>147.0</td>\n",
       "      <td>1249947</td>\n",
       "      <td>6830.0</td>\n",
       "      <td>136524.0</td>\n",
       "      <td>275553769</td>\n",
       "      <td>Asia</td>\n",
       "    </tr>\n",
       "    <tr>\n",
       "      <th>19</th>\n",
       "      <td>Peru</td>\n",
       "      <td>1418974</td>\n",
       "      <td>6568.0</td>\n",
       "      <td>49177</td>\n",
       "      <td>174.0</td>\n",
       "      <td>1329788</td>\n",
       "      <td>7103.0</td>\n",
       "      <td>40009.0</td>\n",
       "      <td>33293729</td>\n",
       "      <td>South America</td>\n",
       "    </tr>\n",
       "    <tr>\n",
       "      <th>20</th>\n",
       "      <td>Czechia</td>\n",
       "      <td>1402420</td>\n",
       "      <td>3291.0</td>\n",
       "      <td>23379</td>\n",
       "      <td>88.0</td>\n",
       "      <td>1214056</td>\n",
       "      <td>92.0</td>\n",
       "      <td>164985.0</td>\n",
       "      <td>10722980</td>\n",
       "      <td>Europe</td>\n",
       "    </tr>\n",
       "    <tr>\n",
       "      <th>21</th>\n",
       "      <td>Netherlands</td>\n",
       "      <td>1162661</td>\n",
       "      <td>5469.0</td>\n",
       "      <td>16087</td>\n",
       "      <td>18.0</td>\n",
       "      <td>0</td>\n",
       "      <td>0.0</td>\n",
       "      <td>0.0</td>\n",
       "      <td>17161582</td>\n",
       "      <td>Europe</td>\n",
       "    </tr>\n",
       "    <tr>\n",
       "      <th>22</th>\n",
       "      <td>Canada</td>\n",
       "      <td>913047</td>\n",
       "      <td>3890.0</td>\n",
       "      <td>22495</td>\n",
       "      <td>32.0</td>\n",
       "      <td>858922</td>\n",
       "      <td>3902.0</td>\n",
       "      <td>31630.0</td>\n",
       "      <td>37974620</td>\n",
       "      <td>North America</td>\n",
       "    </tr>\n",
       "    <tr>\n",
       "      <th>23</th>\n",
       "      <td>Chile</td>\n",
       "      <td>896231</td>\n",
       "      <td>5121.0</td>\n",
       "      <td>21772</td>\n",
       "      <td>98.0</td>\n",
       "      <td>840668</td>\n",
       "      <td>4999.0</td>\n",
       "      <td>33791.0</td>\n",
       "      <td>19231484</td>\n",
       "      <td>South America</td>\n",
       "    </tr>\n",
       "    <tr>\n",
       "      <th>24</th>\n",
       "      <td>Romania</td>\n",
       "      <td>862681</td>\n",
       "      <td>2972.0</td>\n",
       "      <td>21565</td>\n",
       "      <td>82.0</td>\n",
       "      <td>787392</td>\n",
       "      <td>3750.0</td>\n",
       "      <td>53724.0</td>\n",
       "      <td>19146957</td>\n",
       "      <td>Europe</td>\n",
       "    </tr>\n",
       "    <tr>\n",
       "      <th>25</th>\n",
       "      <td>Israel</td>\n",
       "      <td>820913</td>\n",
       "      <td>2365.0</td>\n",
       "      <td>6030</td>\n",
       "      <td>22.0</td>\n",
       "      <td>788112</td>\n",
       "      <td>3546.0</td>\n",
       "      <td>26771.0</td>\n",
       "      <td>9197590</td>\n",
       "      <td>Asia</td>\n",
       "    </tr>\n",
       "    <tr>\n",
       "      <th>26</th>\n",
       "      <td>Portugal</td>\n",
       "      <td>814513</td>\n",
       "      <td>256.0</td>\n",
       "      <td>16694</td>\n",
       "      <td>10.0</td>\n",
       "      <td>761788</td>\n",
       "      <td>2371.0</td>\n",
       "      <td>36031.0</td>\n",
       "      <td>10175719</td>\n",
       "      <td>Europe</td>\n",
       "    </tr>\n",
       "    <tr>\n",
       "      <th>27</th>\n",
       "      <td>Belgium</td>\n",
       "      <td>808283</td>\n",
       "      <td>2962.0</td>\n",
       "      <td>22441</td>\n",
       "      <td>20.0</td>\n",
       "      <td>54577</td>\n",
       "      <td>195.0</td>\n",
       "      <td>731265.0</td>\n",
       "      <td>11625125</td>\n",
       "      <td>Europe</td>\n",
       "    </tr>\n",
       "    <tr>\n",
       "      <th>28</th>\n",
       "      <td>Iraq</td>\n",
       "      <td>763085</td>\n",
       "      <td>4901.0</td>\n",
       "      <td>13788</td>\n",
       "      <td>37.0</td>\n",
       "      <td>690620</td>\n",
       "      <td>4850.0</td>\n",
       "      <td>58677.0</td>\n",
       "      <td>40852352</td>\n",
       "      <td>Asia</td>\n",
       "    </tr>\n",
       "    <tr>\n",
       "      <th>29</th>\n",
       "      <td>Sweden</td>\n",
       "      <td>712527</td>\n",
       "      <td>-1.0</td>\n",
       "      <td>13146</td>\n",
       "      <td>-1.0</td>\n",
       "      <td>0</td>\n",
       "      <td>0.0</td>\n",
       "      <td>0.0</td>\n",
       "      <td>10143554</td>\n",
       "      <td>Europe</td>\n",
       "    </tr>\n",
       "    <tr>\n",
       "      <th>30</th>\n",
       "      <td>Philippines</td>\n",
       "      <td>626893</td>\n",
       "      <td>5404.0</td>\n",
       "      <td>12837</td>\n",
       "      <td>8.0</td>\n",
       "      <td>560577</td>\n",
       "      <td>71.0</td>\n",
       "      <td>53479.0</td>\n",
       "      <td>110603486</td>\n",
       "      <td>Asia</td>\n",
       "    </tr>\n",
       "    <tr>\n",
       "      <th>31</th>\n",
       "      <td>Pakistan</td>\n",
       "      <td>607453</td>\n",
       "      <td>2253.0</td>\n",
       "      <td>13537</td>\n",
       "      <td>29.0</td>\n",
       "      <td>571878</td>\n",
       "      <td>1307.0</td>\n",
       "      <td>22038.0</td>\n",
       "      <td>223890015</td>\n",
       "      <td>Asia</td>\n",
       "    </tr>\n",
       "    <tr>\n",
       "      <th>32</th>\n",
       "      <td>Switzerland</td>\n",
       "      <td>573815</td>\n",
       "      <td>3170.0</td>\n",
       "      <td>10118</td>\n",
       "      <td>6.0</td>\n",
       "      <td>530686</td>\n",
       "      <td>-1.0</td>\n",
       "      <td>33011.0</td>\n",
       "      <td>8699113</td>\n",
       "      <td>Europe</td>\n",
       "    </tr>\n",
       "    <tr>\n",
       "      <th>33</th>\n",
       "      <td>Bangladesh</td>\n",
       "      <td>559168</td>\n",
       "      <td>1773.0</td>\n",
       "      <td>8571</td>\n",
       "      <td>26.0</td>\n",
       "      <td>513127</td>\n",
       "      <td>1432.0</td>\n",
       "      <td>37470.0</td>\n",
       "      <td>165841372</td>\n",
       "      <td>Asia</td>\n",
       "    </tr>\n",
       "    <tr>\n",
       "      <th>34</th>\n",
       "      <td>Hungary</td>\n",
       "      <td>524196</td>\n",
       "      <td>7706.0</td>\n",
       "      <td>17083</td>\n",
       "      <td>131.0</td>\n",
       "      <td>354817</td>\n",
       "      <td>2926.0</td>\n",
       "      <td>152296.0</td>\n",
       "      <td>9643036</td>\n",
       "      <td>Europe</td>\n",
       "    </tr>\n",
       "    <tr>\n",
       "      <th>35</th>\n",
       "      <td>Serbia</td>\n",
       "      <td>520911</td>\n",
       "      <td>4634.0</td>\n",
       "      <td>4747</td>\n",
       "      <td>28.0</td>\n",
       "      <td>445182</td>\n",
       "      <td>-1.0</td>\n",
       "      <td>70982.0</td>\n",
       "      <td>8712513</td>\n",
       "      <td>Europe</td>\n",
       "    </tr>\n",
       "    <tr>\n",
       "      <th>36</th>\n",
       "      <td>Austria</td>\n",
       "      <td>495464</td>\n",
       "      <td>1896.0</td>\n",
       "      <td>8892</td>\n",
       "      <td>19.0</td>\n",
       "      <td>459288</td>\n",
       "      <td>2022.0</td>\n",
       "      <td>27284.0</td>\n",
       "      <td>9042548</td>\n",
       "      <td>Europe</td>\n",
       "    </tr>\n",
       "    <tr>\n",
       "      <th>37</th>\n",
       "      <td>Morocco</td>\n",
       "      <td>489096</td>\n",
       "      <td>159.0</td>\n",
       "      <td>8733</td>\n",
       "      <td>10.0</td>\n",
       "      <td>476126</td>\n",
       "      <td>277.0</td>\n",
       "      <td>4237.0</td>\n",
       "      <td>37217457</td>\n",
       "      <td>Africa</td>\n",
       "    </tr>\n",
       "    <tr>\n",
       "      <th>38</th>\n",
       "      <td>Jordan</td>\n",
       "      <td>486470</td>\n",
       "      <td>9417.0</td>\n",
       "      <td>5428</td>\n",
       "      <td>82.0</td>\n",
       "      <td>401319</td>\n",
       "      <td>5124.0</td>\n",
       "      <td>79723.0</td>\n",
       "      <td>10274252</td>\n",
       "      <td>Asia</td>\n",
       "    </tr>\n",
       "    <tr>\n",
       "      <th>39</th>\n",
       "      <td>Japan</td>\n",
       "      <td>447906</td>\n",
       "      <td>1033.0</td>\n",
       "      <td>8590</td>\n",
       "      <td>30.0</td>\n",
       "      <td>426686</td>\n",
       "      <td>1023.0</td>\n",
       "      <td>12630.0</td>\n",
       "      <td>126203100</td>\n",
       "      <td>Asia</td>\n",
       "    </tr>\n",
       "    <tr>\n",
       "      <th>40</th>\n",
       "      <td>UAE</td>\n",
       "      <td>428295</td>\n",
       "      <td>1898.0</td>\n",
       "      <td>1402</td>\n",
       "      <td>7.0</td>\n",
       "      <td>408085</td>\n",
       "      <td>2438.0</td>\n",
       "      <td>18808.0</td>\n",
       "      <td>9974219</td>\n",
       "      <td>Asia</td>\n",
       "    </tr>\n",
       "    <tr>\n",
       "      <th>41</th>\n",
       "      <td>Lebanon</td>\n",
       "      <td>419953</td>\n",
       "      <td>1505.0</td>\n",
       "      <td>5422</td>\n",
       "      <td>42.0</td>\n",
       "      <td>331506</td>\n",
       "      <td>2800.0</td>\n",
       "      <td>83025.0</td>\n",
       "      <td>6803853</td>\n",
       "      <td>Asia</td>\n",
       "    </tr>\n",
       "    <tr>\n",
       "      <th>42</th>\n",
       "      <td>Saudi Arabia</td>\n",
       "      <td>382752</td>\n",
       "      <td>345.0</td>\n",
       "      <td>6573</td>\n",
       "      <td>6.0</td>\n",
       "      <td>372926</td>\n",
       "      <td>223.0</td>\n",
       "      <td>3253.0</td>\n",
       "      <td>35193520</td>\n",
       "      <td>Asia</td>\n",
       "    </tr>\n",
       "    <tr>\n",
       "      <th>43</th>\n",
       "      <td>Panama</td>\n",
       "      <td>348155</td>\n",
       "      <td>236.0</td>\n",
       "      <td>6005</td>\n",
       "      <td>11.0</td>\n",
       "      <td>336277</td>\n",
       "      <td>427.0</td>\n",
       "      <td>5873.0</td>\n",
       "      <td>4362324</td>\n",
       "      <td>North America</td>\n",
       "    </tr>\n",
       "    <tr>\n",
       "      <th>44</th>\n",
       "      <td>Slovakia</td>\n",
       "      <td>337960</td>\n",
       "      <td>457.0</td>\n",
       "      <td>8605</td>\n",
       "      <td>77.0</td>\n",
       "      <td>255300</td>\n",
       "      <td>-1.0</td>\n",
       "      <td>74055.0</td>\n",
       "      <td>5461506</td>\n",
       "      <td>Europe</td>\n",
       "    </tr>\n",
       "    <tr>\n",
       "      <th>45</th>\n",
       "      <td>Malaysia</td>\n",
       "      <td>324971</td>\n",
       "      <td>1208.0</td>\n",
       "      <td>1213</td>\n",
       "      <td>3.0</td>\n",
       "      <td>308247</td>\n",
       "      <td>1973.0</td>\n",
       "      <td>15511.0</td>\n",
       "      <td>32656763</td>\n",
       "      <td>Asia</td>\n",
       "    </tr>\n",
       "    <tr>\n",
       "      <th>46</th>\n",
       "      <td>Belarus</td>\n",
       "      <td>303270</td>\n",
       "      <td>947.0</td>\n",
       "      <td>2103</td>\n",
       "      <td>8.0</td>\n",
       "      <td>294143</td>\n",
       "      <td>658.0</td>\n",
       "      <td>7024.0</td>\n",
       "      <td>9447131</td>\n",
       "      <td>Europe</td>\n",
       "    </tr>\n",
       "    <tr>\n",
       "      <th>47</th>\n",
       "      <td>Ecuador</td>\n",
       "      <td>302498</td>\n",
       "      <td>277.0</td>\n",
       "      <td>16240</td>\n",
       "      <td>4.0</td>\n",
       "      <td>263164</td>\n",
       "      <td>-1.0</td>\n",
       "      <td>23094.0</td>\n",
       "      <td>17830687</td>\n",
       "      <td>South America</td>\n",
       "    </tr>\n",
       "    <tr>\n",
       "      <th>48</th>\n",
       "      <td>Bulgaria</td>\n",
       "      <td>283194</td>\n",
       "      <td>4637.0</td>\n",
       "      <td>11472</td>\n",
       "      <td>187.0</td>\n",
       "      <td>227059</td>\n",
       "      <td>1877.0</td>\n",
       "      <td>44663.0</td>\n",
       "      <td>6911451</td>\n",
       "      <td>Europe</td>\n",
       "    </tr>\n",
       "    <tr>\n",
       "      <th>49</th>\n",
       "      <td>Nepal</td>\n",
       "      <td>275310</td>\n",
       "      <td>79.0</td>\n",
       "      <td>3014</td>\n",
       "      <td>-1.0</td>\n",
       "      <td>271401</td>\n",
       "      <td>75.0</td>\n",
       "      <td>895.0</td>\n",
       "      <td>29503331</td>\n",
       "      <td>Asia</td>\n",
       "    </tr>\n",
       "    <tr>\n",
       "      <th>50</th>\n",
       "      <td>Georgia</td>\n",
       "      <td>275148</td>\n",
       "      <td>159.0</td>\n",
       "      <td>3650</td>\n",
       "      <td>2.0</td>\n",
       "      <td>268565</td>\n",
       "      <td>328.0</td>\n",
       "      <td>2933.0</td>\n",
       "      <td>3983763</td>\n",
       "      <td>Asia</td>\n",
       "    </tr>\n",
       "    <tr>\n",
       "      <th>51</th>\n",
       "      <td>Bolivia</td>\n",
       "      <td>259389</td>\n",
       "      <td>385.0</td>\n",
       "      <td>11958</td>\n",
       "      <td>14.0</td>\n",
       "      <td>204813</td>\n",
       "      <td>602.0</td>\n",
       "      <td>42618.0</td>\n",
       "      <td>11784623</td>\n",
       "      <td>South America</td>\n",
       "    </tr>\n",
       "    <tr>\n",
       "      <th>52</th>\n",
       "      <td>Croatia</td>\n",
       "      <td>251174</td>\n",
       "      <td>129.0</td>\n",
       "      <td>5685</td>\n",
       "      <td>8.0</td>\n",
       "      <td>241147</td>\n",
       "      <td>583.0</td>\n",
       "      <td>4342.0</td>\n",
       "      <td>4087371</td>\n",
       "      <td>Europe</td>\n",
       "    </tr>\n",
       "    <tr>\n",
       "      <th>53</th>\n",
       "      <td>Dominican Republic</td>\n",
       "      <td>246299</td>\n",
       "      <td>254.0</td>\n",
       "      <td>3226</td>\n",
       "      <td>4.0</td>\n",
       "      <td>202547</td>\n",
       "      <td>485.0</td>\n",
       "      <td>40526.0</td>\n",
       "      <td>10924285</td>\n",
       "      <td>North America</td>\n",
       "    </tr>\n",
       "    <tr>\n",
       "      <th>54</th>\n",
       "      <td>Tunisia</td>\n",
       "      <td>242124</td>\n",
       "      <td>290.0</td>\n",
       "      <td>8404</td>\n",
       "      <td>15.0</td>\n",
       "      <td>209166</td>\n",
       "      <td>1480.0</td>\n",
       "      <td>24554.0</td>\n",
       "      <td>11905426</td>\n",
       "      <td>Africa</td>\n",
       "    </tr>\n",
       "    <tr>\n",
       "      <th>55</th>\n",
       "      <td>Azerbaijan</td>\n",
       "      <td>240671</td>\n",
       "      <td>376.0</td>\n",
       "      <td>3286</td>\n",
       "      <td>4.0</td>\n",
       "      <td>231061</td>\n",
       "      <td>101.0</td>\n",
       "      <td>6324.0</td>\n",
       "      <td>10203370</td>\n",
       "      <td>Asia</td>\n",
       "    </tr>\n",
       "    <tr>\n",
       "      <th>56</th>\n",
       "      <td>Ireland</td>\n",
       "      <td>227316</td>\n",
       "      <td>575.0</td>\n",
       "      <td>4534</td>\n",
       "      <td>-1.0</td>\n",
       "      <td>23364</td>\n",
       "      <td>-1.0</td>\n",
       "      <td>199418.0</td>\n",
       "      <td>4976490</td>\n",
       "      <td>Europe</td>\n",
       "    </tr>\n",
       "    <tr>\n",
       "      <th>57</th>\n",
       "      <td>Kazakhstan</td>\n",
       "      <td>224731</td>\n",
       "      <td>1011.0</td>\n",
       "      <td>2856</td>\n",
       "      <td>5.0</td>\n",
       "      <td>206832</td>\n",
       "      <td>683.0</td>\n",
       "      <td>15043.0</td>\n",
       "      <td>18934250</td>\n",
       "      <td>Asia</td>\n",
       "    </tr>\n",
       "    <tr>\n",
       "      <th>58</th>\n",
       "      <td>Greece</td>\n",
       "      <td>222281</td>\n",
       "      <td>1134.0</td>\n",
       "      <td>7137</td>\n",
       "      <td>46.0</td>\n",
       "      <td>190188</td>\n",
       "      <td>2644.0</td>\n",
       "      <td>24956.0</td>\n",
       "      <td>10387083</td>\n",
       "      <td>Europe</td>\n",
       "    </tr>\n",
       "    <tr>\n",
       "      <th>59</th>\n",
       "      <td>Denmark</td>\n",
       "      <td>221071</td>\n",
       "      <td>612.0</td>\n",
       "      <td>2393</td>\n",
       "      <td>2.0</td>\n",
       "      <td>210114</td>\n",
       "      <td>512.0</td>\n",
       "      <td>8564.0</td>\n",
       "      <td>5806564</td>\n",
       "      <td>Europe</td>\n",
       "    </tr>\n",
       "    <tr>\n",
       "      <th>60</th>\n",
       "      <td>Palestine</td>\n",
       "      <td>211602</td>\n",
       "      <td>2298.0</td>\n",
       "      <td>2293</td>\n",
       "      <td>25.0</td>\n",
       "      <td>187634</td>\n",
       "      <td>1356.0</td>\n",
       "      <td>21675.0</td>\n",
       "      <td>5184135</td>\n",
       "      <td>Asia</td>\n",
       "    </tr>\n",
       "    <tr>\n",
       "      <th>61</th>\n",
       "      <td>Kuwait</td>\n",
       "      <td>210855</td>\n",
       "      <td>1332.0</td>\n",
       "      <td>1179</td>\n",
       "      <td>7.0</td>\n",
       "      <td>195507</td>\n",
       "      <td>1335.0</td>\n",
       "      <td>14169.0</td>\n",
       "      <td>4314813</td>\n",
       "      <td>Asia</td>\n",
       "    </tr>\n",
       "    <tr>\n",
       "      <th>62</th>\n",
       "      <td>Costa Rica</td>\n",
       "      <td>209093</td>\n",
       "      <td>-1.0</td>\n",
       "      <td>2862</td>\n",
       "      <td>-1.0</td>\n",
       "      <td>188967</td>\n",
       "      <td>-1.0</td>\n",
       "      <td>17264.0</td>\n",
       "      <td>5126791</td>\n",
       "      <td>North America</td>\n",
       "    </tr>\n",
       "    <tr>\n",
       "      <th>63</th>\n",
       "      <td>Lithuania</td>\n",
       "      <td>205644</td>\n",
       "      <td>249.0</td>\n",
       "      <td>3410</td>\n",
       "      <td>12.0</td>\n",
       "      <td>191324</td>\n",
       "      <td>47.0</td>\n",
       "      <td>10910.0</td>\n",
       "      <td>2695360</td>\n",
       "      <td>Europe</td>\n",
       "    </tr>\n",
       "    <tr>\n",
       "      <th>64</th>\n",
       "      <td>Moldova</td>\n",
       "      <td>205324</td>\n",
       "      <td>861.0</td>\n",
       "      <td>4369</td>\n",
       "      <td>39.0</td>\n",
       "      <td>179474</td>\n",
       "      <td>1152.0</td>\n",
       "      <td>21481.0</td>\n",
       "      <td>4027346</td>\n",
       "      <td>Europe</td>\n",
       "    </tr>\n",
       "    <tr>\n",
       "      <th>65</th>\n",
       "      <td>Slovenia</td>\n",
       "      <td>200579</td>\n",
       "      <td>205.0</td>\n",
       "      <td>3938</td>\n",
       "      <td>4.0</td>\n",
       "      <td>186386</td>\n",
       "      <td>239.0</td>\n",
       "      <td>10255.0</td>\n",
       "      <td>2079139</td>\n",
       "      <td>Europe</td>\n",
       "    </tr>\n",
       "    <tr>\n",
       "      <th>66</th>\n",
       "      <td>Egypt</td>\n",
       "      <td>191555</td>\n",
       "      <td>631.0</td>\n",
       "      <td>11340</td>\n",
       "      <td>40.0</td>\n",
       "      <td>147767</td>\n",
       "      <td>533.0</td>\n",
       "      <td>32448.0</td>\n",
       "      <td>103683741</td>\n",
       "      <td>Africa</td>\n",
       "    </tr>\n",
       "    <tr>\n",
       "      <th>67</th>\n",
       "      <td>Guatemala</td>\n",
       "      <td>183014</td>\n",
       "      <td>133.0</td>\n",
       "      <td>6578</td>\n",
       "      <td>10.0</td>\n",
       "      <td>168627</td>\n",
       "      <td>289.0</td>\n",
       "      <td>7809.0</td>\n",
       "      <td>18147294</td>\n",
       "      <td>North America</td>\n",
       "    </tr>\n",
       "    <tr>\n",
       "      <th>68</th>\n",
       "      <td>Paraguay</td>\n",
       "      <td>181414</td>\n",
       "      <td>1400.0</td>\n",
       "      <td>3517</td>\n",
       "      <td>41.0</td>\n",
       "      <td>150870</td>\n",
       "      <td>1441.0</td>\n",
       "      <td>27027.0</td>\n",
       "      <td>7193985</td>\n",
       "      <td>South America</td>\n",
       "    </tr>\n",
       "    <tr>\n",
       "      <th>69</th>\n",
       "      <td>Armenia</td>\n",
       "      <td>178702</td>\n",
       "      <td>317.0</td>\n",
       "      <td>3265</td>\n",
       "      <td>10.0</td>\n",
       "      <td>166410</td>\n",
       "      <td>230.0</td>\n",
       "      <td>9027.0</td>\n",
       "      <td>2967146</td>\n",
       "      <td>Asia</td>\n",
       "    </tr>\n",
       "    <tr>\n",
       "      <th>70</th>\n",
       "      <td>Honduras</td>\n",
       "      <td>178277</td>\n",
       "      <td>445.0</td>\n",
       "      <td>4334</td>\n",
       "      <td>3.0</td>\n",
       "      <td>68678</td>\n",
       "      <td>26.0</td>\n",
       "      <td>105265.0</td>\n",
       "      <td>10014896</td>\n",
       "      <td>North America</td>\n",
       "    </tr>\n",
       "    <tr>\n",
       "      <th>71</th>\n",
       "      <td>Ethiopia</td>\n",
       "      <td>176618</td>\n",
       "      <td>1151.0</td>\n",
       "      <td>2555</td>\n",
       "      <td>5.0</td>\n",
       "      <td>143828</td>\n",
       "      <td>118.0</td>\n",
       "      <td>30235.0</td>\n",
       "      <td>116948417</td>\n",
       "      <td>Africa</td>\n",
       "    </tr>\n",
       "    <tr>\n",
       "      <th>72</th>\n",
       "      <td>Qatar</td>\n",
       "      <td>170733</td>\n",
       "      <td>481.0</td>\n",
       "      <td>267</td>\n",
       "      <td>1.0</td>\n",
       "      <td>158508</td>\n",
       "      <td>311.0</td>\n",
       "      <td>11958.0</td>\n",
       "      <td>2807805</td>\n",
       "      <td>Asia</td>\n",
       "    </tr>\n",
       "    <tr>\n",
       "      <th>73</th>\n",
       "      <td>Nigeria</td>\n",
       "      <td>160895</td>\n",
       "      <td>238.0</td>\n",
       "      <td>2016</td>\n",
       "      <td>3.0</td>\n",
       "      <td>145752</td>\n",
       "      <td>353.0</td>\n",
       "      <td>13127.0</td>\n",
       "      <td>209700684</td>\n",
       "      <td>Africa</td>\n",
       "    </tr>\n",
       "    <tr>\n",
       "      <th>74</th>\n",
       "      <td>Oman</td>\n",
       "      <td>147423</td>\n",
       "      <td>556.0</td>\n",
       "      <td>1609</td>\n",
       "      <td>1.0</td>\n",
       "      <td>136770</td>\n",
       "      <td>341.0</td>\n",
       "      <td>9044.0</td>\n",
       "      <td>5197118</td>\n",
       "      <td>Asia</td>\n",
       "    </tr>\n",
       "    <tr>\n",
       "      <th>75</th>\n",
       "      <td>Venezuela</td>\n",
       "      <td>146488</td>\n",
       "      <td>535.0</td>\n",
       "      <td>1444</td>\n",
       "      <td>7.0</td>\n",
       "      <td>137948</td>\n",
       "      <td>383.0</td>\n",
       "      <td>7096.0</td>\n",
       "      <td>28379060</td>\n",
       "      <td>South America</td>\n",
       "    </tr>\n",
       "    <tr>\n",
       "      <th>76</th>\n",
       "      <td>Libya</td>\n",
       "      <td>146080</td>\n",
       "      <td>1087.0</td>\n",
       "      <td>2402</td>\n",
       "      <td>16.0</td>\n",
       "      <td>132697</td>\n",
       "      <td>919.0</td>\n",
       "      <td>10981.0</td>\n",
       "      <td>6936782</td>\n",
       "      <td>Africa</td>\n",
       "    </tr>\n",
       "    <tr>\n",
       "      <th>77</th>\n",
       "      <td>Bosnia and Herzegovina</td>\n",
       "      <td>144831</td>\n",
       "      <td>582.0</td>\n",
       "      <td>5584</td>\n",
       "      <td>63.0</td>\n",
       "      <td>121441</td>\n",
       "      <td>1283.0</td>\n",
       "      <td>17806.0</td>\n",
       "      <td>3266393</td>\n",
       "      <td>Europe</td>\n",
       "    </tr>\n",
       "    <tr>\n",
       "      <th>78</th>\n",
       "      <td>Myanmar</td>\n",
       "      <td>142147</td>\n",
       "      <td>-1.0</td>\n",
       "      <td>3202</td>\n",
       "      <td>-1.0</td>\n",
       "      <td>131739</td>\n",
       "      <td>-1.0</td>\n",
       "      <td>7206.0</td>\n",
       "      <td>54666275</td>\n",
       "      <td>Asia</td>\n",
       "    </tr>\n",
       "    <tr>\n",
       "      <th>79</th>\n",
       "      <td>Bahrain</td>\n",
       "      <td>131683</td>\n",
       "      <td>682.0</td>\n",
       "      <td>485</td>\n",
       "      <td>1.0</td>\n",
       "      <td>124823</td>\n",
       "      <td>456.0</td>\n",
       "      <td>6375.0</td>\n",
       "      <td>1742586</td>\n",
       "      <td>Asia</td>\n",
       "    </tr>\n",
       "    <tr>\n",
       "      <th>80</th>\n",
       "      <td>Albania</td>\n",
       "      <td>118017</td>\n",
       "      <td>543.0</td>\n",
       "      <td>2060</td>\n",
       "      <td>15.0</td>\n",
       "      <td>81061</td>\n",
       "      <td>578.0</td>\n",
       "      <td>34896.0</td>\n",
       "      <td>2875580</td>\n",
       "      <td>Europe</td>\n",
       "    </tr>\n",
       "    <tr>\n",
       "      <th>81</th>\n",
       "      <td>Algeria</td>\n",
       "      <td>115410</td>\n",
       "      <td>145.0</td>\n",
       "      <td>3040</td>\n",
       "      <td>4.0</td>\n",
       "      <td>79994</td>\n",
       "      <td>107.0</td>\n",
       "      <td>32376.0</td>\n",
       "      <td>44404834</td>\n",
       "      <td>Africa</td>\n",
       "    </tr>\n",
       "    <tr>\n",
       "      <th>82</th>\n",
       "      <td>Kenya</td>\n",
       "      <td>113967</td>\n",
       "      <td>731.0</td>\n",
       "      <td>1918</td>\n",
       "      <td>5.0</td>\n",
       "      <td>88596</td>\n",
       "      <td>191.0</td>\n",
       "      <td>23453.0</td>\n",
       "      <td>54598005</td>\n",
       "      <td>Africa</td>\n",
       "    </tr>\n",
       "    <tr>\n",
       "      <th>83</th>\n",
       "      <td>North Macedonia</td>\n",
       "      <td>112930</td>\n",
       "      <td>284.0</td>\n",
       "      <td>3340</td>\n",
       "      <td>21.0</td>\n",
       "      <td>98133</td>\n",
       "      <td>446.0</td>\n",
       "      <td>11457.0</td>\n",
       "      <td>2083314</td>\n",
       "      <td>Europe</td>\n",
       "    </tr>\n",
       "    <tr>\n",
       "      <th>84</th>\n",
       "      <td>S. Korea</td>\n",
       "      <td>96017</td>\n",
       "      <td>382.0</td>\n",
       "      <td>1675</td>\n",
       "      <td>6.0</td>\n",
       "      <td>87754</td>\n",
       "      <td>346.0</td>\n",
       "      <td>6588.0</td>\n",
       "      <td>51300288</td>\n",
       "      <td>Asia</td>\n",
       "    </tr>\n",
       "    <tr>\n",
       "      <th>85</th>\n",
       "      <td>Latvia</td>\n",
       "      <td>93959</td>\n",
       "      <td>178.0</td>\n",
       "      <td>1769</td>\n",
       "      <td>2.0</td>\n",
       "      <td>84837</td>\n",
       "      <td>269.0</td>\n",
       "      <td>7353.0</td>\n",
       "      <td>1871429</td>\n",
       "      <td>Europe</td>\n",
       "    </tr>\n",
       "    <tr>\n",
       "      <th>86</th>\n",
       "      <td>Sri Lanka</td>\n",
       "      <td>88238</td>\n",
       "      <td>331.0</td>\n",
       "      <td>532</td>\n",
       "      <td>5.0</td>\n",
       "      <td>84969</td>\n",
       "      <td>321.0</td>\n",
       "      <td>2737.0</td>\n",
       "      <td>21476449</td>\n",
       "      <td>Asia</td>\n",
       "    </tr>\n",
       "    <tr>\n",
       "      <th>87</th>\n",
       "      <td>Ghana</td>\n",
       "      <td>87985</td>\n",
       "      <td>223.0</td>\n",
       "      <td>691</td>\n",
       "      <td>6.0</td>\n",
       "      <td>83621</td>\n",
       "      <td>452.0</td>\n",
       "      <td>3673.0</td>\n",
       "      <td>31525924</td>\n",
       "      <td>Africa</td>\n",
       "    </tr>\n",
       "    <tr>\n",
       "      <th>88</th>\n",
       "      <td>Kyrgyzstan</td>\n",
       "      <td>86917</td>\n",
       "      <td>67.0</td>\n",
       "      <td>1483</td>\n",
       "      <td>2.0</td>\n",
       "      <td>83875</td>\n",
       "      <td>39.0</td>\n",
       "      <td>1559.0</td>\n",
       "      <td>6599533</td>\n",
       "      <td>Asia</td>\n",
       "    </tr>\n",
       "    <tr>\n",
       "      <th>89</th>\n",
       "      <td>Estonia</td>\n",
       "      <td>86086</td>\n",
       "      <td>1281.0</td>\n",
       "      <td>728</td>\n",
       "      <td>9.0</td>\n",
       "      <td>60007</td>\n",
       "      <td>263.0</td>\n",
       "      <td>25351.0</td>\n",
       "      <td>1327164</td>\n",
       "      <td>Europe</td>\n",
       "    </tr>\n",
       "    <tr>\n",
       "      <th>90</th>\n",
       "      <td>Zambia</td>\n",
       "      <td>84950</td>\n",
       "      <td>153.0</td>\n",
       "      <td>1164</td>\n",
       "      <td>6.0</td>\n",
       "      <td>82375</td>\n",
       "      <td>619.0</td>\n",
       "      <td>1411.0</td>\n",
       "      <td>18742215</td>\n",
       "      <td>Africa</td>\n",
       "    </tr>\n",
       "    <tr>\n",
       "      <th>91</th>\n",
       "      <td>Montenegro</td>\n",
       "      <td>84163</td>\n",
       "      <td>470.0</td>\n",
       "      <td>1136</td>\n",
       "      <td>7.0</td>\n",
       "      <td>74290</td>\n",
       "      <td>679.0</td>\n",
       "      <td>8737.0</td>\n",
       "      <td>628122</td>\n",
       "      <td>Europe</td>\n",
       "    </tr>\n",
       "    <tr>\n",
       "      <th>92</th>\n",
       "      <td>Norway</td>\n",
       "      <td>81305</td>\n",
       "      <td>865.0</td>\n",
       "      <td>640</td>\n",
       "      <td>1.0</td>\n",
       "      <td>70224</td>\n",
       "      <td>-1.0</td>\n",
       "      <td>10441.0</td>\n",
       "      <td>5451033</td>\n",
       "      <td>Europe</td>\n",
       "    </tr>\n",
       "    <tr>\n",
       "      <th>93</th>\n",
       "      <td>Uzbekistan</td>\n",
       "      <td>80678</td>\n",
       "      <td>111.0</td>\n",
       "      <td>622</td>\n",
       "      <td>-1.0</td>\n",
       "      <td>79331</td>\n",
       "      <td>89.0</td>\n",
       "      <td>725.0</td>\n",
       "      <td>33809036</td>\n",
       "      <td>Asia</td>\n",
       "    </tr>\n",
       "    <tr>\n",
       "      <th>94</th>\n",
       "      <td>Uruguay</td>\n",
       "      <td>72862</td>\n",
       "      <td>1171.0</td>\n",
       "      <td>717</td>\n",
       "      <td>5.0</td>\n",
       "      <td>61609</td>\n",
       "      <td>1092.0</td>\n",
       "      <td>10536.0</td>\n",
       "      <td>3482207</td>\n",
       "      <td>South America</td>\n",
       "    </tr>\n",
       "    <tr>\n",
       "      <th>95</th>\n",
       "      <td>Finland</td>\n",
       "      <td>67334</td>\n",
       "      <td>465.0</td>\n",
       "      <td>800</td>\n",
       "      <td>14.0</td>\n",
       "      <td>46000</td>\n",
       "      <td>-1.0</td>\n",
       "      <td>20534.0</td>\n",
       "      <td>5546786</td>\n",
       "      <td>Europe</td>\n",
       "    </tr>\n",
       "    <tr>\n",
       "      <th>96</th>\n",
       "      <td>Mozambique</td>\n",
       "      <td>64516</td>\n",
       "      <td>-1.0</td>\n",
       "      <td>725</td>\n",
       "      <td>-1.0</td>\n",
       "      <td>50380</td>\n",
       "      <td>-1.0</td>\n",
       "      <td>13411.0</td>\n",
       "      <td>31864760</td>\n",
       "      <td>Africa</td>\n",
       "    </tr>\n",
       "    <tr>\n",
       "      <th>97</th>\n",
       "      <td>El Salvador</td>\n",
       "      <td>62377</td>\n",
       "      <td>148.0</td>\n",
       "      <td>1954</td>\n",
       "      <td>4.0</td>\n",
       "      <td>59339</td>\n",
       "      <td>214.0</td>\n",
       "      <td>1084.0</td>\n",
       "      <td>6509234</td>\n",
       "      <td>North America</td>\n",
       "    </tr>\n",
       "    <tr>\n",
       "      <th>98</th>\n",
       "      <td>Cuba</td>\n",
       "      <td>62206</td>\n",
       "      <td>734.0</td>\n",
       "      <td>373</td>\n",
       "      <td>3.0</td>\n",
       "      <td>57550</td>\n",
       "      <td>795.0</td>\n",
       "      <td>4283.0</td>\n",
       "      <td>11321740</td>\n",
       "      <td>North America</td>\n",
       "    </tr>\n",
       "    <tr>\n",
       "      <th>99</th>\n",
       "      <td>Singapore</td>\n",
       "      <td>60117</td>\n",
       "      <td>12.0</td>\n",
       "      <td>30</td>\n",
       "      <td>-1.0</td>\n",
       "      <td>59974</td>\n",
       "      <td>6.0</td>\n",
       "      <td>113.0</td>\n",
       "      <td>5882677</td>\n",
       "      <td>Asia</td>\n",
       "    </tr>\n",
       "    <tr>\n",
       "      <th>100</th>\n",
       "      <td>Luxembourg</td>\n",
       "      <td>57926</td>\n",
       "      <td>49.0</td>\n",
       "      <td>693</td>\n",
       "      <td>4.0</td>\n",
       "      <td>54481</td>\n",
       "      <td>540.0</td>\n",
       "      <td>2752.0</td>\n",
       "      <td>633107</td>\n",
       "      <td>Europe</td>\n",
       "    </tr>\n",
       "    <tr>\n",
       "      <th>101</th>\n",
       "      <td>Afghanistan</td>\n",
       "      <td>55995</td>\n",
       "      <td>23.0</td>\n",
       "      <td>2460</td>\n",
       "      <td>1.0</td>\n",
       "      <td>49481</td>\n",
       "      <td>4.0</td>\n",
       "      <td>4054.0</td>\n",
       "      <td>39540117</td>\n",
       "      <td>Asia</td>\n",
       "    </tr>\n",
       "    <tr>\n",
       "      <th>102</th>\n",
       "      <td>Namibia</td>\n",
       "      <td>41424</td>\n",
       "      <td>224.0</td>\n",
       "      <td>465</td>\n",
       "      <td>7.0</td>\n",
       "      <td>38514</td>\n",
       "      <td>44.0</td>\n",
       "      <td>2445.0</td>\n",
       "      <td>2573086</td>\n",
       "      <td>Africa</td>\n",
       "    </tr>\n",
       "    <tr>\n",
       "      <th>103</th>\n",
       "      <td>Cameroon</td>\n",
       "      <td>40622</td>\n",
       "      <td>-1.0</td>\n",
       "      <td>601</td>\n",
       "      <td>-1.0</td>\n",
       "      <td>35261</td>\n",
       "      <td>-1.0</td>\n",
       "      <td>4760.0</td>\n",
       "      <td>27006405</td>\n",
       "      <td>Africa</td>\n",
       "    </tr>\n",
       "    <tr>\n",
       "      <th>104</th>\n",
       "      <td>Uganda</td>\n",
       "      <td>40591</td>\n",
       "      <td>10.0</td>\n",
       "      <td>334</td>\n",
       "      <td>-1.0</td>\n",
       "      <td>15099</td>\n",
       "      <td>4.0</td>\n",
       "      <td>25158.0</td>\n",
       "      <td>46744315</td>\n",
       "      <td>Africa</td>\n",
       "    </tr>\n",
       "    <tr>\n",
       "      <th>105</th>\n",
       "      <td>Cyprus</td>\n",
       "      <td>39869</td>\n",
       "      <td>218.0</td>\n",
       "      <td>240</td>\n",
       "      <td>-1.0</td>\n",
       "      <td>2057</td>\n",
       "      <td>-1.0</td>\n",
       "      <td>37572.0</td>\n",
       "      <td>1213537</td>\n",
       "      <td>Asia</td>\n",
       "    </tr>\n",
       "    <tr>\n",
       "      <th>106</th>\n",
       "      <td>Ivory Coast</td>\n",
       "      <td>37908</td>\n",
       "      <td>255.0</td>\n",
       "      <td>213</td>\n",
       "      <td>2.0</td>\n",
       "      <td>34616</td>\n",
       "      <td>528.0</td>\n",
       "      <td>3079.0</td>\n",
       "      <td>26833559</td>\n",
       "      <td>Africa</td>\n",
       "    </tr>\n",
       "    <tr>\n",
       "      <th>107</th>\n",
       "      <td>Senegal</td>\n",
       "      <td>36996</td>\n",
       "      <td>104.0</td>\n",
       "      <td>978</td>\n",
       "      <td>15.0</td>\n",
       "      <td>32765</td>\n",
       "      <td>243.0</td>\n",
       "      <td>3253.0</td>\n",
       "      <td>17051222</td>\n",
       "      <td>Africa</td>\n",
       "    </tr>\n",
       "    <tr>\n",
       "      <th>108</th>\n",
       "      <td>Zimbabwe</td>\n",
       "      <td>36504</td>\n",
       "      <td>20.0</td>\n",
       "      <td>1504</td>\n",
       "      <td>1.0</td>\n",
       "      <td>34051</td>\n",
       "      <td>8.0</td>\n",
       "      <td>949.0</td>\n",
       "      <td>15014503</td>\n",
       "      <td>Africa</td>\n",
       "    </tr>\n",
       "    <tr>\n",
       "      <th>109</th>\n",
       "      <td>Botswana</td>\n",
       "      <td>34999</td>\n",
       "      <td>901.0</td>\n",
       "      <td>447</td>\n",
       "      <td>23.0</td>\n",
       "      <td>29916</td>\n",
       "      <td>1034.0</td>\n",
       "      <td>4636.0</td>\n",
       "      <td>2384799</td>\n",
       "      <td>Africa</td>\n",
       "    </tr>\n",
       "    <tr>\n",
       "      <th>110</th>\n",
       "      <td>Malawi</td>\n",
       "      <td>32864</td>\n",
       "      <td>33.0</td>\n",
       "      <td>1084</td>\n",
       "      <td>1.0</td>\n",
       "      <td>26607</td>\n",
       "      <td>348.0</td>\n",
       "      <td>5173.0</td>\n",
       "      <td>19474308</td>\n",
       "      <td>Africa</td>\n",
       "    </tr>\n",
       "    <tr>\n",
       "      <th>111</th>\n",
       "      <td>Jamaica</td>\n",
       "      <td>31305</td>\n",
       "      <td>806.0</td>\n",
       "      <td>492</td>\n",
       "      <td>7.0</td>\n",
       "      <td>15253</td>\n",
       "      <td>114.0</td>\n",
       "      <td>15560.0</td>\n",
       "      <td>2970264</td>\n",
       "      <td>North America</td>\n",
       "    </tr>\n",
       "    <tr>\n",
       "      <th>112</th>\n",
       "      <td>Sudan</td>\n",
       "      <td>29135</td>\n",
       "      <td>151.0</td>\n",
       "      <td>1959</td>\n",
       "      <td>19.0</td>\n",
       "      <td>23583</td>\n",
       "      <td>186.0</td>\n",
       "      <td>3593.0</td>\n",
       "      <td>44563377</td>\n",
       "      <td>Africa</td>\n",
       "    </tr>\n",
       "    <tr>\n",
       "      <th>113</th>\n",
       "      <td>Australia</td>\n",
       "      <td>29130</td>\n",
       "      <td>13.0</td>\n",
       "      <td>909</td>\n",
       "      <td>-1.0</td>\n",
       "      <td>26230</td>\n",
       "      <td>-1.0</td>\n",
       "      <td>1991.0</td>\n",
       "      <td>25707455</td>\n",
       "      <td>Australia/Oceania</td>\n",
       "    </tr>\n",
       "    <tr>\n",
       "      <th>114</th>\n",
       "      <td>DRC</td>\n",
       "      <td>27077</td>\n",
       "      <td>63.0</td>\n",
       "      <td>717</td>\n",
       "      <td>-1.0</td>\n",
       "      <td>23002</td>\n",
       "      <td>-1.0</td>\n",
       "      <td>3358.0</td>\n",
       "      <td>91453715</td>\n",
       "      <td>Africa</td>\n",
       "    </tr>\n",
       "    <tr>\n",
       "      <th>115</th>\n",
       "      <td>Thailand</td>\n",
       "      <td>27005</td>\n",
       "      <td>78.0</td>\n",
       "      <td>87</td>\n",
       "      <td>1.0</td>\n",
       "      <td>26234</td>\n",
       "      <td>80.0</td>\n",
       "      <td>684.0</td>\n",
       "      <td>69923356</td>\n",
       "      <td>Asia</td>\n",
       "    </tr>\n",
       "    <tr>\n",
       "      <th>116</th>\n",
       "      <td>Malta</td>\n",
       "      <td>26748</td>\n",
       "      <td>213.0</td>\n",
       "      <td>354</td>\n",
       "      <td>3.0</td>\n",
       "      <td>23376</td>\n",
       "      <td>316.0</td>\n",
       "      <td>3018.0</td>\n",
       "      <td>442371</td>\n",
       "      <td>Europe</td>\n",
       "    </tr>\n",
       "    <tr>\n",
       "      <th>117</th>\n",
       "      <td>Maldives</td>\n",
       "      <td>21666</td>\n",
       "      <td>94.0</td>\n",
       "      <td>64</td>\n",
       "      <td>-1.0</td>\n",
       "      <td>19245</td>\n",
       "      <td>150.0</td>\n",
       "      <td>2357.0</td>\n",
       "      <td>547204</td>\n",
       "      <td>Asia</td>\n",
       "    </tr>\n",
       "    <tr>\n",
       "      <th>118</th>\n",
       "      <td>Madagascar</td>\n",
       "      <td>21587</td>\n",
       "      <td>105.0</td>\n",
       "      <td>334</td>\n",
       "      <td>5.0</td>\n",
       "      <td>20494</td>\n",
       "      <td>14.0</td>\n",
       "      <td>759.0</td>\n",
       "      <td>28186960</td>\n",
       "      <td>Africa</td>\n",
       "    </tr>\n",
       "    <tr>\n",
       "      <th>119</th>\n",
       "      <td>Angola</td>\n",
       "      <td>21407</td>\n",
       "      <td>27.0</td>\n",
       "      <td>521</td>\n",
       "      <td>-1.0</td>\n",
       "      <td>19948</td>\n",
       "      <td>98.0</td>\n",
       "      <td>938.0</td>\n",
       "      <td>33576529</td>\n",
       "      <td>Africa</td>\n",
       "    </tr>\n",
       "    <tr>\n",
       "      <th>120</th>\n",
       "      <td>Rwanda</td>\n",
       "      <td>20302</td>\n",
       "      <td>116.0</td>\n",
       "      <td>282</td>\n",
       "      <td>2.0</td>\n",
       "      <td>18635</td>\n",
       "      <td>69.0</td>\n",
       "      <td>1385.0</td>\n",
       "      <td>13176002</td>\n",
       "      <td>Africa</td>\n",
       "    </tr>\n",
       "    <tr>\n",
       "      <th>121</th>\n",
       "      <td>Mayotte</td>\n",
       "      <td>18845</td>\n",
       "      <td>203.0</td>\n",
       "      <td>137</td>\n",
       "      <td>6.0</td>\n",
       "      <td>2964</td>\n",
       "      <td>-1.0</td>\n",
       "      <td>15744.0</td>\n",
       "      <td>277404</td>\n",
       "      <td>Africa</td>\n",
       "    </tr>\n",
       "    <tr>\n",
       "      <th>122</th>\n",
       "      <td>French Polynesia</td>\n",
       "      <td>18546</td>\n",
       "      <td>19.0</td>\n",
       "      <td>141</td>\n",
       "      <td>-1.0</td>\n",
       "      <td>4842</td>\n",
       "      <td>-1.0</td>\n",
       "      <td>13563.0</td>\n",
       "      <td>282050</td>\n",
       "      <td>Australia/Oceania</td>\n",
       "    </tr>\n",
       "    <tr>\n",
       "      <th>123</th>\n",
       "      <td>Guinea</td>\n",
       "      <td>17851</td>\n",
       "      <td>-1.0</td>\n",
       "      <td>103</td>\n",
       "      <td>-1.0</td>\n",
       "      <td>15597</td>\n",
       "      <td>-1.0</td>\n",
       "      <td>2151.0</td>\n",
       "      <td>13380782</td>\n",
       "      <td>Africa</td>\n",
       "    </tr>\n",
       "    <tr>\n",
       "      <th>124</th>\n",
       "      <td>Mauritania</td>\n",
       "      <td>17457</td>\n",
       "      <td>19.0</td>\n",
       "      <td>444</td>\n",
       "      <td>-1.0</td>\n",
       "      <td>16789</td>\n",
       "      <td>17.0</td>\n",
       "      <td>224.0</td>\n",
       "      <td>4734777</td>\n",
       "      <td>Africa</td>\n",
       "    </tr>\n",
       "    <tr>\n",
       "      <th>125</th>\n",
       "      <td>Eswatini</td>\n",
       "      <td>17239</td>\n",
       "      <td>2.0</td>\n",
       "      <td>663</td>\n",
       "      <td>2.0</td>\n",
       "      <td>15791</td>\n",
       "      <td>43.0</td>\n",
       "      <td>785.0</td>\n",
       "      <td>1168596</td>\n",
       "      <td>Africa</td>\n",
       "    </tr>\n",
       "    <tr>\n",
       "      <th>126</th>\n",
       "      <td>Gabon</td>\n",
       "      <td>16945</td>\n",
       "      <td>285.0</td>\n",
       "      <td>101</td>\n",
       "      <td>5.0</td>\n",
       "      <td>14780</td>\n",
       "      <td>197.0</td>\n",
       "      <td>2064.0</td>\n",
       "      <td>2262361</td>\n",
       "      <td>Africa</td>\n",
       "    </tr>\n",
       "    <tr>\n",
       "      <th>127</th>\n",
       "      <td>French Guiana</td>\n",
       "      <td>16764</td>\n",
       "      <td>-1.0</td>\n",
       "      <td>87</td>\n",
       "      <td>-1.0</td>\n",
       "      <td>9995</td>\n",
       "      <td>-1.0</td>\n",
       "      <td>6682.0</td>\n",
       "      <td>304075</td>\n",
       "      <td>South America</td>\n",
       "    </tr>\n",
       "    <tr>\n",
       "      <th>128</th>\n",
       "      <td>Syria</td>\n",
       "      <td>16556</td>\n",
       "      <td>78.0</td>\n",
       "      <td>1104</td>\n",
       "      <td>5.0</td>\n",
       "      <td>11058</td>\n",
       "      <td>88.0</td>\n",
       "      <td>4394.0</td>\n",
       "      <td>17797049</td>\n",
       "      <td>Asia</td>\n",
       "    </tr>\n",
       "    <tr>\n",
       "      <th>129</th>\n",
       "      <td>Cabo Verde</td>\n",
       "      <td>16120</td>\n",
       "      <td>19.0</td>\n",
       "      <td>156</td>\n",
       "      <td>-1.0</td>\n",
       "      <td>15511</td>\n",
       "      <td>59.0</td>\n",
       "      <td>453.0</td>\n",
       "      <td>560225</td>\n",
       "      <td>Africa</td>\n",
       "    </tr>\n",
       "    <tr>\n",
       "      <th>130</th>\n",
       "      <td>Réunion</td>\n",
       "      <td>13801</td>\n",
       "      <td>-1.0</td>\n",
       "      <td>71</td>\n",
       "      <td>-1.0</td>\n",
       "      <td>12389</td>\n",
       "      <td>-1.0</td>\n",
       "      <td>1341.0</td>\n",
       "      <td>899804</td>\n",
       "      <td>Africa</td>\n",
       "    </tr>\n",
       "    <tr>\n",
       "      <th>131</th>\n",
       "      <td>Haiti</td>\n",
       "      <td>12664</td>\n",
       "      <td>-1.0</td>\n",
       "      <td>250</td>\n",
       "      <td>-1.0</td>\n",
       "      <td>10177</td>\n",
       "      <td>-1.0</td>\n",
       "      <td>2237.0</td>\n",
       "      <td>11500021</td>\n",
       "      <td>North America</td>\n",
       "    </tr>\n",
       "    <tr>\n",
       "      <th>132</th>\n",
       "      <td>Belize</td>\n",
       "      <td>12383</td>\n",
       "      <td>13.0</td>\n",
       "      <td>316</td>\n",
       "      <td>-1.0</td>\n",
       "      <td>12004</td>\n",
       "      <td>17.0</td>\n",
       "      <td>63.0</td>\n",
       "      <td>402676</td>\n",
       "      <td>North America</td>\n",
       "    </tr>\n",
       "    <tr>\n",
       "      <th>133</th>\n",
       "      <td>Burkina Faso</td>\n",
       "      <td>12378</td>\n",
       "      <td>6.0</td>\n",
       "      <td>144</td>\n",
       "      <td>-1.0</td>\n",
       "      <td>11974</td>\n",
       "      <td>9.0</td>\n",
       "      <td>260.0</td>\n",
       "      <td>21302241</td>\n",
       "      <td>Africa</td>\n",
       "    </tr>\n",
       "    <tr>\n",
       "      <th>134</th>\n",
       "      <td>Hong Kong</td>\n",
       "      <td>11312</td>\n",
       "      <td>30.0</td>\n",
       "      <td>203</td>\n",
       "      <td>-1.0</td>\n",
       "      <td>10769</td>\n",
       "      <td>14.0</td>\n",
       "      <td>340.0</td>\n",
       "      <td>7539721</td>\n",
       "      <td>Asia</td>\n",
       "    </tr>\n",
       "    <tr>\n",
       "      <th>135</th>\n",
       "      <td>Andorra</td>\n",
       "      <td>11289</td>\n",
       "      <td>23.0</td>\n",
       "      <td>113</td>\n",
       "      <td>-1.0</td>\n",
       "      <td>10795</td>\n",
       "      <td>-1.0</td>\n",
       "      <td>381.0</td>\n",
       "      <td>77352</td>\n",
       "      <td>Europe</td>\n",
       "    </tr>\n",
       "    <tr>\n",
       "      <th>136</th>\n",
       "      <td>Guadeloupe</td>\n",
       "      <td>10614</td>\n",
       "      <td>-1.0</td>\n",
       "      <td>162</td>\n",
       "      <td>-1.0</td>\n",
       "      <td>2242</td>\n",
       "      <td>-1.0</td>\n",
       "      <td>8210.0</td>\n",
       "      <td>400172</td>\n",
       "      <td>North America</td>\n",
       "    </tr>\n",
       "    <tr>\n",
       "      <th>137</th>\n",
       "      <td>Lesotho</td>\n",
       "      <td>10530</td>\n",
       "      <td>-1.0</td>\n",
       "      <td>309</td>\n",
       "      <td>-1.0</td>\n",
       "      <td>3922</td>\n",
       "      <td>-1.0</td>\n",
       "      <td>6299.0</td>\n",
       "      <td>2154183</td>\n",
       "      <td>Africa</td>\n",
       "    </tr>\n",
       "    <tr>\n",
       "      <th>138</th>\n",
       "      <td>South Sudan</td>\n",
       "      <td>9554</td>\n",
       "      <td>64.0</td>\n",
       "      <td>104</td>\n",
       "      <td>-1.0</td>\n",
       "      <td>7906</td>\n",
       "      <td>-1.0</td>\n",
       "      <td>1544.0</td>\n",
       "      <td>11285791</td>\n",
       "      <td>Africa</td>\n",
       "    </tr>\n",
       "    <tr>\n",
       "      <th>139</th>\n",
       "      <td>Congo</td>\n",
       "      <td>9329</td>\n",
       "      <td>-1.0</td>\n",
       "      <td>131</td>\n",
       "      <td>-1.0</td>\n",
       "      <td>7514</td>\n",
       "      <td>-1.0</td>\n",
       "      <td>1684.0</td>\n",
       "      <td>5612763</td>\n",
       "      <td>Africa</td>\n",
       "    </tr>\n",
       "    <tr>\n",
       "      <th>140</th>\n",
       "      <td>Somalia</td>\n",
       "      <td>9328</td>\n",
       "      <td>138.0</td>\n",
       "      <td>379</td>\n",
       "      <td>12.0</td>\n",
       "      <td>4259</td>\n",
       "      <td>29.0</td>\n",
       "      <td>4690.0</td>\n",
       "      <td>16201781</td>\n",
       "      <td>Africa</td>\n",
       "    </tr>\n",
       "    <tr>\n",
       "      <th>141</th>\n",
       "      <td>Guyana</td>\n",
       "      <td>9187</td>\n",
       "      <td>27.0</td>\n",
       "      <td>207</td>\n",
       "      <td>-1.0</td>\n",
       "      <td>8311</td>\n",
       "      <td>23.0</td>\n",
       "      <td>669.0</td>\n",
       "      <td>789223</td>\n",
       "      <td>South America</td>\n",
       "    </tr>\n",
       "    <tr>\n",
       "      <th>142</th>\n",
       "      <td>Suriname</td>\n",
       "      <td>9028</td>\n",
       "      <td>4.0</td>\n",
       "      <td>176</td>\n",
       "      <td>-1.0</td>\n",
       "      <td>8519</td>\n",
       "      <td>5.0</td>\n",
       "      <td>333.0</td>\n",
       "      <td>590324</td>\n",
       "      <td>South America</td>\n",
       "    </tr>\n",
       "    <tr>\n",
       "      <th>143</th>\n",
       "      <td>Mali</td>\n",
       "      <td>8933</td>\n",
       "      <td>20.0</td>\n",
       "      <td>363</td>\n",
       "      <td>3.0</td>\n",
       "      <td>6511</td>\n",
       "      <td>8.0</td>\n",
       "      <td>2059.0</td>\n",
       "      <td>20656539</td>\n",
       "      <td>Africa</td>\n",
       "    </tr>\n",
       "    <tr>\n",
       "      <th>144</th>\n",
       "      <td>Bahamas</td>\n",
       "      <td>8765</td>\n",
       "      <td>107.0</td>\n",
       "      <td>186</td>\n",
       "      <td>1.0</td>\n",
       "      <td>7645</td>\n",
       "      <td>132.0</td>\n",
       "      <td>934.0</td>\n",
       "      <td>395883</td>\n",
       "      <td>North America</td>\n",
       "    </tr>\n",
       "    <tr>\n",
       "      <th>145</th>\n",
       "      <td>Aruba</td>\n",
       "      <td>8421</td>\n",
       "      <td>26.0</td>\n",
       "      <td>79</td>\n",
       "      <td>-1.0</td>\n",
       "      <td>8074</td>\n",
       "      <td>29.0</td>\n",
       "      <td>268.0</td>\n",
       "      <td>107085</td>\n",
       "      <td>North America</td>\n",
       "    </tr>\n",
       "    <tr>\n",
       "      <th>146</th>\n",
       "      <td>Togo</td>\n",
       "      <td>8222</td>\n",
       "      <td>152.0</td>\n",
       "      <td>96</td>\n",
       "      <td>1.0</td>\n",
       "      <td>6813</td>\n",
       "      <td>119.0</td>\n",
       "      <td>1313.0</td>\n",
       "      <td>8414056</td>\n",
       "      <td>Africa</td>\n",
       "    </tr>\n",
       "    <tr>\n",
       "      <th>147</th>\n",
       "      <td>Trinidad and Tobago</td>\n",
       "      <td>7788</td>\n",
       "      <td>5.0</td>\n",
       "      <td>140</td>\n",
       "      <td>-1.0</td>\n",
       "      <td>7542</td>\n",
       "      <td>11.0</td>\n",
       "      <td>106.0</td>\n",
       "      <td>1402679</td>\n",
       "      <td>North America</td>\n",
       "    </tr>\n",
       "    <tr>\n",
       "      <th>148</th>\n",
       "      <td>Martinique</td>\n",
       "      <td>6928</td>\n",
       "      <td>-1.0</td>\n",
       "      <td>47</td>\n",
       "      <td>-1.0</td>\n",
       "      <td>98</td>\n",
       "      <td>-1.0</td>\n",
       "      <td>6783.0</td>\n",
       "      <td>375060</td>\n",
       "      <td>North America</td>\n",
       "    </tr>\n",
       "    <tr>\n",
       "      <th>149</th>\n",
       "      <td>Equatorial Guinea</td>\n",
       "      <td>6562</td>\n",
       "      <td>-1.0</td>\n",
       "      <td>98</td>\n",
       "      <td>-1.0</td>\n",
       "      <td>5938</td>\n",
       "      <td>-1.0</td>\n",
       "      <td>526.0</td>\n",
       "      <td>1434978</td>\n",
       "      <td>Africa</td>\n",
       "    </tr>\n",
       "    <tr>\n",
       "      <th>150</th>\n",
       "      <td>Nicaragua</td>\n",
       "      <td>6537</td>\n",
       "      <td>-1.0</td>\n",
       "      <td>175</td>\n",
       "      <td>-1.0</td>\n",
       "      <td>4225</td>\n",
       "      <td>-1.0</td>\n",
       "      <td>2137.0</td>\n",
       "      <td>6679841</td>\n",
       "      <td>North America</td>\n",
       "    </tr>\n",
       "    <tr>\n",
       "      <th>151</th>\n",
       "      <td>Benin</td>\n",
       "      <td>6501</td>\n",
       "      <td>-1.0</td>\n",
       "      <td>81</td>\n",
       "      <td>-1.0</td>\n",
       "      <td>5552</td>\n",
       "      <td>-1.0</td>\n",
       "      <td>868.0</td>\n",
       "      <td>12344364</td>\n",
       "      <td>Africa</td>\n",
       "    </tr>\n",
       "    <tr>\n",
       "      <th>152</th>\n",
       "      <td>Djibouti</td>\n",
       "      <td>6294</td>\n",
       "      <td>26.0</td>\n",
       "      <td>63</td>\n",
       "      <td>-1.0</td>\n",
       "      <td>5987</td>\n",
       "      <td>9.0</td>\n",
       "      <td>244.0</td>\n",
       "      <td>998066</td>\n",
       "      <td>Africa</td>\n",
       "    </tr>\n",
       "    <tr>\n",
       "      <th>153</th>\n",
       "      <td>Iceland</td>\n",
       "      <td>6083</td>\n",
       "      <td>11.0</td>\n",
       "      <td>29</td>\n",
       "      <td>-1.0</td>\n",
       "      <td>6027</td>\n",
       "      <td>4.0</td>\n",
       "      <td>27.0</td>\n",
       "      <td>342800</td>\n",
       "      <td>Europe</td>\n",
       "    </tr>\n",
       "    <tr>\n",
       "      <th>154</th>\n",
       "      <td>Curaçao</td>\n",
       "      <td>5138</td>\n",
       "      <td>28.0</td>\n",
       "      <td>22</td>\n",
       "      <td>-1.0</td>\n",
       "      <td>4719</td>\n",
       "      <td>4.0</td>\n",
       "      <td>397.0</td>\n",
       "      <td>164565</td>\n",
       "      <td>North America</td>\n",
       "    </tr>\n",
       "    <tr>\n",
       "      <th>155</th>\n",
       "      <td>CAR</td>\n",
       "      <td>5023</td>\n",
       "      <td>-1.0</td>\n",
       "      <td>63</td>\n",
       "      <td>-1.0</td>\n",
       "      <td>4920</td>\n",
       "      <td>-1.0</td>\n",
       "      <td>40.0</td>\n",
       "      <td>4888515</td>\n",
       "      <td>Africa</td>\n",
       "    </tr>\n",
       "    <tr>\n",
       "      <th>156</th>\n",
       "      <td>Gambia</td>\n",
       "      <td>5019</td>\n",
       "      <td>34.0</td>\n",
       "      <td>153</td>\n",
       "      <td>-1.0</td>\n",
       "      <td>4525</td>\n",
       "      <td>88.0</td>\n",
       "      <td>341.0</td>\n",
       "      <td>2463909</td>\n",
       "      <td>Africa</td>\n",
       "    </tr>\n",
       "    <tr>\n",
       "      <th>157</th>\n",
       "      <td>Niger</td>\n",
       "      <td>4865</td>\n",
       "      <td>5.0</td>\n",
       "      <td>182</td>\n",
       "      <td>-1.0</td>\n",
       "      <td>4507</td>\n",
       "      <td>3.0</td>\n",
       "      <td>176.0</td>\n",
       "      <td>24813762</td>\n",
       "      <td>Africa</td>\n",
       "    </tr>\n",
       "    <tr>\n",
       "      <th>158</th>\n",
       "      <td>Chad</td>\n",
       "      <td>4328</td>\n",
       "      <td>19.0</td>\n",
       "      <td>155</td>\n",
       "      <td>1.0</td>\n",
       "      <td>3803</td>\n",
       "      <td>16.0</td>\n",
       "      <td>370.0</td>\n",
       "      <td>16753724</td>\n",
       "      <td>Africa</td>\n",
       "    </tr>\n",
       "    <tr>\n",
       "      <th>159</th>\n",
       "      <td>Gibraltar</td>\n",
       "      <td>4263</td>\n",
       "      <td>-1.0</td>\n",
       "      <td>94</td>\n",
       "      <td>-1.0</td>\n",
       "      <td>4143</td>\n",
       "      <td>-1.0</td>\n",
       "      <td>26.0</td>\n",
       "      <td>33684</td>\n",
       "      <td>Europe</td>\n",
       "    </tr>\n",
       "    <tr>\n",
       "      <th>160</th>\n",
       "      <td>San Marino</td>\n",
       "      <td>4151</td>\n",
       "      <td>1.0</td>\n",
       "      <td>77</td>\n",
       "      <td>-1.0</td>\n",
       "      <td>3624</td>\n",
       "      <td>1.0</td>\n",
       "      <td>450.0</td>\n",
       "      <td>33981</td>\n",
       "      <td>Europe</td>\n",
       "    </tr>\n",
       "    <tr>\n",
       "      <th>161</th>\n",
       "      <td>Mongolia</td>\n",
       "      <td>4083</td>\n",
       "      <td>122.0</td>\n",
       "      <td>4</td>\n",
       "      <td>-1.0</td>\n",
       "      <td>3031</td>\n",
       "      <td>30.0</td>\n",
       "      <td>1048.0</td>\n",
       "      <td>3315248</td>\n",
       "      <td>Asia</td>\n",
       "    </tr>\n",
       "    <tr>\n",
       "      <th>162</th>\n",
       "      <td>Saint Lucia</td>\n",
       "      <td>4053</td>\n",
       "      <td>22.0</td>\n",
       "      <td>55</td>\n",
       "      <td>4.0</td>\n",
       "      <td>3790</td>\n",
       "      <td>19.0</td>\n",
       "      <td>208.0</td>\n",
       "      <td>184218</td>\n",
       "      <td>North America</td>\n",
       "    </tr>\n",
       "    <tr>\n",
       "      <th>163</th>\n",
       "      <td>Channel Islands</td>\n",
       "      <td>4044</td>\n",
       "      <td>1.0</td>\n",
       "      <td>86</td>\n",
       "      <td>-1.0</td>\n",
       "      <td>3965</td>\n",
       "      <td>10.0</td>\n",
       "      <td>-7.0</td>\n",
       "      <td>174989</td>\n",
       "      <td>Europe</td>\n",
       "    </tr>\n",
       "    <tr>\n",
       "      <th>164</th>\n",
       "      <td>Sierra Leone</td>\n",
       "      <td>3938</td>\n",
       "      <td>1.0</td>\n",
       "      <td>79</td>\n",
       "      <td>-1.0</td>\n",
       "      <td>2780</td>\n",
       "      <td>1.0</td>\n",
       "      <td>1079.0</td>\n",
       "      <td>8090305</td>\n",
       "      <td>Africa</td>\n",
       "    </tr>\n",
       "    <tr>\n",
       "      <th>165</th>\n",
       "      <td>Comoros</td>\n",
       "      <td>3646</td>\n",
       "      <td>11.0</td>\n",
       "      <td>146</td>\n",
       "      <td>-1.0</td>\n",
       "      <td>3448</td>\n",
       "      <td>4.0</td>\n",
       "      <td>52.0</td>\n",
       "      <td>882535</td>\n",
       "      <td>Africa</td>\n",
       "    </tr>\n",
       "    <tr>\n",
       "      <th>166</th>\n",
       "      <td>Guinea-Bissau</td>\n",
       "      <td>3447</td>\n",
       "      <td>-1.0</td>\n",
       "      <td>52</td>\n",
       "      <td>-1.0</td>\n",
       "      <td>2755</td>\n",
       "      <td>-1.0</td>\n",
       "      <td>640.0</td>\n",
       "      <td>2000440</td>\n",
       "      <td>Africa</td>\n",
       "    </tr>\n",
       "    <tr>\n",
       "      <th>167</th>\n",
       "      <td>Barbados</td>\n",
       "      <td>3442</td>\n",
       "      <td>21.0</td>\n",
       "      <td>38</td>\n",
       "      <td>1.0</td>\n",
       "      <td>3215</td>\n",
       "      <td>41.0</td>\n",
       "      <td>189.0</td>\n",
       "      <td>287623</td>\n",
       "      <td>North America</td>\n",
       "    </tr>\n",
       "    <tr>\n",
       "      <th>168</th>\n",
       "      <td>Seychelles</td>\n",
       "      <td>3342</td>\n",
       "      <td>27.0</td>\n",
       "      <td>16</td>\n",
       "      <td>-1.0</td>\n",
       "      <td>2903</td>\n",
       "      <td>35.0</td>\n",
       "      <td>423.0</td>\n",
       "      <td>98775</td>\n",
       "      <td>Africa</td>\n",
       "    </tr>\n",
       "    <tr>\n",
       "      <th>169</th>\n",
       "      <td>Eritrea</td>\n",
       "      <td>3055</td>\n",
       "      <td>17.0</td>\n",
       "      <td>7</td>\n",
       "      <td>-1.0</td>\n",
       "      <td>2701</td>\n",
       "      <td>70.0</td>\n",
       "      <td>347.0</td>\n",
       "      <td>3580820</td>\n",
       "      <td>Africa</td>\n",
       "    </tr>\n",
       "    <tr>\n",
       "      <th>170</th>\n",
       "      <td>Yemen</td>\n",
       "      <td>2908</td>\n",
       "      <td>72.0</td>\n",
       "      <td>698</td>\n",
       "      <td>9.0</td>\n",
       "      <td>1500</td>\n",
       "      <td>9.0</td>\n",
       "      <td>710.0</td>\n",
       "      <td>30284463</td>\n",
       "      <td>Asia</td>\n",
       "    </tr>\n",
       "    <tr>\n",
       "      <th>171</th>\n",
       "      <td>Liechtenstein</td>\n",
       "      <td>2612</td>\n",
       "      <td>-1.0</td>\n",
       "      <td>55</td>\n",
       "      <td>-1.0</td>\n",
       "      <td>2521</td>\n",
       "      <td>2.0</td>\n",
       "      <td>36.0</td>\n",
       "      <td>38205</td>\n",
       "      <td>Europe</td>\n",
       "    </tr>\n",
       "    <tr>\n",
       "      <th>172</th>\n",
       "      <td>Vietnam</td>\n",
       "      <td>2557</td>\n",
       "      <td>3.0</td>\n",
       "      <td>35</td>\n",
       "      <td>-1.0</td>\n",
       "      <td>2115</td>\n",
       "      <td>29.0</td>\n",
       "      <td>407.0</td>\n",
       "      <td>97953767</td>\n",
       "      <td>Asia</td>\n",
       "    </tr>\n",
       "    <tr>\n",
       "      <th>173</th>\n",
       "      <td>Burundi</td>\n",
       "      <td>2461</td>\n",
       "      <td>-1.0</td>\n",
       "      <td>3</td>\n",
       "      <td>-1.0</td>\n",
       "      <td>773</td>\n",
       "      <td>-1.0</td>\n",
       "      <td>1685.0</td>\n",
       "      <td>12136984</td>\n",
       "      <td>Africa</td>\n",
       "    </tr>\n",
       "    <tr>\n",
       "      <th>174</th>\n",
       "      <td>New Zealand</td>\n",
       "      <td>2430</td>\n",
       "      <td>7.0</td>\n",
       "      <td>26</td>\n",
       "      <td>-1.0</td>\n",
       "      <td>2311</td>\n",
       "      <td>1.0</td>\n",
       "      <td>93.0</td>\n",
       "      <td>5002100</td>\n",
       "      <td>Australia/Oceania</td>\n",
       "    </tr>\n",
       "    <tr>\n",
       "      <th>175</th>\n",
       "      <td>Papua New Guinea</td>\n",
       "      <td>2269</td>\n",
       "      <td>187.0</td>\n",
       "      <td>26</td>\n",
       "      <td>5.0</td>\n",
       "      <td>846</td>\n",
       "      <td>-1.0</td>\n",
       "      <td>1397.0</td>\n",
       "      <td>9065502</td>\n",
       "      <td>Australia/Oceania</td>\n",
       "    </tr>\n",
       "    <tr>\n",
       "      <th>176</th>\n",
       "      <td>Turks and Caicos</td>\n",
       "      <td>2233</td>\n",
       "      <td>-1.0</td>\n",
       "      <td>15</td>\n",
       "      <td>-1.0</td>\n",
       "      <td>2098</td>\n",
       "      <td>1.0</td>\n",
       "      <td>120.0</td>\n",
       "      <td>39084</td>\n",
       "      <td>North America</td>\n",
       "    </tr>\n",
       "    <tr>\n",
       "      <th>177</th>\n",
       "      <td>Monaco</td>\n",
       "      <td>2120</td>\n",
       "      <td>13.0</td>\n",
       "      <td>27</td>\n",
       "      <td>-1.0</td>\n",
       "      <td>1922</td>\n",
       "      <td>10.0</td>\n",
       "      <td>171.0</td>\n",
       "      <td>39438</td>\n",
       "      <td>Europe</td>\n",
       "    </tr>\n",
       "    <tr>\n",
       "      <th>178</th>\n",
       "      <td>Sint Maarten</td>\n",
       "      <td>2085</td>\n",
       "      <td>3.0</td>\n",
       "      <td>27</td>\n",
       "      <td>-1.0</td>\n",
       "      <td>2048</td>\n",
       "      <td>7.0</td>\n",
       "      <td>10.0</td>\n",
       "      <td>43218</td>\n",
       "      <td>North America</td>\n",
       "    </tr>\n",
       "    <tr>\n",
       "      <th>179</th>\n",
       "      <td>Sao Tome and Principe</td>\n",
       "      <td>2084</td>\n",
       "      <td>6.0</td>\n",
       "      <td>32</td>\n",
       "      <td>-1.0</td>\n",
       "      <td>1854</td>\n",
       "      <td>37.0</td>\n",
       "      <td>198.0</td>\n",
       "      <td>222005</td>\n",
       "      <td>Africa</td>\n",
       "    </tr>\n",
       "    <tr>\n",
       "      <th>180</th>\n",
       "      <td>Liberia</td>\n",
       "      <td>2030</td>\n",
       "      <td>-1.0</td>\n",
       "      <td>85</td>\n",
       "      <td>-1.0</td>\n",
       "      <td>1899</td>\n",
       "      <td>-1.0</td>\n",
       "      <td>46.0</td>\n",
       "      <td>5140590</td>\n",
       "      <td>Africa</td>\n",
       "    </tr>\n",
       "    <tr>\n",
       "      <th>181</th>\n",
       "      <td>St. Vincent Grenadines</td>\n",
       "      <td>1680</td>\n",
       "      <td>-1.0</td>\n",
       "      <td>9</td>\n",
       "      <td>-1.0</td>\n",
       "      <td>1129</td>\n",
       "      <td>-1.0</td>\n",
       "      <td>542.0</td>\n",
       "      <td>111188</td>\n",
       "      <td>North America</td>\n",
       "    </tr>\n",
       "    <tr>\n",
       "      <th>182</th>\n",
       "      <td>Saint Martin</td>\n",
       "      <td>1602</td>\n",
       "      <td>-1.0</td>\n",
       "      <td>12</td>\n",
       "      <td>-1.0</td>\n",
       "      <td>1399</td>\n",
       "      <td>-1.0</td>\n",
       "      <td>191.0</td>\n",
       "      <td>39127</td>\n",
       "      <td>North America</td>\n",
       "    </tr>\n",
       "    <tr>\n",
       "      <th>183</th>\n",
       "      <td>Cambodia</td>\n",
       "      <td>1325</td>\n",
       "      <td>20.0</td>\n",
       "      <td>1</td>\n",
       "      <td>-1.0</td>\n",
       "      <td>730</td>\n",
       "      <td>83.0</td>\n",
       "      <td>594.0</td>\n",
       "      <td>16881123</td>\n",
       "      <td>Asia</td>\n",
       "    </tr>\n",
       "    <tr>\n",
       "      <th>184</th>\n",
       "      <td>Isle of Man</td>\n",
       "      <td>1307</td>\n",
       "      <td>29.0</td>\n",
       "      <td>26</td>\n",
       "      <td>-1.0</td>\n",
       "      <td>430</td>\n",
       "      <td>-1.0</td>\n",
       "      <td>851.0</td>\n",
       "      <td>85350</td>\n",
       "      <td>Europe</td>\n",
       "    </tr>\n",
       "    <tr>\n",
       "      <th>185</th>\n",
       "      <td>Taiwan</td>\n",
       "      <td>990</td>\n",
       "      <td>5.0</td>\n",
       "      <td>10</td>\n",
       "      <td>-1.0</td>\n",
       "      <td>951</td>\n",
       "      <td>1.0</td>\n",
       "      <td>29.0</td>\n",
       "      <td>23847150</td>\n",
       "      <td>Asia</td>\n",
       "    </tr>\n",
       "    <tr>\n",
       "      <th>186</th>\n",
       "      <td>Antigua and Barbuda</td>\n",
       "      <td>963</td>\n",
       "      <td>-1.0</td>\n",
       "      <td>27</td>\n",
       "      <td>-1.0</td>\n",
       "      <td>598</td>\n",
       "      <td>-1.0</td>\n",
       "      <td>338.0</td>\n",
       "      <td>98499</td>\n",
       "      <td>North America</td>\n",
       "    </tr>\n",
       "    <tr>\n",
       "      <th>187</th>\n",
       "      <td>Bhutan</td>\n",
       "      <td>868</td>\n",
       "      <td>-1.0</td>\n",
       "      <td>1</td>\n",
       "      <td>-1.0</td>\n",
       "      <td>866</td>\n",
       "      <td>-1.0</td>\n",
       "      <td>1.0</td>\n",
       "      <td>777570</td>\n",
       "      <td>Asia</td>\n",
       "    </tr>\n",
       "    <tr>\n",
       "      <th>188</th>\n",
       "      <td>Caribbean Netherlands</td>\n",
       "      <td>804</td>\n",
       "      <td>41.0</td>\n",
       "      <td>6</td>\n",
       "      <td>-1.0</td>\n",
       "      <td>545</td>\n",
       "      <td>20.0</td>\n",
       "      <td>253.0</td>\n",
       "      <td>26394</td>\n",
       "      <td>North America</td>\n",
       "    </tr>\n",
       "    <tr>\n",
       "      <th>189</th>\n",
       "      <td>Mauritius</td>\n",
       "      <td>747</td>\n",
       "      <td>5.0</td>\n",
       "      <td>10</td>\n",
       "      <td>-1.0</td>\n",
       "      <td>592</td>\n",
       "      <td>-1.0</td>\n",
       "      <td>145.0</td>\n",
       "      <td>1273255</td>\n",
       "      <td>Africa</td>\n",
       "    </tr>\n",
       "    <tr>\n",
       "      <th>190</th>\n",
       "      <td>Bermuda</td>\n",
       "      <td>740</td>\n",
       "      <td>5.0</td>\n",
       "      <td>12</td>\n",
       "      <td>-1.0</td>\n",
       "      <td>699</td>\n",
       "      <td>7.0</td>\n",
       "      <td>29.0</td>\n",
       "      <td>62116</td>\n",
       "      <td>North America</td>\n",
       "    </tr>\n",
       "    <tr>\n",
       "      <th>191</th>\n",
       "      <td>St. Barth</td>\n",
       "      <td>712</td>\n",
       "      <td>-1.0</td>\n",
       "      <td>1</td>\n",
       "      <td>-1.0</td>\n",
       "      <td>462</td>\n",
       "      <td>-1.0</td>\n",
       "      <td>249.0</td>\n",
       "      <td>9898</td>\n",
       "      <td>North America</td>\n",
       "    </tr>\n",
       "    <tr>\n",
       "      <th>192</th>\n",
       "      <td>Faeroe Islands</td>\n",
       "      <td>661</td>\n",
       "      <td>-1.0</td>\n",
       "      <td>1</td>\n",
       "      <td>-1.0</td>\n",
       "      <td>657</td>\n",
       "      <td>-1.0</td>\n",
       "      <td>3.0</td>\n",
       "      <td>48994</td>\n",
       "      <td>Europe</td>\n",
       "    </tr>\n",
       "    <tr>\n",
       "      <th>193</th>\n",
       "      <td>Tanzania</td>\n",
       "      <td>509</td>\n",
       "      <td>-1.0</td>\n",
       "      <td>21</td>\n",
       "      <td>-1.0</td>\n",
       "      <td>183</td>\n",
       "      <td>-1.0</td>\n",
       "      <td>305.0</td>\n",
       "      <td>60917855</td>\n",
       "      <td>Africa</td>\n",
       "    </tr>\n",
       "    <tr>\n",
       "      <th>194</th>\n",
       "      <td>Cayman Islands</td>\n",
       "      <td>474</td>\n",
       "      <td>6.0</td>\n",
       "      <td>2</td>\n",
       "      <td>-1.0</td>\n",
       "      <td>437</td>\n",
       "      <td>7.0</td>\n",
       "      <td>35.0</td>\n",
       "      <td>66263</td>\n",
       "      <td>North America</td>\n",
       "    </tr>\n",
       "    <tr>\n",
       "      <th>195</th>\n",
       "      <td>Timor-Leste</td>\n",
       "      <td>203</td>\n",
       "      <td>7.0</td>\n",
       "      <td>-1</td>\n",
       "      <td>-1.0</td>\n",
       "      <td>104</td>\n",
       "      <td>5.0</td>\n",
       "      <td>99.0</td>\n",
       "      <td>1335999</td>\n",
       "      <td>Asia</td>\n",
       "    </tr>\n",
       "    <tr>\n",
       "      <th>196</th>\n",
       "      <td>Brunei</td>\n",
       "      <td>199</td>\n",
       "      <td>-1.0</td>\n",
       "      <td>3</td>\n",
       "      <td>-1.0</td>\n",
       "      <td>185</td>\n",
       "      <td>-1.0</td>\n",
       "      <td>11.0</td>\n",
       "      <td>440421</td>\n",
       "      <td>Asia</td>\n",
       "    </tr>\n",
       "    <tr>\n",
       "      <th>197</th>\n",
       "      <td>Wallis and Futuna</td>\n",
       "      <td>186</td>\n",
       "      <td>8.0</td>\n",
       "      <td>-1</td>\n",
       "      <td>-1.0</td>\n",
       "      <td>7</td>\n",
       "      <td>-1.0</td>\n",
       "      <td>179.0</td>\n",
       "      <td>11099</td>\n",
       "      <td>Australia/Oceania</td>\n",
       "    </tr>\n",
       "    <tr>\n",
       "      <th>198</th>\n",
       "      <td>Dominica</td>\n",
       "      <td>156</td>\n",
       "      <td>-1.0</td>\n",
       "      <td>-1</td>\n",
       "      <td>-1.0</td>\n",
       "      <td>141</td>\n",
       "      <td>-1.0</td>\n",
       "      <td>15.0</td>\n",
       "      <td>72112</td>\n",
       "      <td>North America</td>\n",
       "    </tr>\n",
       "    <tr>\n",
       "      <th>199</th>\n",
       "      <td>Grenada</td>\n",
       "      <td>154</td>\n",
       "      <td>6.0</td>\n",
       "      <td>1</td>\n",
       "      <td>-1.0</td>\n",
       "      <td>151</td>\n",
       "      <td>4.0</td>\n",
       "      <td>2.0</td>\n",
       "      <td>112890</td>\n",
       "      <td>North America</td>\n",
       "    </tr>\n",
       "    <tr>\n",
       "      <th>200</th>\n",
       "      <td>British Virgin Islands</td>\n",
       "      <td>153</td>\n",
       "      <td>-1.0</td>\n",
       "      <td>1</td>\n",
       "      <td>-1.0</td>\n",
       "      <td>131</td>\n",
       "      <td>-1.0</td>\n",
       "      <td>21.0</td>\n",
       "      <td>30372</td>\n",
       "      <td>North America</td>\n",
       "    </tr>\n",
       "    <tr>\n",
       "      <th>201</th>\n",
       "      <td>New Caledonia</td>\n",
       "      <td>93</td>\n",
       "      <td>-1.0</td>\n",
       "      <td>-1</td>\n",
       "      <td>-1.0</td>\n",
       "      <td>58</td>\n",
       "      <td>-1.0</td>\n",
       "      <td>35.0</td>\n",
       "      <td>287425</td>\n",
       "      <td>Australia/Oceania</td>\n",
       "    </tr>\n",
       "    <tr>\n",
       "      <th>202</th>\n",
       "      <td>Fiji</td>\n",
       "      <td>66</td>\n",
       "      <td>-1.0</td>\n",
       "      <td>2</td>\n",
       "      <td>-1.0</td>\n",
       "      <td>60</td>\n",
       "      <td>-1.0</td>\n",
       "      <td>4.0</td>\n",
       "      <td>901011</td>\n",
       "      <td>Australia/Oceania</td>\n",
       "    </tr>\n",
       "    <tr>\n",
       "      <th>203</th>\n",
       "      <td>Macao</td>\n",
       "      <td>48</td>\n",
       "      <td>-1.0</td>\n",
       "      <td>-1</td>\n",
       "      <td>-1.0</td>\n",
       "      <td>47</td>\n",
       "      <td>-1.0</td>\n",
       "      <td>1.0</td>\n",
       "      <td>655539</td>\n",
       "      <td>Asia</td>\n",
       "    </tr>\n",
       "    <tr>\n",
       "      <th>204</th>\n",
       "      <td>Laos</td>\n",
       "      <td>48</td>\n",
       "      <td>-1.0</td>\n",
       "      <td>-1</td>\n",
       "      <td>-1.0</td>\n",
       "      <td>42</td>\n",
       "      <td>-1.0</td>\n",
       "      <td>6.0</td>\n",
       "      <td>7349525</td>\n",
       "      <td>Asia</td>\n",
       "    </tr>\n",
       "    <tr>\n",
       "      <th>205</th>\n",
       "      <td>Saint Kitts and Nevis</td>\n",
       "      <td>43</td>\n",
       "      <td>-1.0</td>\n",
       "      <td>-1</td>\n",
       "      <td>-1.0</td>\n",
       "      <td>41</td>\n",
       "      <td>-1.0</td>\n",
       "      <td>2.0</td>\n",
       "      <td>53464</td>\n",
       "      <td>North America</td>\n",
       "    </tr>\n",
       "    <tr>\n",
       "      <th>206</th>\n",
       "      <td>Vatican City</td>\n",
       "      <td>27</td>\n",
       "      <td>-1.0</td>\n",
       "      <td>-1</td>\n",
       "      <td>-1.0</td>\n",
       "      <td>15</td>\n",
       "      <td>-1.0</td>\n",
       "      <td>12.0</td>\n",
       "      <td>802</td>\n",
       "      <td>Europe</td>\n",
       "    </tr>\n",
       "    <tr>\n",
       "      <th>207</th>\n",
       "      <td>Anguilla</td>\n",
       "      <td>21</td>\n",
       "      <td>-1.0</td>\n",
       "      <td>-1</td>\n",
       "      <td>-1.0</td>\n",
       "      <td>18</td>\n",
       "      <td>-1.0</td>\n",
       "      <td>3.0</td>\n",
       "      <td>15097</td>\n",
       "      <td>North America</td>\n",
       "    </tr>\n",
       "    <tr>\n",
       "      <th>208</th>\n",
       "      <td>Montserrat</td>\n",
       "      <td>20</td>\n",
       "      <td>-1.0</td>\n",
       "      <td>1</td>\n",
       "      <td>-1.0</td>\n",
       "      <td>18</td>\n",
       "      <td>-1.0</td>\n",
       "      <td>1.0</td>\n",
       "      <td>4994</td>\n",
       "      <td>North America</td>\n",
       "    </tr>\n",
       "    <tr>\n",
       "      <th>209</th>\n",
       "      <td>Solomon Islands</td>\n",
       "      <td>18</td>\n",
       "      <td>-1.0</td>\n",
       "      <td>-1</td>\n",
       "      <td>-1.0</td>\n",
       "      <td>16</td>\n",
       "      <td>-1.0</td>\n",
       "      <td>2.0</td>\n",
       "      <td>698626</td>\n",
       "      <td>Australia/Oceania</td>\n",
       "    </tr>\n",
       "    <tr>\n",
       "      <th>210</th>\n",
       "      <td>Western Sahara</td>\n",
       "      <td>10</td>\n",
       "      <td>-1.0</td>\n",
       "      <td>1</td>\n",
       "      <td>-1.0</td>\n",
       "      <td>8</td>\n",
       "      <td>-1.0</td>\n",
       "      <td>1.0</td>\n",
       "      <td>607576</td>\n",
       "      <td>Africa</td>\n",
       "    </tr>\n",
       "    <tr>\n",
       "      <th>211</th>\n",
       "      <td>Samoa</td>\n",
       "      <td>3</td>\n",
       "      <td>-1.0</td>\n",
       "      <td>-1</td>\n",
       "      <td>-1.0</td>\n",
       "      <td>2</td>\n",
       "      <td>-1.0</td>\n",
       "      <td>1.0</td>\n",
       "      <td>199341</td>\n",
       "      <td>Australia/Oceania</td>\n",
       "    </tr>\n",
       "    <tr>\n",
       "      <th>212</th>\n",
       "      <td>Vanuatu</td>\n",
       "      <td>3</td>\n",
       "      <td>-1.0</td>\n",
       "      <td>-1</td>\n",
       "      <td>-1.0</td>\n",
       "      <td>1</td>\n",
       "      <td>-1.0</td>\n",
       "      <td>2.0</td>\n",
       "      <td>312151</td>\n",
       "      <td>Australia/Oceania</td>\n",
       "    </tr>\n",
       "    <tr>\n",
       "      <th>213</th>\n",
       "      <td>Total:</td>\n",
       "      <td>120764967</td>\n",
       "      <td>336327.0</td>\n",
       "      <td>2671762</td>\n",
       "      <td>6550.0</td>\n",
       "      <td>97406968</td>\n",
       "      <td>392946.0</td>\n",
       "      <td>20686237.0</td>\n",
       "      <td>-1</td>\n",
       "      <td>All</td>\n",
       "    </tr>\n",
       "  </tbody>\n",
       "</table>\n",
       "</div>"
      ],
      "text/plain": [
       "                    Country  Total Cases  New Cases  Total Deaths  New Deaths  \\\n",
       "0                     World    120764967   336327.0       2671762      6550.0   \n",
       "1                       USA     30138586    45045.0        548013       785.0   \n",
       "2                    Brazil     11525477    42107.0        279602      1275.0   \n",
       "3                     India     11409595    24437.0        158892       130.0   \n",
       "4                    Russia      4400045     9437.0         92494       404.0   \n",
       "5                        UK      4263527     5089.0        125580        64.0   \n",
       "6                    France      4078133     6471.0         90762       333.0   \n",
       "7                     Italy      3238394    15267.0        102499       354.0   \n",
       "8                     Spain      3195062     4484.0         72424        56.0   \n",
       "9                    Turkey      2894893    15503.0         29552        63.0   \n",
       "10                  Germany      2585385     6550.0         74115       156.0   \n",
       "11                 Colombia      2305884     2740.0         61243       100.0   \n",
       "12                Argentina      2201886     6164.0         53836       166.0   \n",
       "13                   Mexico      2166290     2415.0        194710       220.0   \n",
       "14                   Poland      1917527    10896.0         47206        28.0   \n",
       "15                     Iran      1754933     7980.0         61330       100.0   \n",
       "16             South Africa      1530033      613.0         51421        95.0   \n",
       "17                  Ukraine      1467548     6792.0         28433       130.0   \n",
       "18                Indonesia      1425044     5589.0         38573       147.0   \n",
       "19                     Peru      1418974     6568.0         49177       174.0   \n",
       "20                  Czechia      1402420     3291.0         23379        88.0   \n",
       "21              Netherlands      1162661     5469.0         16087        18.0   \n",
       "22                   Canada       913047     3890.0         22495        32.0   \n",
       "23                    Chile       896231     5121.0         21772        98.0   \n",
       "24                  Romania       862681     2972.0         21565        82.0   \n",
       "25                   Israel       820913     2365.0          6030        22.0   \n",
       "26                 Portugal       814513      256.0         16694        10.0   \n",
       "27                  Belgium       808283     2962.0         22441        20.0   \n",
       "28                     Iraq       763085     4901.0         13788        37.0   \n",
       "29                   Sweden       712527       -1.0         13146        -1.0   \n",
       "30              Philippines       626893     5404.0         12837         8.0   \n",
       "31                 Pakistan       607453     2253.0         13537        29.0   \n",
       "32              Switzerland       573815     3170.0         10118         6.0   \n",
       "33               Bangladesh       559168     1773.0          8571        26.0   \n",
       "34                  Hungary       524196     7706.0         17083       131.0   \n",
       "35                   Serbia       520911     4634.0          4747        28.0   \n",
       "36                  Austria       495464     1896.0          8892        19.0   \n",
       "37                  Morocco       489096      159.0          8733        10.0   \n",
       "38                   Jordan       486470     9417.0          5428        82.0   \n",
       "39                    Japan       447906     1033.0          8590        30.0   \n",
       "40                      UAE       428295     1898.0          1402         7.0   \n",
       "41                  Lebanon       419953     1505.0          5422        42.0   \n",
       "42             Saudi Arabia       382752      345.0          6573         6.0   \n",
       "43                   Panama       348155      236.0          6005        11.0   \n",
       "44                 Slovakia       337960      457.0          8605        77.0   \n",
       "45                 Malaysia       324971     1208.0          1213         3.0   \n",
       "46                  Belarus       303270      947.0          2103         8.0   \n",
       "47                  Ecuador       302498      277.0         16240         4.0   \n",
       "48                 Bulgaria       283194     4637.0         11472       187.0   \n",
       "49                    Nepal       275310       79.0          3014        -1.0   \n",
       "50                  Georgia       275148      159.0          3650         2.0   \n",
       "51                  Bolivia       259389      385.0         11958        14.0   \n",
       "52                  Croatia       251174      129.0          5685         8.0   \n",
       "53       Dominican Republic       246299      254.0          3226         4.0   \n",
       "54                  Tunisia       242124      290.0          8404        15.0   \n",
       "55               Azerbaijan       240671      376.0          3286         4.0   \n",
       "56                  Ireland       227316      575.0          4534        -1.0   \n",
       "57               Kazakhstan       224731     1011.0          2856         5.0   \n",
       "58                   Greece       222281     1134.0          7137        46.0   \n",
       "59                  Denmark       221071      612.0          2393         2.0   \n",
       "60                Palestine       211602     2298.0          2293        25.0   \n",
       "61                   Kuwait       210855     1332.0          1179         7.0   \n",
       "62               Costa Rica       209093       -1.0          2862        -1.0   \n",
       "63                Lithuania       205644      249.0          3410        12.0   \n",
       "64                  Moldova       205324      861.0          4369        39.0   \n",
       "65                 Slovenia       200579      205.0          3938         4.0   \n",
       "66                    Egypt       191555      631.0         11340        40.0   \n",
       "67                Guatemala       183014      133.0          6578        10.0   \n",
       "68                 Paraguay       181414     1400.0          3517        41.0   \n",
       "69                  Armenia       178702      317.0          3265        10.0   \n",
       "70                 Honduras       178277      445.0          4334         3.0   \n",
       "71                 Ethiopia       176618     1151.0          2555         5.0   \n",
       "72                    Qatar       170733      481.0           267         1.0   \n",
       "73                  Nigeria       160895      238.0          2016         3.0   \n",
       "74                     Oman       147423      556.0          1609         1.0   \n",
       "75                Venezuela       146488      535.0          1444         7.0   \n",
       "76                    Libya       146080     1087.0          2402        16.0   \n",
       "77   Bosnia and Herzegovina       144831      582.0          5584        63.0   \n",
       "78                  Myanmar       142147       -1.0          3202        -1.0   \n",
       "79                  Bahrain       131683      682.0           485         1.0   \n",
       "80                  Albania       118017      543.0          2060        15.0   \n",
       "81                  Algeria       115410      145.0          3040         4.0   \n",
       "82                    Kenya       113967      731.0          1918         5.0   \n",
       "83          North Macedonia       112930      284.0          3340        21.0   \n",
       "84                 S. Korea        96017      382.0          1675         6.0   \n",
       "85                   Latvia        93959      178.0          1769         2.0   \n",
       "86                Sri Lanka        88238      331.0           532         5.0   \n",
       "87                    Ghana        87985      223.0           691         6.0   \n",
       "88               Kyrgyzstan        86917       67.0          1483         2.0   \n",
       "89                  Estonia        86086     1281.0           728         9.0   \n",
       "90                   Zambia        84950      153.0          1164         6.0   \n",
       "91               Montenegro        84163      470.0          1136         7.0   \n",
       "92                   Norway        81305      865.0           640         1.0   \n",
       "93               Uzbekistan        80678      111.0           622        -1.0   \n",
       "94                  Uruguay        72862     1171.0           717         5.0   \n",
       "95                  Finland        67334      465.0           800        14.0   \n",
       "96               Mozambique        64516       -1.0           725        -1.0   \n",
       "97              El Salvador        62377      148.0          1954         4.0   \n",
       "98                     Cuba        62206      734.0           373         3.0   \n",
       "99                Singapore        60117       12.0            30        -1.0   \n",
       "100              Luxembourg        57926       49.0           693         4.0   \n",
       "101             Afghanistan        55995       23.0          2460         1.0   \n",
       "102                 Namibia        41424      224.0           465         7.0   \n",
       "103                Cameroon        40622       -1.0           601        -1.0   \n",
       "104                  Uganda        40591       10.0           334        -1.0   \n",
       "105                  Cyprus        39869      218.0           240        -1.0   \n",
       "106             Ivory Coast        37908      255.0           213         2.0   \n",
       "107                 Senegal        36996      104.0           978        15.0   \n",
       "108                Zimbabwe        36504       20.0          1504         1.0   \n",
       "109                Botswana        34999      901.0           447        23.0   \n",
       "110                  Malawi        32864       33.0          1084         1.0   \n",
       "111                 Jamaica        31305      806.0           492         7.0   \n",
       "112                   Sudan        29135      151.0          1959        19.0   \n",
       "113               Australia        29130       13.0           909        -1.0   \n",
       "114                     DRC        27077       63.0           717        -1.0   \n",
       "115                Thailand        27005       78.0            87         1.0   \n",
       "116                   Malta        26748      213.0           354         3.0   \n",
       "117                Maldives        21666       94.0            64        -1.0   \n",
       "118              Madagascar        21587      105.0           334         5.0   \n",
       "119                  Angola        21407       27.0           521        -1.0   \n",
       "120                  Rwanda        20302      116.0           282         2.0   \n",
       "121                 Mayotte        18845      203.0           137         6.0   \n",
       "122        French Polynesia        18546       19.0           141        -1.0   \n",
       "123                  Guinea        17851       -1.0           103        -1.0   \n",
       "124              Mauritania        17457       19.0           444        -1.0   \n",
       "125                Eswatini        17239        2.0           663         2.0   \n",
       "126                   Gabon        16945      285.0           101         5.0   \n",
       "127           French Guiana        16764       -1.0            87        -1.0   \n",
       "128                   Syria        16556       78.0          1104         5.0   \n",
       "129              Cabo Verde        16120       19.0           156        -1.0   \n",
       "130                 Réunion        13801       -1.0            71        -1.0   \n",
       "131                   Haiti        12664       -1.0           250        -1.0   \n",
       "132                  Belize        12383       13.0           316        -1.0   \n",
       "133            Burkina Faso        12378        6.0           144        -1.0   \n",
       "134               Hong Kong        11312       30.0           203        -1.0   \n",
       "135                 Andorra        11289       23.0           113        -1.0   \n",
       "136              Guadeloupe        10614       -1.0           162        -1.0   \n",
       "137                 Lesotho        10530       -1.0           309        -1.0   \n",
       "138             South Sudan         9554       64.0           104        -1.0   \n",
       "139                   Congo         9329       -1.0           131        -1.0   \n",
       "140                 Somalia         9328      138.0           379        12.0   \n",
       "141                  Guyana         9187       27.0           207        -1.0   \n",
       "142                Suriname         9028        4.0           176        -1.0   \n",
       "143                    Mali         8933       20.0           363         3.0   \n",
       "144                 Bahamas         8765      107.0           186         1.0   \n",
       "145                   Aruba         8421       26.0            79        -1.0   \n",
       "146                    Togo         8222      152.0            96         1.0   \n",
       "147     Trinidad and Tobago         7788        5.0           140        -1.0   \n",
       "148              Martinique         6928       -1.0            47        -1.0   \n",
       "149       Equatorial Guinea         6562       -1.0            98        -1.0   \n",
       "150               Nicaragua         6537       -1.0           175        -1.0   \n",
       "151                   Benin         6501       -1.0            81        -1.0   \n",
       "152                Djibouti         6294       26.0            63        -1.0   \n",
       "153                 Iceland         6083       11.0            29        -1.0   \n",
       "154                 Curaçao         5138       28.0            22        -1.0   \n",
       "155                     CAR         5023       -1.0            63        -1.0   \n",
       "156                  Gambia         5019       34.0           153        -1.0   \n",
       "157                   Niger         4865        5.0           182        -1.0   \n",
       "158                    Chad         4328       19.0           155         1.0   \n",
       "159               Gibraltar         4263       -1.0            94        -1.0   \n",
       "160              San Marino         4151        1.0            77        -1.0   \n",
       "161                Mongolia         4083      122.0             4        -1.0   \n",
       "162             Saint Lucia         4053       22.0            55         4.0   \n",
       "163         Channel Islands         4044        1.0            86        -1.0   \n",
       "164            Sierra Leone         3938        1.0            79        -1.0   \n",
       "165                 Comoros         3646       11.0           146        -1.0   \n",
       "166           Guinea-Bissau         3447       -1.0            52        -1.0   \n",
       "167                Barbados         3442       21.0            38         1.0   \n",
       "168              Seychelles         3342       27.0            16        -1.0   \n",
       "169                 Eritrea         3055       17.0             7        -1.0   \n",
       "170                   Yemen         2908       72.0           698         9.0   \n",
       "171           Liechtenstein         2612       -1.0            55        -1.0   \n",
       "172                 Vietnam         2557        3.0            35        -1.0   \n",
       "173                 Burundi         2461       -1.0             3        -1.0   \n",
       "174             New Zealand         2430        7.0            26        -1.0   \n",
       "175        Papua New Guinea         2269      187.0            26         5.0   \n",
       "176        Turks and Caicos         2233       -1.0            15        -1.0   \n",
       "177                  Monaco         2120       13.0            27        -1.0   \n",
       "178            Sint Maarten         2085        3.0            27        -1.0   \n",
       "179   Sao Tome and Principe         2084        6.0            32        -1.0   \n",
       "180                 Liberia         2030       -1.0            85        -1.0   \n",
       "181  St. Vincent Grenadines         1680       -1.0             9        -1.0   \n",
       "182            Saint Martin         1602       -1.0            12        -1.0   \n",
       "183                Cambodia         1325       20.0             1        -1.0   \n",
       "184             Isle of Man         1307       29.0            26        -1.0   \n",
       "185                  Taiwan          990        5.0            10        -1.0   \n",
       "186     Antigua and Barbuda          963       -1.0            27        -1.0   \n",
       "187                  Bhutan          868       -1.0             1        -1.0   \n",
       "188   Caribbean Netherlands          804       41.0             6        -1.0   \n",
       "189               Mauritius          747        5.0            10        -1.0   \n",
       "190                 Bermuda          740        5.0            12        -1.0   \n",
       "191               St. Barth          712       -1.0             1        -1.0   \n",
       "192          Faeroe Islands          661       -1.0             1        -1.0   \n",
       "193                Tanzania          509       -1.0            21        -1.0   \n",
       "194          Cayman Islands          474        6.0             2        -1.0   \n",
       "195             Timor-Leste          203        7.0            -1        -1.0   \n",
       "196                 Brunei           199       -1.0             3        -1.0   \n",
       "197       Wallis and Futuna          186        8.0            -1        -1.0   \n",
       "198                Dominica          156       -1.0            -1        -1.0   \n",
       "199                 Grenada          154        6.0             1        -1.0   \n",
       "200  British Virgin Islands          153       -1.0             1        -1.0   \n",
       "201           New Caledonia           93       -1.0            -1        -1.0   \n",
       "202                    Fiji           66       -1.0             2        -1.0   \n",
       "203                   Macao           48       -1.0            -1        -1.0   \n",
       "204                    Laos           48       -1.0            -1        -1.0   \n",
       "205   Saint Kitts and Nevis           43       -1.0            -1        -1.0   \n",
       "206            Vatican City           27       -1.0            -1        -1.0   \n",
       "207                Anguilla           21       -1.0            -1        -1.0   \n",
       "208              Montserrat           20       -1.0             1        -1.0   \n",
       "209         Solomon Islands           18       -1.0            -1        -1.0   \n",
       "210          Western Sahara           10       -1.0             1        -1.0   \n",
       "211                   Samoa            3       -1.0            -1        -1.0   \n",
       "212                 Vanuatu            3       -1.0            -1        -1.0   \n",
       "213                  Total:    120764967   336327.0       2671762      6550.0   \n",
       "\n",
       "     Total Recovered  New Recovered  Active Cases  Population  \\\n",
       "0           97406968       392946.0    20686237.0          -1   \n",
       "1           22286551       114732.0     7304022.0   332367957   \n",
       "2           10111954        48146.0     1133921.0   213621654   \n",
       "3           11025631        20186.0      225072.0  1389530904   \n",
       "4            4003576         8267.0      303975.0   145978580   \n",
       "5            3526715        29790.0      611232.0    68136918   \n",
       "6             273771          811.0     3713600.0    65375268   \n",
       "7            2605538        15807.0      530357.0    60399096   \n",
       "8            2857714           -1.0      264924.0    46767546   \n",
       "9            2716969        15893.0      148372.0    84976014   \n",
       "10           2365100         7100.0      146170.0    83972604   \n",
       "11           2206210         3630.0       38431.0    51263550   \n",
       "12           1993215         6312.0      154835.0    45487062   \n",
       "13           1705743         4527.0      265837.0   129883602   \n",
       "14           1574455        14228.0      295866.0    37817368   \n",
       "15           1499301         6813.0      194302.0    84746758   \n",
       "16           1455325         1035.0       23287.0    59833051   \n",
       "17           1226007         3491.0      213108.0    43548043   \n",
       "18           1249947         6830.0      136524.0   275553769   \n",
       "19           1329788         7103.0       40009.0    33293729   \n",
       "20           1214056           92.0      164985.0    10722980   \n",
       "21                 0            0.0           0.0    17161582   \n",
       "22            858922         3902.0       31630.0    37974620   \n",
       "23            840668         4999.0       33791.0    19231484   \n",
       "24            787392         3750.0       53724.0    19146957   \n",
       "25            788112         3546.0       26771.0     9197590   \n",
       "26            761788         2371.0       36031.0    10175719   \n",
       "27             54577          195.0      731265.0    11625125   \n",
       "28            690620         4850.0       58677.0    40852352   \n",
       "29                 0            0.0           0.0    10143554   \n",
       "30            560577           71.0       53479.0   110603486   \n",
       "31            571878         1307.0       22038.0   223890015   \n",
       "32            530686           -1.0       33011.0     8699113   \n",
       "33            513127         1432.0       37470.0   165841372   \n",
       "34            354817         2926.0      152296.0     9643036   \n",
       "35            445182           -1.0       70982.0     8712513   \n",
       "36            459288         2022.0       27284.0     9042548   \n",
       "37            476126          277.0        4237.0    37217457   \n",
       "38            401319         5124.0       79723.0    10274252   \n",
       "39            426686         1023.0       12630.0   126203100   \n",
       "40            408085         2438.0       18808.0     9974219   \n",
       "41            331506         2800.0       83025.0     6803853   \n",
       "42            372926          223.0        3253.0    35193520   \n",
       "43            336277          427.0        5873.0     4362324   \n",
       "44            255300           -1.0       74055.0     5461506   \n",
       "45            308247         1973.0       15511.0    32656763   \n",
       "46            294143          658.0        7024.0     9447131   \n",
       "47            263164           -1.0       23094.0    17830687   \n",
       "48            227059         1877.0       44663.0     6911451   \n",
       "49            271401           75.0         895.0    29503331   \n",
       "50            268565          328.0        2933.0     3983763   \n",
       "51            204813          602.0       42618.0    11784623   \n",
       "52            241147          583.0        4342.0     4087371   \n",
       "53            202547          485.0       40526.0    10924285   \n",
       "54            209166         1480.0       24554.0    11905426   \n",
       "55            231061          101.0        6324.0    10203370   \n",
       "56             23364           -1.0      199418.0     4976490   \n",
       "57            206832          683.0       15043.0    18934250   \n",
       "58            190188         2644.0       24956.0    10387083   \n",
       "59            210114          512.0        8564.0     5806564   \n",
       "60            187634         1356.0       21675.0     5184135   \n",
       "61            195507         1335.0       14169.0     4314813   \n",
       "62            188967           -1.0       17264.0     5126791   \n",
       "63            191324           47.0       10910.0     2695360   \n",
       "64            179474         1152.0       21481.0     4027346   \n",
       "65            186386          239.0       10255.0     2079139   \n",
       "66            147767          533.0       32448.0   103683741   \n",
       "67            168627          289.0        7809.0    18147294   \n",
       "68            150870         1441.0       27027.0     7193985   \n",
       "69            166410          230.0        9027.0     2967146   \n",
       "70             68678           26.0      105265.0    10014896   \n",
       "71            143828          118.0       30235.0   116948417   \n",
       "72            158508          311.0       11958.0     2807805   \n",
       "73            145752          353.0       13127.0   209700684   \n",
       "74            136770          341.0        9044.0     5197118   \n",
       "75            137948          383.0        7096.0    28379060   \n",
       "76            132697          919.0       10981.0     6936782   \n",
       "77            121441         1283.0       17806.0     3266393   \n",
       "78            131739           -1.0        7206.0    54666275   \n",
       "79            124823          456.0        6375.0     1742586   \n",
       "80             81061          578.0       34896.0     2875580   \n",
       "81             79994          107.0       32376.0    44404834   \n",
       "82             88596          191.0       23453.0    54598005   \n",
       "83             98133          446.0       11457.0     2083314   \n",
       "84             87754          346.0        6588.0    51300288   \n",
       "85             84837          269.0        7353.0     1871429   \n",
       "86             84969          321.0        2737.0    21476449   \n",
       "87             83621          452.0        3673.0    31525924   \n",
       "88             83875           39.0        1559.0     6599533   \n",
       "89             60007          263.0       25351.0     1327164   \n",
       "90             82375          619.0        1411.0    18742215   \n",
       "91             74290          679.0        8737.0      628122   \n",
       "92             70224           -1.0       10441.0     5451033   \n",
       "93             79331           89.0         725.0    33809036   \n",
       "94             61609         1092.0       10536.0     3482207   \n",
       "95             46000           -1.0       20534.0     5546786   \n",
       "96             50380           -1.0       13411.0    31864760   \n",
       "97             59339          214.0        1084.0     6509234   \n",
       "98             57550          795.0        4283.0    11321740   \n",
       "99             59974            6.0         113.0     5882677   \n",
       "100            54481          540.0        2752.0      633107   \n",
       "101            49481            4.0        4054.0    39540117   \n",
       "102            38514           44.0        2445.0     2573086   \n",
       "103            35261           -1.0        4760.0    27006405   \n",
       "104            15099            4.0       25158.0    46744315   \n",
       "105             2057           -1.0       37572.0     1213537   \n",
       "106            34616          528.0        3079.0    26833559   \n",
       "107            32765          243.0        3253.0    17051222   \n",
       "108            34051            8.0         949.0    15014503   \n",
       "109            29916         1034.0        4636.0     2384799   \n",
       "110            26607          348.0        5173.0    19474308   \n",
       "111            15253          114.0       15560.0     2970264   \n",
       "112            23583          186.0        3593.0    44563377   \n",
       "113            26230           -1.0        1991.0    25707455   \n",
       "114            23002           -1.0        3358.0    91453715   \n",
       "115            26234           80.0         684.0    69923356   \n",
       "116            23376          316.0        3018.0      442371   \n",
       "117            19245          150.0        2357.0      547204   \n",
       "118            20494           14.0         759.0    28186960   \n",
       "119            19948           98.0         938.0    33576529   \n",
       "120            18635           69.0        1385.0    13176002   \n",
       "121             2964           -1.0       15744.0      277404   \n",
       "122             4842           -1.0       13563.0      282050   \n",
       "123            15597           -1.0        2151.0    13380782   \n",
       "124            16789           17.0         224.0     4734777   \n",
       "125            15791           43.0         785.0     1168596   \n",
       "126            14780          197.0        2064.0     2262361   \n",
       "127             9995           -1.0        6682.0      304075   \n",
       "128            11058           88.0        4394.0    17797049   \n",
       "129            15511           59.0         453.0      560225   \n",
       "130            12389           -1.0        1341.0      899804   \n",
       "131            10177           -1.0        2237.0    11500021   \n",
       "132            12004           17.0          63.0      402676   \n",
       "133            11974            9.0         260.0    21302241   \n",
       "134            10769           14.0         340.0     7539721   \n",
       "135            10795           -1.0         381.0       77352   \n",
       "136             2242           -1.0        8210.0      400172   \n",
       "137             3922           -1.0        6299.0     2154183   \n",
       "138             7906           -1.0        1544.0    11285791   \n",
       "139             7514           -1.0        1684.0     5612763   \n",
       "140             4259           29.0        4690.0    16201781   \n",
       "141             8311           23.0         669.0      789223   \n",
       "142             8519            5.0         333.0      590324   \n",
       "143             6511            8.0        2059.0    20656539   \n",
       "144             7645          132.0         934.0      395883   \n",
       "145             8074           29.0         268.0      107085   \n",
       "146             6813          119.0        1313.0     8414056   \n",
       "147             7542           11.0         106.0     1402679   \n",
       "148               98           -1.0        6783.0      375060   \n",
       "149             5938           -1.0         526.0     1434978   \n",
       "150             4225           -1.0        2137.0     6679841   \n",
       "151             5552           -1.0         868.0    12344364   \n",
       "152             5987            9.0         244.0      998066   \n",
       "153             6027            4.0          27.0      342800   \n",
       "154             4719            4.0         397.0      164565   \n",
       "155             4920           -1.0          40.0     4888515   \n",
       "156             4525           88.0         341.0     2463909   \n",
       "157             4507            3.0         176.0    24813762   \n",
       "158             3803           16.0         370.0    16753724   \n",
       "159             4143           -1.0          26.0       33684   \n",
       "160             3624            1.0         450.0       33981   \n",
       "161             3031           30.0        1048.0     3315248   \n",
       "162             3790           19.0         208.0      184218   \n",
       "163             3965           10.0          -7.0      174989   \n",
       "164             2780            1.0        1079.0     8090305   \n",
       "165             3448            4.0          52.0      882535   \n",
       "166             2755           -1.0         640.0     2000440   \n",
       "167             3215           41.0         189.0      287623   \n",
       "168             2903           35.0         423.0       98775   \n",
       "169             2701           70.0         347.0     3580820   \n",
       "170             1500            9.0         710.0    30284463   \n",
       "171             2521            2.0          36.0       38205   \n",
       "172             2115           29.0         407.0    97953767   \n",
       "173              773           -1.0        1685.0    12136984   \n",
       "174             2311            1.0          93.0     5002100   \n",
       "175              846           -1.0        1397.0     9065502   \n",
       "176             2098            1.0         120.0       39084   \n",
       "177             1922           10.0         171.0       39438   \n",
       "178             2048            7.0          10.0       43218   \n",
       "179             1854           37.0         198.0      222005   \n",
       "180             1899           -1.0          46.0     5140590   \n",
       "181             1129           -1.0         542.0      111188   \n",
       "182             1399           -1.0         191.0       39127   \n",
       "183              730           83.0         594.0    16881123   \n",
       "184              430           -1.0         851.0       85350   \n",
       "185              951            1.0          29.0    23847150   \n",
       "186              598           -1.0         338.0       98499   \n",
       "187              866           -1.0           1.0      777570   \n",
       "188              545           20.0         253.0       26394   \n",
       "189              592           -1.0         145.0     1273255   \n",
       "190              699            7.0          29.0       62116   \n",
       "191              462           -1.0         249.0        9898   \n",
       "192              657           -1.0           3.0       48994   \n",
       "193              183           -1.0         305.0    60917855   \n",
       "194              437            7.0          35.0       66263   \n",
       "195              104            5.0          99.0     1335999   \n",
       "196              185           -1.0          11.0      440421   \n",
       "197                7           -1.0         179.0       11099   \n",
       "198              141           -1.0          15.0       72112   \n",
       "199              151            4.0           2.0      112890   \n",
       "200              131           -1.0          21.0       30372   \n",
       "201               58           -1.0          35.0      287425   \n",
       "202               60           -1.0           4.0      901011   \n",
       "203               47           -1.0           1.0      655539   \n",
       "204               42           -1.0           6.0     7349525   \n",
       "205               41           -1.0           2.0       53464   \n",
       "206               15           -1.0          12.0         802   \n",
       "207               18           -1.0           3.0       15097   \n",
       "208               18           -1.0           1.0        4994   \n",
       "209               16           -1.0           2.0      698626   \n",
       "210                8           -1.0           1.0      607576   \n",
       "211                2           -1.0           1.0      199341   \n",
       "212                1           -1.0           2.0      312151   \n",
       "213         97406968       392946.0    20686237.0          -1   \n",
       "\n",
       "             Continent  \n",
       "0                  All  \n",
       "1        North America  \n",
       "2        South America  \n",
       "3                 Asia  \n",
       "4               Europe  \n",
       "5               Europe  \n",
       "6               Europe  \n",
       "7               Europe  \n",
       "8               Europe  \n",
       "9                 Asia  \n",
       "10              Europe  \n",
       "11       South America  \n",
       "12       South America  \n",
       "13       North America  \n",
       "14              Europe  \n",
       "15                Asia  \n",
       "16              Africa  \n",
       "17              Europe  \n",
       "18                Asia  \n",
       "19       South America  \n",
       "20              Europe  \n",
       "21              Europe  \n",
       "22       North America  \n",
       "23       South America  \n",
       "24              Europe  \n",
       "25                Asia  \n",
       "26              Europe  \n",
       "27              Europe  \n",
       "28                Asia  \n",
       "29              Europe  \n",
       "30                Asia  \n",
       "31                Asia  \n",
       "32              Europe  \n",
       "33                Asia  \n",
       "34              Europe  \n",
       "35              Europe  \n",
       "36              Europe  \n",
       "37              Africa  \n",
       "38                Asia  \n",
       "39                Asia  \n",
       "40                Asia  \n",
       "41                Asia  \n",
       "42                Asia  \n",
       "43       North America  \n",
       "44              Europe  \n",
       "45                Asia  \n",
       "46              Europe  \n",
       "47       South America  \n",
       "48              Europe  \n",
       "49                Asia  \n",
       "50                Asia  \n",
       "51       South America  \n",
       "52              Europe  \n",
       "53       North America  \n",
       "54              Africa  \n",
       "55                Asia  \n",
       "56              Europe  \n",
       "57                Asia  \n",
       "58              Europe  \n",
       "59              Europe  \n",
       "60                Asia  \n",
       "61                Asia  \n",
       "62       North America  \n",
       "63              Europe  \n",
       "64              Europe  \n",
       "65              Europe  \n",
       "66              Africa  \n",
       "67       North America  \n",
       "68       South America  \n",
       "69                Asia  \n",
       "70       North America  \n",
       "71              Africa  \n",
       "72                Asia  \n",
       "73              Africa  \n",
       "74                Asia  \n",
       "75       South America  \n",
       "76              Africa  \n",
       "77              Europe  \n",
       "78                Asia  \n",
       "79                Asia  \n",
       "80              Europe  \n",
       "81              Africa  \n",
       "82              Africa  \n",
       "83              Europe  \n",
       "84                Asia  \n",
       "85              Europe  \n",
       "86                Asia  \n",
       "87              Africa  \n",
       "88                Asia  \n",
       "89              Europe  \n",
       "90              Africa  \n",
       "91              Europe  \n",
       "92              Europe  \n",
       "93                Asia  \n",
       "94       South America  \n",
       "95              Europe  \n",
       "96              Africa  \n",
       "97       North America  \n",
       "98       North America  \n",
       "99                Asia  \n",
       "100             Europe  \n",
       "101               Asia  \n",
       "102             Africa  \n",
       "103             Africa  \n",
       "104             Africa  \n",
       "105               Asia  \n",
       "106             Africa  \n",
       "107             Africa  \n",
       "108             Africa  \n",
       "109             Africa  \n",
       "110             Africa  \n",
       "111      North America  \n",
       "112             Africa  \n",
       "113  Australia/Oceania  \n",
       "114             Africa  \n",
       "115               Asia  \n",
       "116             Europe  \n",
       "117               Asia  \n",
       "118             Africa  \n",
       "119             Africa  \n",
       "120             Africa  \n",
       "121             Africa  \n",
       "122  Australia/Oceania  \n",
       "123             Africa  \n",
       "124             Africa  \n",
       "125             Africa  \n",
       "126             Africa  \n",
       "127      South America  \n",
       "128               Asia  \n",
       "129             Africa  \n",
       "130             Africa  \n",
       "131      North America  \n",
       "132      North America  \n",
       "133             Africa  \n",
       "134               Asia  \n",
       "135             Europe  \n",
       "136      North America  \n",
       "137             Africa  \n",
       "138             Africa  \n",
       "139             Africa  \n",
       "140             Africa  \n",
       "141      South America  \n",
       "142      South America  \n",
       "143             Africa  \n",
       "144      North America  \n",
       "145      North America  \n",
       "146             Africa  \n",
       "147      North America  \n",
       "148      North America  \n",
       "149             Africa  \n",
       "150      North America  \n",
       "151             Africa  \n",
       "152             Africa  \n",
       "153             Europe  \n",
       "154      North America  \n",
       "155             Africa  \n",
       "156             Africa  \n",
       "157             Africa  \n",
       "158             Africa  \n",
       "159             Europe  \n",
       "160             Europe  \n",
       "161               Asia  \n",
       "162      North America  \n",
       "163             Europe  \n",
       "164             Africa  \n",
       "165             Africa  \n",
       "166             Africa  \n",
       "167      North America  \n",
       "168             Africa  \n",
       "169             Africa  \n",
       "170               Asia  \n",
       "171             Europe  \n",
       "172               Asia  \n",
       "173             Africa  \n",
       "174  Australia/Oceania  \n",
       "175  Australia/Oceania  \n",
       "176      North America  \n",
       "177             Europe  \n",
       "178      North America  \n",
       "179             Africa  \n",
       "180             Africa  \n",
       "181      North America  \n",
       "182      North America  \n",
       "183               Asia  \n",
       "184             Europe  \n",
       "185               Asia  \n",
       "186      North America  \n",
       "187               Asia  \n",
       "188      North America  \n",
       "189             Africa  \n",
       "190      North America  \n",
       "191      North America  \n",
       "192             Europe  \n",
       "193             Africa  \n",
       "194      North America  \n",
       "195               Asia  \n",
       "196               Asia  \n",
       "197  Australia/Oceania  \n",
       "198      North America  \n",
       "199      North America  \n",
       "200      North America  \n",
       "201  Australia/Oceania  \n",
       "202  Australia/Oceania  \n",
       "203               Asia  \n",
       "204               Asia  \n",
       "205      North America  \n",
       "206             Europe  \n",
       "207      North America  \n",
       "208      North America  \n",
       "209  Australia/Oceania  \n",
       "210             Africa  \n",
       "211  Australia/Oceania  \n",
       "212  Australia/Oceania  \n",
       "213                All  "
      ]
     },
     "execution_count": 13,
     "metadata": {},
     "output_type": "execute_result"
    }
   ],
   "source": [
    "pd.options.display.max_rows = None\n",
    "df"
   ]
  },
  {
   "cell_type": "code",
   "execution_count": 14,
   "metadata": {
    "scrolled": false
   },
   "outputs": [
    {
     "data": {
      "image/png": "[encoded data removed]",
      "text/plain": [
       "<Figure size 720x360 with 1 Axes>"
      ]
     },
     "metadata": {
      "needs_background": "light"
     },
     "output_type": "display_data"
    }
   ],
   "source": [
    "cases_df = df[[\"Total Recovered\", \"Active Cases\", \"Total Deaths\"]].loc[0]\n",
    "pd.DataFrame(cases_df).T.plot.bar(stacked=True, figsize=(10, 5))\n",
    "plt.xticks(np.arange(0, 0, 1)) # No Ticks\n",
    "plt.title(f\"Total Number of Cases, Recoveries, and Deaths on {yesterday_str}\", fontsize=20)\n",
    "plt.legend(prop={\"size\": 12})\n",
    "\n",
    "prev = 0\n",
    "total = cases_df.sum()\n",
    "for num in cases_df.cumsum():\n",
    "    val = round((num-prev)/total*100, 3)\n",
    "    plt.annotate(f\"{val}% ({num-prev})\", (0, (num-prev)/2+prev), fontsize=14, ha='center')\n",
    "    prev = num\n",
    "plt.show()"
   ]
  },
  {
   "cell_type": "code",
   "execution_count": 15,
   "metadata": {},
   "outputs": [
    {
     "data": {
      "text/html": [
       "<div>\n",
       "<style scoped>\n",
       "    .dataframe tbody tr th:only-of-type {\n",
       "        vertical-align: middle;\n",
       "    }\n",
       "\n",
       "    .dataframe tbody tr th {\n",
       "        vertical-align: top;\n",
       "    }\n",
       "\n",
       "    .dataframe thead th {\n",
       "        text-align: right;\n",
       "    }\n",
       "</style>\n",
       "<table border=\"1\" class=\"dataframe\">\n",
       "  <thead>\n",
       "    <tr style=\"text-align: right;\">\n",
       "      <th></th>\n",
       "      <th>Continent</th>\n",
       "      <th>Total Cases</th>\n",
       "      <th>New Cases</th>\n",
       "      <th>Total Deaths</th>\n",
       "      <th>New Deaths</th>\n",
       "      <th>Total Recovered</th>\n",
       "      <th>New Recovered</th>\n",
       "      <th>Active Cases</th>\n",
       "      <th>Population</th>\n",
       "    </tr>\n",
       "  </thead>\n",
       "  <tbody>\n",
       "    <tr>\n",
       "      <th>0</th>\n",
       "      <td>Africa</td>\n",
       "      <td>4075038</td>\n",
       "      <td>8475.0</td>\n",
       "      <td>108296</td>\n",
       "      <td>280.0</td>\n",
       "      <td>3645966</td>\n",
       "      <td>9386.0</td>\n",
       "      <td>320776.0</td>\n",
       "      <td>1362959837</td>\n",
       "    </tr>\n",
       "    <tr>\n",
       "      <th>1</th>\n",
       "      <td>Asia</td>\n",
       "      <td>26158928</td>\n",
       "      <td>94550.0</td>\n",
       "      <td>406093</td>\n",
       "      <td>801.0</td>\n",
       "      <td>24468499</td>\n",
       "      <td>81013.0</td>\n",
       "      <td>1284333.0</td>\n",
       "      <td>3184272331</td>\n",
       "    </tr>\n",
       "    <tr>\n",
       "      <th>2</th>\n",
       "      <td>Australia/Oceania</td>\n",
       "      <td>52744</td>\n",
       "      <td>229.0</td>\n",
       "      <td>1099</td>\n",
       "      <td>-4.0</td>\n",
       "      <td>34373</td>\n",
       "      <td>-8.0</td>\n",
       "      <td>17267.0</td>\n",
       "      <td>42466760</td>\n",
       "    </tr>\n",
       "    <tr>\n",
       "      <th>3</th>\n",
       "      <td>Europe</td>\n",
       "      <td>36390761</td>\n",
       "      <td>112151.0</td>\n",
       "      <td>858922</td>\n",
       "      <td>2437.0</td>\n",
       "      <td>25787110</td>\n",
       "      <td>102951.0</td>\n",
       "      <td>7898773.0</td>\n",
       "      <td>747948885</td>\n",
       "    </tr>\n",
       "    <tr>\n",
       "      <th>4</th>\n",
       "      <td>North America</td>\n",
       "      <td>34637222</td>\n",
       "      <td>54374.0</td>\n",
       "      <td>792623</td>\n",
       "      <td>1061.0</td>\n",
       "      <td>26022100</td>\n",
       "      <td>125796.0</td>\n",
       "      <td>7822496.0</td>\n",
       "      <td>592287546</td>\n",
       "    </tr>\n",
       "    <tr>\n",
       "      <th>5</th>\n",
       "      <td>South America</td>\n",
       "      <td>19346082</td>\n",
       "      <td>66498.0</td>\n",
       "      <td>499976</td>\n",
       "      <td>1881.0</td>\n",
       "      <td>17327064</td>\n",
       "      <td>73734.0</td>\n",
       "      <td>1519042.0</td>\n",
       "      <td>433251663</td>\n",
       "    </tr>\n",
       "  </tbody>\n",
       "</table>\n",
       "</div>"
      ],
      "text/plain": [
       "           Continent  Total Cases  New Cases  Total Deaths  New Deaths  \\\n",
       "0             Africa      4075038     8475.0        108296       280.0   \n",
       "1               Asia     26158928    94550.0        406093       801.0   \n",
       "2  Australia/Oceania        52744      229.0          1099        -4.0   \n",
       "3             Europe     36390761   112151.0        858922      2437.0   \n",
       "4      North America     34637222    54374.0        792623      1061.0   \n",
       "5      South America     19346082    66498.0        499976      1881.0   \n",
       "\n",
       "   Total Recovered  New Recovered  Active Cases  Population  \n",
       "0          3645966         9386.0      320776.0  1362959837  \n",
       "1         24468499        81013.0     1284333.0  3184272331  \n",
       "2            34373           -8.0       17267.0    42466760  \n",
       "3         25787110       102951.0     7898773.0   747948885  \n",
       "4         26022100       125796.0     7822496.0   592287546  \n",
       "5         17327064        73734.0     1519042.0   433251663  "
      ]
     },
     "execution_count": 15,
     "metadata": {},
     "output_type": "execute_result"
    }
   ],
   "source": [
    "continent_df = df.groupby('Continent').sum().drop('All')\n",
    "continent_df = continent_df.reset_index()\n",
    "continent_df"
   ]
  },
  {
   "cell_type": "code",
   "execution_count": 16,
   "metadata": {},
   "outputs": [],
   "source": [
    "cases_vis_list = ['Total Cases', 'Active Cases', 'New Cases']\n",
    "deaths_vis_list = ['Total Deaths', 'New Deaths', 'Deaths/1M']\n",
    "recovered_vis_list = ['Total Recovered', 'New Recovered']\n",
    "tests_vis_list = ['Total Tests', 'Tests/1M']\n",
    "essentials = [['Total Cases', 'Active Cases', 'New Cases'], ['Total Deaths', 'New Deaths'], ['Total Recovered', 'New Recovered']]"
   ]
  },
  {
   "cell_type": "code",
   "execution_count": 17,
   "metadata": {},
   "outputs": [],
   "source": [
    "def continent_visualization(vis_list):\n",
    "    for label in vis_list:\n",
    "        pd.DataFrame(continent_df[label]).T.plot.bar(stacked=True, figsize=(10, 5))\n",
    "        plt.title(f\"{label} at the end of {yesterday_str}\", fontsize=24)\n",
    "        plt.xlabel(\"\")\n",
    "        plt.ylabel(f\"{label}\", fontsize=16)\n",
    "        plt.yticks(fontsize=16)\n",
    "        plt.legend(continent_df['Continent'])\n",
    "\n",
    "        prev = 0\n",
    "        total = continent_df[label].sum()\n",
    "        for num in continent_df[label].cumsum():\n",
    "            val = round((num-prev)/total*100, 3)\n",
    "            if val < 1:\n",
    "                continue\n",
    "            plt.annotate(f\"{val}% ({round(num-prev)})\", (0, (num-prev)/2+prev), fontsize=14, ha='center')\n",
    "            prev = num\n",
    "\n",
    "        plt.show()\n",
    "        gc.collect()"
   ]
  },
  {
   "cell_type": "code",
   "execution_count": 18,
   "metadata": {
    "scrolled": false
   },
   "outputs": [
    {
     "data": {
      "image/png": "[encoded data removed]",
      "text/plain": [
       "<Figure size 720x360 with 1 Axes>"
      ]
     },
     "metadata": {
      "needs_background": "light"
     },
     "output_type": "display_data"
    },
    {
     "data": {
      "image/png": "[encoded data removed]",
      "text/plain": [
       "<Figure size 720x360 with 1 Axes>"
      ]
     },
     "metadata": {
      "needs_background": "light"
     },
     "output_type": "display_data"
    },
    {
     "data": {
      "image/png": "[encoded data removed]",
      "text/plain": [
       "<Figure size 720x360 with 1 Axes>"
      ]
     },
     "metadata": {
      "needs_background": "light"
     },
     "output_type": "display_data"
    }
   ],
   "source": [
    "continent_visualization(cases_vis_list)\n"
   ]
  },
  {
   "cell_type": "code",
   "execution_count": 19,
   "metadata": {},
   "outputs": [],
   "source": [
    "df = df.drop([len(df)-1])\n",
    "country_df = df.drop([0])"
   ]
  },
  {
   "cell_type": "code",
   "execution_count": 27,
   "metadata": {},
   "outputs": [
    {
     "data": {
      "application/vnd.plotly.v1+json": {
       "config": {
        "plotlyServerURL": "https://plot.ly"
       },
       "data": [
        {
         "name": "USA",
         "type": "bar",
         "x": [
          "Total Cases",
          "New Cases",
          "Total Deaths",
          "New Deaths",
          "Total Recovered",
          "New Recovered",
          "Active Cases",
          "Population",
          "Continent"
         ],
         "y": [
          30138586,
          45045,
          548013,
          785,
          22286551,
          114732,
          7304022,
          332367957,
          "North America"
         ]
        },
        {
         "name": "Brazil",
         "type": "bar",
         "x": [
          "Total Cases",
          "New Cases",
          "Total Deaths",
          "New Deaths",
          "Total Recovered",
          "New Recovered",
          "Active Cases",
          "Population",
          "Continent"
         ],
         "y": [
          11525477,
          42107,
          279602,
          1275,
          10111954,
          48146,
          1133921,
          213621654,
          "South America"
         ]
        },
        {
         "name": "India",
         "type": "bar",
         "x": [
          "Total Cases",
          "New Cases",
          "Total Deaths",
          "New Deaths",
          "Total Recovered",
          "New Recovered",
          "Active Cases",
          "Population",
          "Continent"
         ],
         "y": [
          11409595,
          24437,
          158892,
          130,
          11025631,
          20186,
          225072,
          1389530904,
          "Asia"
         ]
        },
        {
         "name": "Russia",
         "type": "bar",
         "x": [
          "Total Cases",
          "New Cases",
          "Total Deaths",
          "New Deaths",
          "Total Recovered",
          "New Recovered",
          "Active Cases",
          "Population",
          "Continent"
         ],
         "y": [
          4400045,
          9437,
          92494,
          404,
          4003576,
          8267,
          303975,
          145978580,
          "Europe"
         ]
        }
       ],
       "layout": {
        "template": {
         "data": {
          "bar": [
           {
            "error_x": {
             "color": "#2a3f5f"
            },
            "error_y": {
             "color": "#2a3f5f"
            },
            "marker": {
             "line": {
              "color": "#E5ECF6",
              "width": 0.5
             }
            },
            "type": "bar"
           }
          ],
          "barpolar": [
           {
            "marker": {
             "line": {
              "color": "#E5ECF6",
              "width": 0.5
             }
            },
            "type": "barpolar"
           }
          ],
          "carpet": [
           {
            "aaxis": {
             "endlinecolor": "#2a3f5f",
             "gridcolor": "white",
             "linecolor": "white",
             "minorgridcolor": "white",
             "startlinecolor": "#2a3f5f"
            },
            "baxis": {
             "endlinecolor": "#2a3f5f",
             "gridcolor": "white",
             "linecolor": "white",
             "minorgridcolor": "white",
             "startlinecolor": "#2a3f5f"
            },
            "type": "carpet"
           }
          ],
          "choropleth": [
           {
            "colorbar": {
             "outlinewidth": 0,
             "ticks": ""
            },
            "type": "choropleth"
           }
          ],
          "contour": [
           {
            "colorbar": {
             "outlinewidth": 0,
             "ticks": ""
            },
            "colorscale": [
             [
              0,
              "#0d0887"
             ],
             [
              0.1111111111111111,
              "#46039f"
             ],
             [
              0.2222222222222222,
              "#7201a8"
             ],
             [
              0.3333333333333333,
              "#9c179e"
             ],
             [
              0.4444444444444444,
              "#bd3786"
             ],
             [
              0.5555555555555556,
              "#d8576b"
             ],
             [
              0.6666666666666666,
              "#ed7953"
             ],
             [
              0.7777777777777778,
              "#fb9f3a"
             ],
             [
              0.8888888888888888,
              "#fdca26"
             ],
             [
              1,
              "#f0f921"
             ]
            ],
            "type": "contour"
           }
          ],
          "contourcarpet": [
           {
            "colorbar": {
             "outlinewidth": 0,
             "ticks": ""
            },
            "type": "contourcarpet"
           }
          ],
          "heatmap": [
           {
            "colorbar": {
             "outlinewidth": 0,
             "ticks": ""
            },
            "colorscale": [
             [
              0,
              "#0d0887"
             ],
             [
              0.1111111111111111,
              "#46039f"
             ],
             [
              0.2222222222222222,
              "#7201a8"
             ],
             [
              0.3333333333333333,
              "#9c179e"
             ],
             [
              0.4444444444444444,
              "#bd3786"
             ],
             [
              0.5555555555555556,
              "#d8576b"
             ],
             [
              0.6666666666666666,
              "#ed7953"
             ],
             [
              0.7777777777777778,
              "#fb9f3a"
             ],
             [
              0.8888888888888888,
              "#fdca26"
             ],
             [
              1,
              "#f0f921"
             ]
            ],
            "type": "heatmap"
           }
          ],
          "heatmapgl": [
           {
            "colorbar": {
             "outlinewidth": 0,
             "ticks": ""
            },
            "colorscale": [
             [
              0,
              "#0d0887"
             ],
             [
              0.1111111111111111,
              "#46039f"
             ],
             [
              0.2222222222222222,
              "#7201a8"
             ],
             [
              0.3333333333333333,
              "#9c179e"
             ],
             [
              0.4444444444444444,
              "#bd3786"
             ],
             [
              0.5555555555555556,
              "#d8576b"
             ],
             [
              0.6666666666666666,
              "#ed7953"
             ],
             [
              0.7777777777777778,
              "#fb9f3a"
             ],
             [
              0.8888888888888888,
              "#fdca26"
             ],
             [
              1,
              "#f0f921"
             ]
            ],
            "type": "heatmapgl"
           }
          ],
          "histogram": [
           {
            "marker": {
             "colorbar": {
              "outlinewidth": 0,
              "ticks": ""
             }
            },
            "type": "histogram"
           }
          ],
          "histogram2d": [
           {
            "colorbar": {
             "outlinewidth": 0,
             "ticks": ""
            },
            "colorscale": [
             [
              0,
              "#0d0887"
             ],
             [
              0.1111111111111111,
              "#46039f"
             ],
             [
              0.2222222222222222,
              "#7201a8"
             ],
             [
              0.3333333333333333,
              "#9c179e"
             ],
             [
              0.4444444444444444,
              "#bd3786"
             ],
             [
              0.5555555555555556,
              "#d8576b"
             ],
             [
              0.6666666666666666,
              "#ed7953"
             ],
             [
              0.7777777777777778,
              "#fb9f3a"
             ],
             [
              0.8888888888888888,
              "#fdca26"
             ],
             [
              1,
              "#f0f921"
             ]
            ],
            "type": "histogram2d"
           }
          ],
          "histogram2dcontour": [
           {
            "colorbar": {
             "outlinewidth": 0,
             "ticks": ""
            },
            "colorscale": [
             [
              0,
              "#0d0887"
             ],
             [
              0.1111111111111111,
              "#46039f"
             ],
             [
              0.2222222222222222,
              "#7201a8"
             ],
             [
              0.3333333333333333,
              "#9c179e"
             ],
             [
              0.4444444444444444,
              "#bd3786"
             ],
             [
              0.5555555555555556,
              "#d8576b"
             ],
             [
              0.6666666666666666,
              "#ed7953"
             ],
             [
              0.7777777777777778,
              "#fb9f3a"
             ],
             [
              0.8888888888888888,
              "#fdca26"
             ],
             [
              1,
              "#f0f921"
             ]
            ],
            "type": "histogram2dcontour"
           }
          ],
          "mesh3d": [
           {
            "colorbar": {
             "outlinewidth": 0,
             "ticks": ""
            },
            "type": "mesh3d"
           }
          ],
          "parcoords": [
           {
            "line": {
             "colorbar": {
              "outlinewidth": 0,
              "ticks": ""
             }
            },
            "type": "parcoords"
           }
          ],
          "pie": [
           {
            "automargin": true,
            "type": "pie"
           }
          ],
          "scatter": [
           {
            "marker": {
             "colorbar": {
              "outlinewidth": 0,
              "ticks": ""
             }
            },
            "type": "scatter"
           }
          ],
          "scatter3d": [
           {
            "line": {
             "colorbar": {
              "outlinewidth": 0,
              "ticks": ""
             }
            },
            "marker": {
             "colorbar": {
              "outlinewidth": 0,
              "ticks": ""
             }
            },
            "type": "scatter3d"
           }
          ],
          "scattercarpet": [
           {
            "marker": {
             "colorbar": {
              "outlinewidth": 0,
              "ticks": ""
             }
            },
            "type": "scattercarpet"
           }
          ],
          "scattergeo": [
           {
            "marker": {
             "colorbar": {
              "outlinewidth": 0,
              "ticks": ""
             }
            },
            "type": "scattergeo"
           }
          ],
          "scattergl": [
           {
            "marker": {
             "colorbar": {
              "outlinewidth": 0,
              "ticks": ""
             }
            },
            "type": "scattergl"
           }
          ],
          "scattermapbox": [
           {
            "marker": {
             "colorbar": {
              "outlinewidth": 0,
              "ticks": ""
             }
            },
            "type": "scattermapbox"
           }
          ],
          "scatterpolar": [
           {
            "marker": {
             "colorbar": {
              "outlinewidth": 0,
              "ticks": ""
             }
            },
            "type": "scatterpolar"
           }
          ],
          "scatterpolargl": [
           {
            "marker": {
             "colorbar": {
              "outlinewidth": 0,
              "ticks": ""
             }
            },
            "type": "scatterpolargl"
           }
          ],
          "scatterternary": [
           {
            "marker": {
             "colorbar": {
              "outlinewidth": 0,
              "ticks": ""
             }
            },
            "type": "scatterternary"
           }
          ],
          "surface": [
           {
            "colorbar": {
             "outlinewidth": 0,
             "ticks": ""
            },
            "colorscale": [
             [
              0,
              "#0d0887"
             ],
             [
              0.1111111111111111,
              "#46039f"
             ],
             [
              0.2222222222222222,
              "#7201a8"
             ],
             [
              0.3333333333333333,
              "#9c179e"
             ],
             [
              0.4444444444444444,
              "#bd3786"
             ],
             [
              0.5555555555555556,
              "#d8576b"
             ],
             [
              0.6666666666666666,
              "#ed7953"
             ],
             [
              0.7777777777777778,
              "#fb9f3a"
             ],
             [
              0.8888888888888888,
              "#fdca26"
             ],
             [
              1,
              "#f0f921"
             ]
            ],
            "type": "surface"
           }
          ],
          "table": [
           {
            "cells": {
             "fill": {
              "color": "#EBF0F8"
             },
             "line": {
              "color": "white"
             }
            },
            "header": {
             "fill": {
              "color": "#C8D4E3"
             },
             "line": {
              "color": "white"
             }
            },
            "type": "table"
           }
          ]
         },
         "layout": {
          "annotationdefaults": {
           "arrowcolor": "#2a3f5f",
           "arrowhead": 0,
           "arrowwidth": 1
          },
          "autotypenumbers": "strict",
          "coloraxis": {
           "colorbar": {
            "outlinewidth": 0,
            "ticks": ""
           }
          },
          "colorscale": {
           "diverging": [
            [
             0,
             "#8e0152"
            ],
            [
             0.1,
             "#c51b7d"
            ],
            [
             0.2,
             "#de77ae"
            ],
            [
             0.3,
             "#f1b6da"
            ],
            [
             0.4,
             "#fde0ef"
            ],
            [
             0.5,
             "#f7f7f7"
            ],
            [
             0.6,
             "#e6f5d0"
            ],
            [
             0.7,
             "#b8e186"
            ],
            [
             0.8,
             "#7fbc41"
            ],
            [
             0.9,
             "#4d9221"
            ],
            [
             1,
             "#276419"
            ]
           ],
           "sequential": [
            [
             0,
             "#0d0887"
            ],
            [
             0.1111111111111111,
             "#46039f"
            ],
            [
             0.2222222222222222,
             "#7201a8"
            ],
            [
             0.3333333333333333,
             "#9c179e"
            ],
            [
             0.4444444444444444,
             "#bd3786"
            ],
            [
             0.5555555555555556,
             "#d8576b"
            ],
            [
             0.6666666666666666,
             "#ed7953"
            ],
            [
             0.7777777777777778,
             "#fb9f3a"
            ],
            [
             0.8888888888888888,
             "#fdca26"
            ],
            [
             1,
             "#f0f921"
            ]
           ],
           "sequentialminus": [
            [
             0,
             "#0d0887"
            ],
            [
             0.1111111111111111,
             "#46039f"
            ],
            [
             0.2222222222222222,
             "#7201a8"
            ],
            [
             0.3333333333333333,
             "#9c179e"
            ],
            [
             0.4444444444444444,
             "#bd3786"
            ],
            [
             0.5555555555555556,
             "#d8576b"
            ],
            [
             0.6666666666666666,
             "#ed7953"
            ],
            [
             0.7777777777777778,
             "#fb9f3a"
            ],
            [
             0.8888888888888888,
             "#fdca26"
            ],
            [
             1,
             "#f0f921"
            ]
           ]
          },
          "colorway": [
           "#636efa",
           "#EF553B",
           "#00cc96",
           "#ab63fa",
           "#FFA15A",
           "#19d3f3",
           "#FF6692",
           "#B6E880",
           "#FF97FF",
           "#FECB52"
          ],
          "font": {
           "color": "#2a3f5f"
          },
          "geo": {
           "bgcolor": "white",
           "lakecolor": "white",
           "landcolor": "#E5ECF6",
           "showlakes": true,
           "showland": true,
           "subunitcolor": "white"
          },
          "hoverlabel": {
           "align": "left"
          },
          "hovermode": "closest",
          "mapbox": {
           "style": "light"
          },
          "paper_bgcolor": "white",
          "plot_bgcolor": "#E5ECF6",
          "polar": {
           "angularaxis": {
            "gridcolor": "white",
            "linecolor": "white",
            "ticks": ""
           },
           "bgcolor": "#E5ECF6",
           "radialaxis": {
            "gridcolor": "white",
            "linecolor": "white",
            "ticks": ""
           }
          },
          "scene": {
           "xaxis": {
            "backgroundcolor": "#E5ECF6",
            "gridcolor": "white",
            "gridwidth": 2,
            "linecolor": "white",
            "showbackground": true,
            "ticks": "",
            "zerolinecolor": "white"
           },
           "yaxis": {
            "backgroundcolor": "#E5ECF6",
            "gridcolor": "white",
            "gridwidth": 2,
            "linecolor": "white",
            "showbackground": true,
            "ticks": "",
            "zerolinecolor": "white"
           },
           "zaxis": {
            "backgroundcolor": "#E5ECF6",
            "gridcolor": "white",
            "gridwidth": 2,
            "linecolor": "white",
            "showbackground": true,
            "ticks": "",
            "zerolinecolor": "white"
           }
          },
          "shapedefaults": {
           "line": {
            "color": "#2a3f5f"
           }
          },
          "ternary": {
           "aaxis": {
            "gridcolor": "white",
            "linecolor": "white",
            "ticks": ""
           },
           "baxis": {
            "gridcolor": "white",
            "linecolor": "white",
            "ticks": ""
           },
           "bgcolor": "#E5ECF6",
           "caxis": {
            "gridcolor": "white",
            "linecolor": "white",
            "ticks": ""
           }
          },
          "title": {
           "x": 0.05
          },
          "xaxis": {
           "automargin": true,
           "gridcolor": "white",
           "linecolor": "white",
           "ticks": "",
           "title": {
            "standoff": 15
           },
           "zerolinecolor": "white",
           "zerolinewidth": 2
          },
          "yaxis": {
           "automargin": true,
           "gridcolor": "white",
           "linecolor": "white",
           "ticks": "",
           "title": {
            "standoff": 15
           },
           "zerolinecolor": "white",
           "zerolinewidth": 2
          }
         }
        },
        "title": {
         "font": {
          "size": 20
         },
         "text": "4 Countries with Most COVID Cases on Mar 15, 2021",
         "x": 0.5,
         "xanchor": "center"
        },
        "xaxis": {
         "tickangle": -90
        },
        "yaxis": {
         "title": {
          "text": "Percentage"
         },
         "type": "log"
        }
       }
      },
      "text/html": [
       "<div>                            <div id=\"af115815-bc68-4704-a02a-4bc9e44be5d3\" class=\"plotly-graph-div\" style=\"height:525px; width:100%;\"></div>            <script type=\"text/javascript\">                require([\"plotly\"], function(Plotly) {                    window.PLOTLYENV=window.PLOTLYENV || {};                                    if (document.getElementById(\"af115815-bc68-4704-a02a-4bc9e44be5d3\")) {                    Plotly.newPlot(                        \"af115815-bc68-4704-a02a-4bc9e44be5d3\",                        [{\"name\": \"USA\", \"type\": \"bar\", \"x\": [\"Total Cases\", \"New Cases\", \"Total Deaths\", \"New Deaths\", \"Total Recovered\", \"New Recovered\", \"Active Cases\", \"Population\", \"Continent\"], \"y\": [30138586, 45045.0, 548013, 785.0, 22286551, 114732.0, 7304022.0, 332367957, \"North America\"]}, {\"name\": \"Brazil\", \"type\": \"bar\", \"x\": [\"Total Cases\", \"New Cases\", \"Total Deaths\", \"New Deaths\", \"Total Recovered\", \"New Recovered\", \"Active Cases\", \"Population\", \"Continent\"], \"y\": [11525477, 42107.0, 279602, 1275.0, 10111954, 48146.0, 1133921.0, 213621654, \"South America\"]}, {\"name\": \"India\", \"type\": \"bar\", \"x\": [\"Total Cases\", \"New Cases\", \"Total Deaths\", \"New Deaths\", \"Total Recovered\", \"New Recovered\", \"Active Cases\", \"Population\", \"Continent\"], \"y\": [11409595, 24437.0, 158892, 130.0, 11025631, 20186.0, 225072.0, 1389530904, \"Asia\"]}, {\"name\": \"Russia\", \"type\": \"bar\", \"x\": [\"Total Cases\", \"New Cases\", \"Total Deaths\", \"New Deaths\", \"Total Recovered\", \"New Recovered\", \"Active Cases\", \"Population\", \"Continent\"], \"y\": [4400045, 9437.0, 92494, 404.0, 4003576, 8267.0, 303975.0, 145978580, \"Europe\"]}],                        {\"template\": {\"data\": {\"bar\": [{\"error_x\": {\"color\": \"#2a3f5f\"}, \"error_y\": {\"color\": \"#2a3f5f\"}, \"marker\": {\"line\": {\"color\": \"#E5ECF6\", \"width\": 0.5}}, \"type\": \"bar\"}], \"barpolar\": [{\"marker\": {\"line\": {\"color\": \"#E5ECF6\", \"width\": 0.5}}, \"type\": \"barpolar\"}], \"carpet\": [{\"aaxis\": {\"endlinecolor\": \"#2a3f5f\", \"gridcolor\": \"white\", \"linecolor\": \"white\", \"minorgridcolor\": \"white\", \"startlinecolor\": \"#2a3f5f\"}, \"baxis\": {\"endlinecolor\": \"#2a3f5f\", \"gridcolor\": \"white\", \"linecolor\": \"white\", \"minorgridcolor\": \"white\", \"startlinecolor\": \"#2a3f5f\"}, \"type\": \"carpet\"}], \"choropleth\": [{\"colorbar\": {\"outlinewidth\": 0, \"ticks\": \"\"}, \"type\": \"choropleth\"}], \"contour\": [{\"colorbar\": {\"outlinewidth\": 0, \"ticks\": \"\"}, \"colorscale\": [[0.0, \"#0d0887\"], [0.1111111111111111, \"#46039f\"], [0.2222222222222222, \"#7201a8\"], [0.3333333333333333, \"#9c179e\"], [0.4444444444444444, \"#bd3786\"], [0.5555555555555556, \"#d8576b\"], [0.6666666666666666, \"#ed7953\"], [0.7777777777777778, \"#fb9f3a\"], [0.8888888888888888, \"#fdca26\"], [1.0, \"#f0f921\"]], \"type\": \"contour\"}], \"contourcarpet\": [{\"colorbar\": {\"outlinewidth\": 0, \"ticks\": \"\"}, \"type\": \"contourcarpet\"}], \"heatmap\": [{\"colorbar\": {\"outlinewidth\": 0, \"ticks\": \"\"}, \"colorscale\": [[0.0, \"#0d0887\"], [0.1111111111111111, \"#46039f\"], [0.2222222222222222, \"#7201a8\"], [0.3333333333333333, \"#9c179e\"], [0.4444444444444444, \"#bd3786\"], [0.5555555555555556, \"#d8576b\"], [0.6666666666666666, \"#ed7953\"], [0.7777777777777778, \"#fb9f3a\"], [0.8888888888888888, \"#fdca26\"], [1.0, \"#f0f921\"]], \"type\": \"heatmap\"}], \"heatmapgl\": [{\"colorbar\": {\"outlinewidth\": 0, \"ticks\": \"\"}, \"colorscale\": [[0.0, \"#0d0887\"], [0.1111111111111111, \"#46039f\"], [0.2222222222222222, \"#7201a8\"], [0.3333333333333333, \"#9c179e\"], [0.4444444444444444, \"#bd3786\"], [0.5555555555555556, \"#d8576b\"], [0.6666666666666666, \"#ed7953\"], [0.7777777777777778, \"#fb9f3a\"], [0.8888888888888888, \"#fdca26\"], [1.0, \"#f0f921\"]], \"type\": \"heatmapgl\"}], \"histogram\": [{\"marker\": {\"colorbar\": {\"outlinewidth\": 0, \"ticks\": \"\"}}, \"type\": \"histogram\"}], \"histogram2d\": [{\"colorbar\": {\"outlinewidth\": 0, \"ticks\": \"\"}, \"colorscale\": [[0.0, \"#0d0887\"], [0.1111111111111111, \"#46039f\"], [0.2222222222222222, \"#7201a8\"], [0.3333333333333333, \"#9c179e\"], [0.4444444444444444, \"#bd3786\"], [0.5555555555555556, \"#d8576b\"], [0.6666666666666666, \"#ed7953\"], [0.7777777777777778, \"#fb9f3a\"], [0.8888888888888888, \"#fdca26\"], [1.0, \"#f0f921\"]], \"type\": \"histogram2d\"}], \"histogram2dcontour\": [{\"colorbar\": {\"outlinewidth\": 0, \"ticks\": \"\"}, \"colorscale\": [[0.0, \"#0d0887\"], [0.1111111111111111, \"#46039f\"], [0.2222222222222222, \"#7201a8\"], [0.3333333333333333, \"#9c179e\"], [0.4444444444444444, \"#bd3786\"], [0.5555555555555556, \"#d8576b\"], [0.6666666666666666, \"#ed7953\"], [0.7777777777777778, \"#fb9f3a\"], [0.8888888888888888, \"#fdca26\"], [1.0, \"#f0f921\"]], \"type\": \"histogram2dcontour\"}], \"mesh3d\": [{\"colorbar\": {\"outlinewidth\": 0, \"ticks\": \"\"}, \"type\": \"mesh3d\"}], \"parcoords\": [{\"line\": {\"colorbar\": {\"outlinewidth\": 0, \"ticks\": \"\"}}, \"type\": \"parcoords\"}], \"pie\": [{\"automargin\": true, \"type\": \"pie\"}], \"scatter\": [{\"marker\": {\"colorbar\": {\"outlinewidth\": 0, \"ticks\": \"\"}}, \"type\": \"scatter\"}], \"scatter3d\": [{\"line\": {\"colorbar\": {\"outlinewidth\": 0, \"ticks\": \"\"}}, \"marker\": {\"colorbar\": {\"outlinewidth\": 0, \"ticks\": \"\"}}, \"type\": \"scatter3d\"}], \"scattercarpet\": [{\"marker\": {\"colorbar\": {\"outlinewidth\": 0, \"ticks\": \"\"}}, \"type\": \"scattercarpet\"}], \"scattergeo\": [{\"marker\": {\"colorbar\": {\"outlinewidth\": 0, \"ticks\": \"\"}}, \"type\": \"scattergeo\"}], \"scattergl\": [{\"marker\": {\"colorbar\": {\"outlinewidth\": 0, \"ticks\": \"\"}}, \"type\": \"scattergl\"}], \"scattermapbox\": [{\"marker\": {\"colorbar\": {\"outlinewidth\": 0, \"ticks\": \"\"}}, \"type\": \"scattermapbox\"}], \"scatterpolar\": [{\"marker\": {\"colorbar\": {\"outlinewidth\": 0, \"ticks\": \"\"}}, \"type\": \"scatterpolar\"}], \"scatterpolargl\": [{\"marker\": {\"colorbar\": {\"outlinewidth\": 0, \"ticks\": \"\"}}, \"type\": \"scatterpolargl\"}], \"scatterternary\": [{\"marker\": {\"colorbar\": {\"outlinewidth\": 0, \"ticks\": \"\"}}, \"type\": \"scatterternary\"}], \"surface\": [{\"colorbar\": {\"outlinewidth\": 0, \"ticks\": \"\"}, \"colorscale\": [[0.0, \"#0d0887\"], [0.1111111111111111, \"#46039f\"], [0.2222222222222222, \"#7201a8\"], [0.3333333333333333, \"#9c179e\"], [0.4444444444444444, \"#bd3786\"], [0.5555555555555556, \"#d8576b\"], [0.6666666666666666, \"#ed7953\"], [0.7777777777777778, \"#fb9f3a\"], [0.8888888888888888, \"#fdca26\"], [1.0, \"#f0f921\"]], \"type\": \"surface\"}], \"table\": [{\"cells\": {\"fill\": {\"color\": \"#EBF0F8\"}, \"line\": {\"color\": \"white\"}}, \"header\": {\"fill\": {\"color\": \"#C8D4E3\"}, \"line\": {\"color\": \"white\"}}, \"type\": \"table\"}]}, \"layout\": {\"annotationdefaults\": {\"arrowcolor\": \"#2a3f5f\", \"arrowhead\": 0, \"arrowwidth\": 1}, \"autotypenumbers\": \"strict\", \"coloraxis\": {\"colorbar\": {\"outlinewidth\": 0, \"ticks\": \"\"}}, \"colorscale\": {\"diverging\": [[0, \"#8e0152\"], [0.1, \"#c51b7d\"], [0.2, \"#de77ae\"], [0.3, \"#f1b6da\"], [0.4, \"#fde0ef\"], [0.5, \"#f7f7f7\"], [0.6, \"#e6f5d0\"], [0.7, \"#b8e186\"], [0.8, \"#7fbc41\"], [0.9, \"#4d9221\"], [1, \"#276419\"]], \"sequential\": [[0.0, \"#0d0887\"], [0.1111111111111111, \"#46039f\"], [0.2222222222222222, \"#7201a8\"], [0.3333333333333333, \"#9c179e\"], [0.4444444444444444, \"#bd3786\"], [0.5555555555555556, \"#d8576b\"], [0.6666666666666666, \"#ed7953\"], [0.7777777777777778, \"#fb9f3a\"], [0.8888888888888888, \"#fdca26\"], [1.0, \"#f0f921\"]], \"sequentialminus\": [[0.0, \"#0d0887\"], [0.1111111111111111, \"#46039f\"], [0.2222222222222222, \"#7201a8\"], [0.3333333333333333, \"#9c179e\"], [0.4444444444444444, \"#bd3786\"], [0.5555555555555556, \"#d8576b\"], [0.6666666666666666, \"#ed7953\"], [0.7777777777777778, \"#fb9f3a\"], [0.8888888888888888, \"#fdca26\"], [1.0, \"#f0f921\"]]}, \"colorway\": [\"#636efa\", \"#EF553B\", \"#00cc96\", \"#ab63fa\", \"#FFA15A\", \"#19d3f3\", \"#FF6692\", \"#B6E880\", \"#FF97FF\", \"#FECB52\"], \"font\": {\"color\": \"#2a3f5f\"}, \"geo\": {\"bgcolor\": \"white\", \"lakecolor\": \"white\", \"landcolor\": \"#E5ECF6\", \"showlakes\": true, \"showland\": true, \"subunitcolor\": \"white\"}, \"hoverlabel\": {\"align\": \"left\"}, \"hovermode\": \"closest\", \"mapbox\": {\"style\": \"light\"}, \"paper_bgcolor\": \"white\", \"plot_bgcolor\": \"#E5ECF6\", \"polar\": {\"angularaxis\": {\"gridcolor\": \"white\", \"linecolor\": \"white\", \"ticks\": \"\"}, \"bgcolor\": \"#E5ECF6\", \"radialaxis\": {\"gridcolor\": \"white\", \"linecolor\": \"white\", \"ticks\": \"\"}}, \"scene\": {\"xaxis\": {\"backgroundcolor\": \"#E5ECF6\", \"gridcolor\": \"white\", \"gridwidth\": 2, \"linecolor\": \"white\", \"showbackground\": true, \"ticks\": \"\", \"zerolinecolor\": \"white\"}, \"yaxis\": {\"backgroundcolor\": \"#E5ECF6\", \"gridcolor\": \"white\", \"gridwidth\": 2, \"linecolor\": \"white\", \"showbackground\": true, \"ticks\": \"\", \"zerolinecolor\": \"white\"}, \"zaxis\": {\"backgroundcolor\": \"#E5ECF6\", \"gridcolor\": \"white\", \"gridwidth\": 2, \"linecolor\": \"white\", \"showbackground\": true, \"ticks\": \"\", \"zerolinecolor\": \"white\"}}, \"shapedefaults\": {\"line\": {\"color\": \"#2a3f5f\"}}, \"ternary\": {\"aaxis\": {\"gridcolor\": \"white\", \"linecolor\": \"white\", \"ticks\": \"\"}, \"baxis\": {\"gridcolor\": \"white\", \"linecolor\": \"white\", \"ticks\": \"\"}, \"bgcolor\": \"#E5ECF6\", \"caxis\": {\"gridcolor\": \"white\", \"linecolor\": \"white\", \"ticks\": \"\"}}, \"title\": {\"x\": 0.05}, \"xaxis\": {\"automargin\": true, \"gridcolor\": \"white\", \"linecolor\": \"white\", \"ticks\": \"\", \"title\": {\"standoff\": 15}, \"zerolinecolor\": \"white\", \"zerolinewidth\": 2}, \"yaxis\": {\"automargin\": true, \"gridcolor\": \"white\", \"linecolor\": \"white\", \"ticks\": \"\", \"title\": {\"standoff\": 15}, \"zerolinecolor\": \"white\", \"zerolinewidth\": 2}}}, \"title\": {\"font\": {\"size\": 20}, \"text\": \"4 Countries with Most COVID Cases on Mar 15, 2021\", \"x\": 0.5, \"xanchor\": \"center\"}, \"xaxis\": {\"tickangle\": -90}, \"yaxis\": {\"title\": {\"text\": \"Percentage\"}, \"type\": \"log\"}},                        {\"responsive\": true}                    ).then(function(){\n",
       "                            \n",
       "var gd = document.getElementById('af115815-bc68-4704-a02a-4bc9e44be5d3');\n",
       "var x = new MutationObserver(function (mutations, observer) {{\n",
       "        var display = window.getComputedStyle(gd).display;\n",
       "        if (!display || display === 'none') {{\n",
       "            console.log([gd, 'removed!']);\n",
       "            Plotly.purge(gd);\n",
       "            observer.disconnect();\n",
       "        }}\n",
       "}});\n",
       "\n",
       "// Listen for the removal of the full notebook cells\n",
       "var notebookContainer = gd.closest('#notebook-container');\n",
       "if (notebookContainer) {{\n",
       "    x.observe(notebookContainer, {childList: true});\n",
       "}}\n",
       "\n",
       "// Listen for the clearing of the current output cell\n",
       "var outputEl = gd.closest('.output');\n",
       "if (outputEl) {{\n",
       "    x.observe(outputEl, {childList: true});\n",
       "}}\n",
       "\n",
       "                        })                };                });            </script>        </div>"
      ]
     },
     "metadata": {},
     "output_type": "display_data"
    }
   ],
   "source": [
    "country_l = country_df.columns[1:14]\n",
    "\n",
    "fig = go.Figure()\n",
    "c = 0\n",
    "for i in country_df.index:\n",
    "    if c<4:\n",
    "        fig.add_trace(go.Bar(name=country_df['Country'][i], x=country_l, y=country_df.loc[i][1:14]))\n",
    "    else:\n",
    "        break\n",
    "    c += 1\n",
    "    \n",
    "fig.update_layout(title={'text': '4 Countries with Most COVID Cases on %s' % yesterday_str, 'x': 0.5,\n",
    "                         'xanchor': 'center', 'font': {'size': 20}}, yaxis_title=\"Percentage\", yaxis_type=\"log\", xaxis_tickangle=-90)\n",
    "fig.show()"
   ]
  },
  {
   "cell_type": "code",
   "execution_count": 21,
   "metadata": {},
   "outputs": [
    {
     "data": {
      "application/vnd.plotly.v1+json": {
       "config": {
        "plotlyServerURL": "https://plot.ly"
       },
       "data": [
        {
         "name": "USA",
         "type": "bar",
         "y": [
          30138586
         ]
        },
        {
         "name": "Brazil",
         "type": "bar",
         "y": [
          11525477
         ]
        },
        {
         "name": "India",
         "type": "bar",
         "y": [
          11409595
         ]
        },
        {
         "name": "Russia",
         "type": "bar",
         "y": [
          4400045
         ]
        },
        {
         "name": "UK",
         "type": "bar",
         "y": [
          4263527
         ]
        },
        {
         "name": "France",
         "type": "bar",
         "y": [
          4078133
         ]
        },
        {
         "name": "Italy",
         "type": "bar",
         "y": [
          3238394
         ]
        },
        {
         "name": "Spain",
         "type": "bar",
         "y": [
          3195062
         ]
        },
        {
         "name": "Turkey",
         "type": "bar",
         "y": [
          2894893
         ]
        },
        {
         "name": "Germany",
         "type": "bar",
         "y": [
          2585385
         ]
        },
        {
         "name": "Colombia",
         "type": "bar",
         "y": [
          2305884
         ]
        },
        {
         "name": "Argentina",
         "type": "bar",
         "y": [
          2201886
         ]
        },
        {
         "name": "Mexico",
         "type": "bar",
         "y": [
          2166290
         ]
        },
        {
         "name": "Poland",
         "type": "bar",
         "y": [
          1917527
         ]
        },
        {
         "name": "Iran",
         "type": "bar",
         "y": [
          1754933
         ]
        },
        {
         "name": "South Africa",
         "type": "bar",
         "y": [
          1530033
         ]
        },
        {
         "name": "Ukraine",
         "type": "bar",
         "y": [
          1467548
         ]
        },
        {
         "name": "Indonesia",
         "type": "bar",
         "y": [
          1425044
         ]
        },
        {
         "name": "Peru",
         "type": "bar",
         "y": [
          1418974
         ]
        },
        {
         "name": "Czechia",
         "type": "bar",
         "y": [
          1402420
         ]
        },
        {
         "name": "Netherlands",
         "type": "bar",
         "y": [
          1162661
         ]
        },
        {
         "name": "Canada",
         "type": "bar",
         "y": [
          913047
         ]
        },
        {
         "name": "Chile",
         "type": "bar",
         "y": [
          896231
         ]
        },
        {
         "name": "Romania",
         "type": "bar",
         "y": [
          862681
         ]
        },
        {
         "name": "Israel",
         "type": "bar",
         "y": [
          820913
         ]
        },
        {
         "name": "Portugal",
         "type": "bar",
         "y": [
          814513
         ]
        },
        {
         "name": "Belgium",
         "type": "bar",
         "y": [
          808283
         ]
        },
        {
         "name": "Iraq",
         "type": "bar",
         "y": [
          763085
         ]
        },
        {
         "name": "Sweden",
         "type": "bar",
         "y": [
          712527
         ]
        },
        {
         "name": "Philippines",
         "type": "bar",
         "y": [
          626893
         ]
        },
        {
         "name": "Pakistan",
         "type": "bar",
         "y": [
          607453
         ]
        },
        {
         "name": "Switzerland",
         "type": "bar",
         "y": [
          573815
         ]
        },
        {
         "name": "Bangladesh",
         "type": "bar",
         "y": [
          559168
         ]
        },
        {
         "name": "Hungary",
         "type": "bar",
         "y": [
          524196
         ]
        },
        {
         "name": "Serbia",
         "type": "bar",
         "y": [
          520911
         ]
        },
        {
         "name": "Austria",
         "type": "bar",
         "y": [
          495464
         ]
        },
        {
         "name": "Morocco",
         "type": "bar",
         "y": [
          489096
         ]
        },
        {
         "name": "Jordan",
         "type": "bar",
         "y": [
          486470
         ]
        },
        {
         "name": "Japan",
         "type": "bar",
         "y": [
          447906
         ]
        },
        {
         "name": "UAE",
         "type": "bar",
         "y": [
          428295
         ]
        },
        {
         "name": "Lebanon",
         "type": "bar",
         "y": [
          419953
         ]
        },
        {
         "name": "Saudi Arabia",
         "type": "bar",
         "y": [
          382752
         ]
        },
        {
         "name": "Panama",
         "type": "bar",
         "y": [
          348155
         ]
        },
        {
         "name": "Slovakia",
         "type": "bar",
         "y": [
          337960
         ]
        },
        {
         "name": "Malaysia",
         "type": "bar",
         "y": [
          324971
         ]
        },
        {
         "name": "Belarus",
         "type": "bar",
         "y": [
          303270
         ]
        },
        {
         "name": "Ecuador",
         "type": "bar",
         "y": [
          302498
         ]
        },
        {
         "name": "Bulgaria",
         "type": "bar",
         "y": [
          283194
         ]
        },
        {
         "name": "Nepal",
         "type": "bar",
         "y": [
          275310
         ]
        },
        {
         "name": "Georgia",
         "type": "bar",
         "y": [
          275148
         ]
        },
        {
         "name": "Bolivia",
         "type": "bar",
         "y": [
          259389
         ]
        },
        {
         "name": "Croatia",
         "type": "bar",
         "y": [
          251174
         ]
        },
        {
         "name": "Dominican Republic",
         "type": "bar",
         "y": [
          246299
         ]
        },
        {
         "name": "Tunisia",
         "type": "bar",
         "y": [
          242124
         ]
        },
        {
         "name": "Azerbaijan",
         "type": "bar",
         "y": [
          240671
         ]
        },
        {
         "name": "Ireland",
         "type": "bar",
         "y": [
          227316
         ]
        },
        {
         "name": "Kazakhstan",
         "type": "bar",
         "y": [
          224731
         ]
        },
        {
         "name": "Greece",
         "type": "bar",
         "y": [
          222281
         ]
        },
        {
         "name": "Denmark",
         "type": "bar",
         "y": [
          221071
         ]
        },
        {
         "name": "Palestine",
         "type": "bar",
         "y": [
          211602
         ]
        },
        {
         "name": "Kuwait",
         "type": "bar",
         "y": [
          210855
         ]
        },
        {
         "name": "Costa Rica",
         "type": "bar",
         "y": [
          209093
         ]
        },
        {
         "name": "Lithuania",
         "type": "bar",
         "y": [
          205644
         ]
        },
        {
         "name": "Moldova",
         "type": "bar",
         "y": [
          205324
         ]
        },
        {
         "name": "Slovenia",
         "type": "bar",
         "y": [
          200579
         ]
        },
        {
         "name": "Egypt",
         "type": "bar",
         "y": [
          191555
         ]
        },
        {
         "name": "Guatemala",
         "type": "bar",
         "y": [
          183014
         ]
        },
        {
         "name": "Paraguay",
         "type": "bar",
         "y": [
          181414
         ]
        },
        {
         "name": "Armenia",
         "type": "bar",
         "y": [
          178702
         ]
        },
        {
         "name": "Honduras",
         "type": "bar",
         "y": [
          178277
         ]
        },
        {
         "name": "Ethiopia",
         "type": "bar",
         "y": [
          176618
         ]
        },
        {
         "name": "Qatar",
         "type": "bar",
         "y": [
          170733
         ]
        },
        {
         "name": "Nigeria",
         "type": "bar",
         "y": [
          160895
         ]
        },
        {
         "name": "Oman",
         "type": "bar",
         "y": [
          147423
         ]
        },
        {
         "name": "Venezuela",
         "type": "bar",
         "y": [
          146488
         ]
        },
        {
         "name": "Libya",
         "type": "bar",
         "y": [
          146080
         ]
        },
        {
         "name": "Bosnia and Herzegovina",
         "type": "bar",
         "y": [
          144831
         ]
        },
        {
         "name": "Myanmar",
         "type": "bar",
         "y": [
          142147
         ]
        },
        {
         "name": "Bahrain",
         "type": "bar",
         "y": [
          131683
         ]
        },
        {
         "name": "Albania",
         "type": "bar",
         "y": [
          118017
         ]
        },
        {
         "name": "Algeria",
         "type": "bar",
         "y": [
          115410
         ]
        },
        {
         "name": "Kenya",
         "type": "bar",
         "y": [
          113967
         ]
        },
        {
         "name": "North Macedonia",
         "type": "bar",
         "y": [
          112930
         ]
        },
        {
         "name": "S. Korea",
         "type": "bar",
         "y": [
          96017
         ]
        },
        {
         "name": "Latvia",
         "type": "bar",
         "y": [
          93959
         ]
        },
        {
         "name": "Sri Lanka",
         "type": "bar",
         "y": [
          88238
         ]
        },
        {
         "name": "Ghana",
         "type": "bar",
         "y": [
          87985
         ]
        },
        {
         "name": "Kyrgyzstan",
         "type": "bar",
         "y": [
          86917
         ]
        },
        {
         "name": "Estonia",
         "type": "bar",
         "y": [
          86086
         ]
        },
        {
         "name": "Zambia",
         "type": "bar",
         "y": [
          84950
         ]
        },
        {
         "name": "Montenegro",
         "type": "bar",
         "y": [
          84163
         ]
        },
        {
         "name": "Norway",
         "type": "bar",
         "y": [
          81305
         ]
        },
        {
         "name": "Uzbekistan",
         "type": "bar",
         "y": [
          80678
         ]
        },
        {
         "name": "Uruguay",
         "type": "bar",
         "y": [
          72862
         ]
        },
        {
         "name": "Finland",
         "type": "bar",
         "y": [
          67334
         ]
        },
        {
         "name": "Mozambique",
         "type": "bar",
         "y": [
          64516
         ]
        },
        {
         "name": "El Salvador",
         "type": "bar",
         "y": [
          62377
         ]
        },
        {
         "name": "Cuba",
         "type": "bar",
         "y": [
          62206
         ]
        },
        {
         "name": "Singapore",
         "type": "bar",
         "y": [
          60117
         ]
        },
        {
         "name": "Luxembourg",
         "type": "bar",
         "y": [
          57926
         ]
        },
        {
         "name": "Afghanistan",
         "type": "bar",
         "y": [
          55995
         ]
        },
        {
         "name": "Namibia",
         "type": "bar",
         "y": [
          41424
         ]
        },
        {
         "name": "Cameroon",
         "type": "bar",
         "y": [
          40622
         ]
        },
        {
         "name": "Uganda",
         "type": "bar",
         "y": [
          40591
         ]
        },
        {
         "name": "Cyprus",
         "type": "bar",
         "y": [
          39869
         ]
        },
        {
         "name": "Ivory Coast",
         "type": "bar",
         "y": [
          37908
         ]
        },
        {
         "name": "Senegal",
         "type": "bar",
         "y": [
          36996
         ]
        },
        {
         "name": "Zimbabwe",
         "type": "bar",
         "y": [
          36504
         ]
        },
        {
         "name": "Botswana",
         "type": "bar",
         "y": [
          34999
         ]
        },
        {
         "name": "Malawi",
         "type": "bar",
         "y": [
          32864
         ]
        },
        {
         "name": "Jamaica",
         "type": "bar",
         "y": [
          31305
         ]
        },
        {
         "name": "Sudan",
         "type": "bar",
         "y": [
          29135
         ]
        },
        {
         "name": "Australia",
         "type": "bar",
         "y": [
          29130
         ]
        },
        {
         "name": "DRC",
         "type": "bar",
         "y": [
          27077
         ]
        },
        {
         "name": "Thailand",
         "type": "bar",
         "y": [
          27005
         ]
        },
        {
         "name": "Malta",
         "type": "bar",
         "y": [
          26748
         ]
        },
        {
         "name": "Maldives",
         "type": "bar",
         "y": [
          21666
         ]
        },
        {
         "name": "Madagascar",
         "type": "bar",
         "y": [
          21587
         ]
        },
        {
         "name": "Angola",
         "type": "bar",
         "y": [
          21407
         ]
        },
        {
         "name": "Rwanda",
         "type": "bar",
         "y": [
          20302
         ]
        },
        {
         "name": "Mayotte",
         "type": "bar",
         "y": [
          18845
         ]
        },
        {
         "name": "French Polynesia",
         "type": "bar",
         "y": [
          18546
         ]
        },
        {
         "name": "Guinea",
         "type": "bar",
         "y": [
          17851
         ]
        },
        {
         "name": "Mauritania",
         "type": "bar",
         "y": [
          17457
         ]
        },
        {
         "name": "Eswatini",
         "type": "bar",
         "y": [
          17239
         ]
        },
        {
         "name": "Gabon",
         "type": "bar",
         "y": [
          16945
         ]
        },
        {
         "name": "French Guiana",
         "type": "bar",
         "y": [
          16764
         ]
        },
        {
         "name": "Syria",
         "type": "bar",
         "y": [
          16556
         ]
        },
        {
         "name": "Cabo Verde",
         "type": "bar",
         "y": [
          16120
         ]
        },
        {
         "name": "Réunion",
         "type": "bar",
         "y": [
          13801
         ]
        },
        {
         "name": "Haiti",
         "type": "bar",
         "y": [
          12664
         ]
        },
        {
         "name": "Belize",
         "type": "bar",
         "y": [
          12383
         ]
        },
        {
         "name": "Burkina Faso",
         "type": "bar",
         "y": [
          12378
         ]
        },
        {
         "name": "Hong Kong",
         "type": "bar",
         "y": [
          11312
         ]
        },
        {
         "name": "Andorra",
         "type": "bar",
         "y": [
          11289
         ]
        },
        {
         "name": "Guadeloupe",
         "type": "bar",
         "y": [
          10614
         ]
        },
        {
         "name": "Lesotho",
         "type": "bar",
         "y": [
          10530
         ]
        },
        {
         "name": "South Sudan",
         "type": "bar",
         "y": [
          9554
         ]
        },
        {
         "name": "Congo",
         "type": "bar",
         "y": [
          9329
         ]
        },
        {
         "name": "Somalia",
         "type": "bar",
         "y": [
          9328
         ]
        },
        {
         "name": "Guyana",
         "type": "bar",
         "y": [
          9187
         ]
        },
        {
         "name": "Suriname",
         "type": "bar",
         "y": [
          9028
         ]
        },
        {
         "name": "Mali",
         "type": "bar",
         "y": [
          8933
         ]
        },
        {
         "name": "Bahamas",
         "type": "bar",
         "y": [
          8765
         ]
        },
        {
         "name": "Aruba",
         "type": "bar",
         "y": [
          8421
         ]
        },
        {
         "name": "Togo",
         "type": "bar",
         "y": [
          8222
         ]
        },
        {
         "name": "Trinidad and Tobago",
         "type": "bar",
         "y": [
          7788
         ]
        },
        {
         "name": "Martinique",
         "type": "bar",
         "y": [
          6928
         ]
        },
        {
         "name": "Equatorial Guinea",
         "type": "bar",
         "y": [
          6562
         ]
        },
        {
         "name": "Nicaragua",
         "type": "bar",
         "y": [
          6537
         ]
        },
        {
         "name": "Benin",
         "type": "bar",
         "y": [
          6501
         ]
        },
        {
         "name": "Djibouti",
         "type": "bar",
         "y": [
          6294
         ]
        },
        {
         "name": "Iceland",
         "type": "bar",
         "y": [
          6083
         ]
        },
        {
         "name": "Curaçao",
         "type": "bar",
         "y": [
          5138
         ]
        },
        {
         "name": "CAR",
         "type": "bar",
         "y": [
          5023
         ]
        },
        {
         "name": "Gambia",
         "type": "bar",
         "y": [
          5019
         ]
        },
        {
         "name": "Niger",
         "type": "bar",
         "y": [
          4865
         ]
        },
        {
         "name": "Chad",
         "type": "bar",
         "y": [
          4328
         ]
        },
        {
         "name": "Gibraltar",
         "type": "bar",
         "y": [
          4263
         ]
        },
        {
         "name": "San Marino",
         "type": "bar",
         "y": [
          4151
         ]
        },
        {
         "name": "Mongolia",
         "type": "bar",
         "y": [
          4083
         ]
        },
        {
         "name": "Saint Lucia",
         "type": "bar",
         "y": [
          4053
         ]
        },
        {
         "name": "Channel Islands",
         "type": "bar",
         "y": [
          4044
         ]
        },
        {
         "name": "Sierra Leone",
         "type": "bar",
         "y": [
          3938
         ]
        },
        {
         "name": "Comoros",
         "type": "bar",
         "y": [
          3646
         ]
        },
        {
         "name": "Guinea-Bissau",
         "type": "bar",
         "y": [
          3447
         ]
        },
        {
         "name": "Barbados",
         "type": "bar",
         "y": [
          3442
         ]
        },
        {
         "name": "Seychelles",
         "type": "bar",
         "y": [
          3342
         ]
        },
        {
         "name": "Eritrea",
         "type": "bar",
         "y": [
          3055
         ]
        },
        {
         "name": "Yemen",
         "type": "bar",
         "y": [
          2908
         ]
        },
        {
         "name": "Liechtenstein",
         "type": "bar",
         "y": [
          2612
         ]
        },
        {
         "name": "Vietnam",
         "type": "bar",
         "y": [
          2557
         ]
        },
        {
         "name": "Burundi",
         "type": "bar",
         "y": [
          2461
         ]
        },
        {
         "name": "New Zealand",
         "type": "bar",
         "y": [
          2430
         ]
        },
        {
         "name": "Papua New Guinea",
         "type": "bar",
         "y": [
          2269
         ]
        },
        {
         "name": "Turks and Caicos",
         "type": "bar",
         "y": [
          2233
         ]
        },
        {
         "name": "Monaco",
         "type": "bar",
         "y": [
          2120
         ]
        },
        {
         "name": "Sint Maarten",
         "type": "bar",
         "y": [
          2085
         ]
        },
        {
         "name": "Sao Tome and Principe",
         "type": "bar",
         "y": [
          2084
         ]
        },
        {
         "name": "Liberia",
         "type": "bar",
         "y": [
          2030
         ]
        },
        {
         "name": "St. Vincent Grenadines",
         "type": "bar",
         "y": [
          1680
         ]
        },
        {
         "name": "Saint Martin",
         "type": "bar",
         "y": [
          1602
         ]
        },
        {
         "name": "Cambodia",
         "type": "bar",
         "y": [
          1325
         ]
        },
        {
         "name": "Isle of Man",
         "type": "bar",
         "y": [
          1307
         ]
        },
        {
         "name": "Taiwan",
         "type": "bar",
         "y": [
          990
         ]
        },
        {
         "name": "Antigua and Barbuda",
         "type": "bar",
         "y": [
          963
         ]
        },
        {
         "name": "Bhutan",
         "type": "bar",
         "y": [
          868
         ]
        },
        {
         "name": "Caribbean Netherlands",
         "type": "bar",
         "y": [
          804
         ]
        },
        {
         "name": "Mauritius",
         "type": "bar",
         "y": [
          747
         ]
        },
        {
         "name": "Bermuda",
         "type": "bar",
         "y": [
          740
         ]
        },
        {
         "name": "St. Barth",
         "type": "bar",
         "y": [
          712
         ]
        },
        {
         "name": "Faeroe Islands",
         "type": "bar",
         "y": [
          661
         ]
        },
        {
         "name": "Tanzania",
         "type": "bar",
         "y": [
          509
         ]
        },
        {
         "name": "Cayman Islands",
         "type": "bar",
         "y": [
          474
         ]
        },
        {
         "name": "Timor-Leste",
         "type": "bar",
         "y": [
          203
         ]
        },
        {
         "name": "Brunei ",
         "type": "bar",
         "y": [
          199
         ]
        },
        {
         "name": "Wallis and Futuna",
         "type": "bar",
         "y": [
          186
         ]
        },
        {
         "name": "Dominica",
         "type": "bar",
         "y": [
          156
         ]
        },
        {
         "name": "Grenada",
         "type": "bar",
         "y": [
          154
         ]
        },
        {
         "name": "British Virgin Islands",
         "type": "bar",
         "y": [
          153
         ]
        },
        {
         "name": "New Caledonia",
         "type": "bar",
         "y": [
          93
         ]
        },
        {
         "name": "Fiji",
         "type": "bar",
         "y": [
          66
         ]
        },
        {
         "name": "Macao",
         "type": "bar",
         "y": [
          48
         ]
        },
        {
         "name": "Laos",
         "type": "bar",
         "y": [
          48
         ]
        },
        {
         "name": "Saint Kitts and Nevis",
         "type": "bar",
         "y": [
          43
         ]
        },
        {
         "name": "Vatican City",
         "type": "bar",
         "y": [
          27
         ]
        },
        {
         "name": "Anguilla",
         "type": "bar",
         "y": [
          21
         ]
        },
        {
         "name": "Montserrat",
         "type": "bar",
         "y": [
          20
         ]
        },
        {
         "name": "Solomon Islands",
         "type": "bar",
         "y": [
          18
         ]
        },
        {
         "name": "Western Sahara",
         "type": "bar",
         "y": [
          10
         ]
        },
        {
         "name": "Samoa",
         "type": "bar",
         "y": [
          3
         ]
        },
        {
         "name": "Vanuatu",
         "type": "bar",
         "y": [
          3
         ]
        }
       ],
       "layout": {
        "barmode": "stack",
        "height": 1200,
        "template": {
         "data": {
          "bar": [
           {
            "error_x": {
             "color": "#2a3f5f"
            },
            "error_y": {
             "color": "#2a3f5f"
            },
            "marker": {
             "line": {
              "color": "#E5ECF6",
              "width": 0.5
             }
            },
            "type": "bar"
           }
          ],
          "barpolar": [
           {
            "marker": {
             "line": {
              "color": "#E5ECF6",
              "width": 0.5
             }
            },
            "type": "barpolar"
           }
          ],
          "carpet": [
           {
            "aaxis": {
             "endlinecolor": "#2a3f5f",
             "gridcolor": "white",
             "linecolor": "white",
             "minorgridcolor": "white",
             "startlinecolor": "#2a3f5f"
            },
            "baxis": {
             "endlinecolor": "#2a3f5f",
             "gridcolor": "white",
             "linecolor": "white",
             "minorgridcolor": "white",
             "startlinecolor": "#2a3f5f"
            },
            "type": "carpet"
           }
          ],
          "choropleth": [
           {
            "colorbar": {
             "outlinewidth": 0,
             "ticks": ""
            },
            "type": "choropleth"
           }
          ],
          "contour": [
           {
            "colorbar": {
             "outlinewidth": 0,
             "ticks": ""
            },
            "colorscale": [
             [
              0,
              "#0d0887"
             ],
             [
              0.1111111111111111,
              "#46039f"
             ],
             [
              0.2222222222222222,
              "#7201a8"
             ],
             [
              0.3333333333333333,
              "#9c179e"
             ],
             [
              0.4444444444444444,
              "#bd3786"
             ],
             [
              0.5555555555555556,
              "#d8576b"
             ],
             [
              0.6666666666666666,
              "#ed7953"
             ],
             [
              0.7777777777777778,
              "#fb9f3a"
             ],
             [
              0.8888888888888888,
              "#fdca26"
             ],
             [
              1,
              "#f0f921"
             ]
            ],
            "type": "contour"
           }
          ],
          "contourcarpet": [
           {
            "colorbar": {
             "outlinewidth": 0,
             "ticks": ""
            },
            "type": "contourcarpet"
           }
          ],
          "heatmap": [
           {
            "colorbar": {
             "outlinewidth": 0,
             "ticks": ""
            },
            "colorscale": [
             [
              0,
              "#0d0887"
             ],
             [
              0.1111111111111111,
              "#46039f"
             ],
             [
              0.2222222222222222,
              "#7201a8"
             ],
             [
              0.3333333333333333,
              "#9c179e"
             ],
             [
              0.4444444444444444,
              "#bd3786"
             ],
             [
              0.5555555555555556,
              "#d8576b"
             ],
             [
              0.6666666666666666,
              "#ed7953"
             ],
             [
              0.7777777777777778,
              "#fb9f3a"
             ],
             [
              0.8888888888888888,
              "#fdca26"
             ],
             [
              1,
              "#f0f921"
             ]
            ],
            "type": "heatmap"
           }
          ],
          "heatmapgl": [
           {
            "colorbar": {
             "outlinewidth": 0,
             "ticks": ""
            },
            "colorscale": [
             [
              0,
              "#0d0887"
             ],
             [
              0.1111111111111111,
              "#46039f"
             ],
             [
              0.2222222222222222,
              "#7201a8"
             ],
             [
              0.3333333333333333,
              "#9c179e"
             ],
             [
              0.4444444444444444,
              "#bd3786"
             ],
             [
              0.5555555555555556,
              "#d8576b"
             ],
             [
              0.6666666666666666,
              "#ed7953"
             ],
             [
              0.7777777777777778,
              "#fb9f3a"
             ],
             [
              0.8888888888888888,
              "#fdca26"
             ],
             [
              1,
              "#f0f921"
             ]
            ],
            "type": "heatmapgl"
           }
          ],
          "histogram": [
           {
            "marker": {
             "colorbar": {
              "outlinewidth": 0,
              "ticks": ""
             }
            },
            "type": "histogram"
           }
          ],
          "histogram2d": [
           {
            "colorbar": {
             "outlinewidth": 0,
             "ticks": ""
            },
            "colorscale": [
             [
              0,
              "#0d0887"
             ],
             [
              0.1111111111111111,
              "#46039f"
             ],
             [
              0.2222222222222222,
              "#7201a8"
             ],
             [
              0.3333333333333333,
              "#9c179e"
             ],
             [
              0.4444444444444444,
              "#bd3786"
             ],
             [
              0.5555555555555556,
              "#d8576b"
             ],
             [
              0.6666666666666666,
              "#ed7953"
             ],
             [
              0.7777777777777778,
              "#fb9f3a"
             ],
             [
              0.8888888888888888,
              "#fdca26"
             ],
             [
              1,
              "#f0f921"
             ]
            ],
            "type": "histogram2d"
           }
          ],
          "histogram2dcontour": [
           {
            "colorbar": {
             "outlinewidth": 0,
             "ticks": ""
            },
            "colorscale": [
             [
              0,
              "#0d0887"
             ],
             [
              0.1111111111111111,
              "#46039f"
             ],
             [
              0.2222222222222222,
              "#7201a8"
             ],
             [
              0.3333333333333333,
              "#9c179e"
             ],
             [
              0.4444444444444444,
              "#bd3786"
             ],
             [
              0.5555555555555556,
              "#d8576b"
             ],
             [
              0.6666666666666666,
              "#ed7953"
             ],
             [
              0.7777777777777778,
              "#fb9f3a"
             ],
             [
              0.8888888888888888,
              "#fdca26"
             ],
             [
              1,
              "#f0f921"
             ]
            ],
            "type": "histogram2dcontour"
           }
          ],
          "mesh3d": [
           {
            "colorbar": {
             "outlinewidth": 0,
             "ticks": ""
            },
            "type": "mesh3d"
           }
          ],
          "parcoords": [
           {
            "line": {
             "colorbar": {
              "outlinewidth": 0,
              "ticks": ""
             }
            },
            "type": "parcoords"
           }
          ],
          "pie": [
           {
            "automargin": true,
            "type": "pie"
           }
          ],
          "scatter": [
           {
            "marker": {
             "colorbar": {
              "outlinewidth": 0,
              "ticks": ""
             }
            },
            "type": "scatter"
           }
          ],
          "scatter3d": [
           {
            "line": {
             "colorbar": {
              "outlinewidth": 0,
              "ticks": ""
             }
            },
            "marker": {
             "colorbar": {
              "outlinewidth": 0,
              "ticks": ""
             }
            },
            "type": "scatter3d"
           }
          ],
          "scattercarpet": [
           {
            "marker": {
             "colorbar": {
              "outlinewidth": 0,
              "ticks": ""
             }
            },
            "type": "scattercarpet"
           }
          ],
          "scattergeo": [
           {
            "marker": {
             "colorbar": {
              "outlinewidth": 0,
              "ticks": ""
             }
            },
            "type": "scattergeo"
           }
          ],
          "scattergl": [
           {
            "marker": {
             "colorbar": {
              "outlinewidth": 0,
              "ticks": ""
             }
            },
            "type": "scattergl"
           }
          ],
          "scattermapbox": [
           {
            "marker": {
             "colorbar": {
              "outlinewidth": 0,
              "ticks": ""
             }
            },
            "type": "scattermapbox"
           }
          ],
          "scatterpolar": [
           {
            "marker": {
             "colorbar": {
              "outlinewidth": 0,
              "ticks": ""
             }
            },
            "type": "scatterpolar"
           }
          ],
          "scatterpolargl": [
           {
            "marker": {
             "colorbar": {
              "outlinewidth": 0,
              "ticks": ""
             }
            },
            "type": "scatterpolargl"
           }
          ],
          "scatterternary": [
           {
            "marker": {
             "colorbar": {
              "outlinewidth": 0,
              "ticks": ""
             }
            },
            "type": "scatterternary"
           }
          ],
          "surface": [
           {
            "colorbar": {
             "outlinewidth": 0,
             "ticks": ""
            },
            "colorscale": [
             [
              0,
              "#0d0887"
             ],
             [
              0.1111111111111111,
              "#46039f"
             ],
             [
              0.2222222222222222,
              "#7201a8"
             ],
             [
              0.3333333333333333,
              "#9c179e"
             ],
             [
              0.4444444444444444,
              "#bd3786"
             ],
             [
              0.5555555555555556,
              "#d8576b"
             ],
             [
              0.6666666666666666,
              "#ed7953"
             ],
             [
              0.7777777777777778,
              "#fb9f3a"
             ],
             [
              0.8888888888888888,
              "#fdca26"
             ],
             [
              1,
              "#f0f921"
             ]
            ],
            "type": "surface"
           }
          ],
          "table": [
           {
            "cells": {
             "fill": {
              "color": "#EBF0F8"
             },
             "line": {
              "color": "white"
             }
            },
            "header": {
             "fill": {
              "color": "#C8D4E3"
             },
             "line": {
              "color": "white"
             }
            },
            "type": "table"
           }
          ]
         },
         "layout": {
          "annotationdefaults": {
           "arrowcolor": "#2a3f5f",
           "arrowhead": 0,
           "arrowwidth": 1
          },
          "autotypenumbers": "strict",
          "coloraxis": {
           "colorbar": {
            "outlinewidth": 0,
            "ticks": ""
           }
          },
          "colorscale": {
           "diverging": [
            [
             0,
             "#8e0152"
            ],
            [
             0.1,
             "#c51b7d"
            ],
            [
             0.2,
             "#de77ae"
            ],
            [
             0.3,
             "#f1b6da"
            ],
            [
             0.4,
             "#fde0ef"
            ],
            [
             0.5,
             "#f7f7f7"
            ],
            [
             0.6,
             "#e6f5d0"
            ],
            [
             0.7,
             "#b8e186"
            ],
            [
             0.8,
             "#7fbc41"
            ],
            [
             0.9,
             "#4d9221"
            ],
            [
             1,
             "#276419"
            ]
           ],
           "sequential": [
            [
             0,
             "#0d0887"
            ],
            [
             0.1111111111111111,
             "#46039f"
            ],
            [
             0.2222222222222222,
             "#7201a8"
            ],
            [
             0.3333333333333333,
             "#9c179e"
            ],
            [
             0.4444444444444444,
             "#bd3786"
            ],
            [
             0.5555555555555556,
             "#d8576b"
            ],
            [
             0.6666666666666666,
             "#ed7953"
            ],
            [
             0.7777777777777778,
             "#fb9f3a"
            ],
            [
             0.8888888888888888,
             "#fdca26"
            ],
            [
             1,
             "#f0f921"
            ]
           ],
           "sequentialminus": [
            [
             0,
             "#0d0887"
            ],
            [
             0.1111111111111111,
             "#46039f"
            ],
            [
             0.2222222222222222,
             "#7201a8"
            ],
            [
             0.3333333333333333,
             "#9c179e"
            ],
            [
             0.4444444444444444,
             "#bd3786"
            ],
            [
             0.5555555555555556,
             "#d8576b"
            ],
            [
             0.6666666666666666,
             "#ed7953"
            ],
            [
             0.7777777777777778,
             "#fb9f3a"
            ],
            [
             0.8888888888888888,
             "#fdca26"
            ],
            [
             1,
             "#f0f921"
            ]
           ]
          },
          "colorway": [
           "#636efa",
           "#EF553B",
           "#00cc96",
           "#ab63fa",
           "#FFA15A",
           "#19d3f3",
           "#FF6692",
           "#B6E880",
           "#FF97FF",
           "#FECB52"
          ],
          "font": {
           "color": "#2a3f5f"
          },
          "geo": {
           "bgcolor": "white",
           "lakecolor": "white",
           "landcolor": "#E5ECF6",
           "showlakes": true,
           "showland": true,
           "subunitcolor": "white"
          },
          "hoverlabel": {
           "align": "left"
          },
          "hovermode": "closest",
          "mapbox": {
           "style": "light"
          },
          "paper_bgcolor": "white",
          "plot_bgcolor": "#E5ECF6",
          "polar": {
           "angularaxis": {
            "gridcolor": "white",
            "linecolor": "white",
            "ticks": ""
           },
           "bgcolor": "#E5ECF6",
           "radialaxis": {
            "gridcolor": "white",
            "linecolor": "white",
            "ticks": ""
           }
          },
          "scene": {
           "xaxis": {
            "backgroundcolor": "#E5ECF6",
            "gridcolor": "white",
            "gridwidth": 2,
            "linecolor": "white",
            "showbackground": true,
            "ticks": "",
            "zerolinecolor": "white"
           },
           "yaxis": {
            "backgroundcolor": "#E5ECF6",
            "gridcolor": "white",
            "gridwidth": 2,
            "linecolor": "white",
            "showbackground": true,
            "ticks": "",
            "zerolinecolor": "white"
           },
           "zaxis": {
            "backgroundcolor": "#E5ECF6",
            "gridcolor": "white",
            "gridwidth": 2,
            "linecolor": "white",
            "showbackground": true,
            "ticks": "",
            "zerolinecolor": "white"
           }
          },
          "shapedefaults": {
           "line": {
            "color": "#2a3f5f"
           }
          },
          "ternary": {
           "aaxis": {
            "gridcolor": "white",
            "linecolor": "white",
            "ticks": ""
           },
           "baxis": {
            "gridcolor": "white",
            "linecolor": "white",
            "ticks": ""
           },
           "bgcolor": "#E5ECF6",
           "caxis": {
            "gridcolor": "white",
            "linecolor": "white",
            "ticks": ""
           }
          },
          "title": {
           "x": 0.05
          },
          "xaxis": {
           "automargin": true,
           "gridcolor": "white",
           "linecolor": "white",
           "ticks": "",
           "title": {
            "standoff": 15
           },
           "zerolinecolor": "white",
           "zerolinewidth": 2
          },
          "yaxis": {
           "automargin": true,
           "gridcolor": "white",
           "linecolor": "white",
           "ticks": "",
           "title": {
            "standoff": 15
           },
           "zerolinecolor": "white",
           "zerolinewidth": 2
          }
         }
        },
        "title": {
         "font": {
          "size": 20
         },
         "text": "Stacked Bar Chart of All Countries COVID-19 Cases on Mar 15, 2021",
         "x": 0.5,
         "xanchor": "center"
        }
       }
      },
      "text/html": [
       "<div>                            <div id=\"89b6bdbb-d3c4-42d8-a4b1-a84a28d3a9de\" class=\"plotly-graph-div\" style=\"height:1200px; width:100%;\"></div>            <script type=\"text/javascript\">                require([\"plotly\"], function(Plotly) {                    window.PLOTLYENV=window.PLOTLYENV || {};                                    if (document.getElementById(\"89b6bdbb-d3c4-42d8-a4b1-a84a28d3a9de\")) {                    Plotly.newPlot(                        \"89b6bdbb-d3c4-42d8-a4b1-a84a28d3a9de\",                        [{\"name\": \"USA\", \"type\": \"bar\", \"y\": [30138586]}, {\"name\": \"Brazil\", \"type\": \"bar\", \"y\": [11525477]}, {\"name\": \"India\", \"type\": \"bar\", \"y\": [11409595]}, {\"name\": \"Russia\", \"type\": \"bar\", \"y\": [4400045]}, {\"name\": \"UK\", \"type\": \"bar\", \"y\": [4263527]}, {\"name\": \"France\", \"type\": \"bar\", \"y\": [4078133]}, {\"name\": \"Italy\", \"type\": \"bar\", \"y\": [3238394]}, {\"name\": \"Spain\", \"type\": \"bar\", \"y\": [3195062]}, {\"name\": \"Turkey\", \"type\": \"bar\", \"y\": [2894893]}, {\"name\": \"Germany\", \"type\": \"bar\", \"y\": [2585385]}, {\"name\": \"Colombia\", \"type\": \"bar\", \"y\": [2305884]}, {\"name\": \"Argentina\", \"type\": \"bar\", \"y\": [2201886]}, {\"name\": \"Mexico\", \"type\": \"bar\", \"y\": [2166290]}, {\"name\": \"Poland\", \"type\": \"bar\", \"y\": [1917527]}, {\"name\": \"Iran\", \"type\": \"bar\", \"y\": [1754933]}, {\"name\": \"South Africa\", \"type\": \"bar\", \"y\": [1530033]}, {\"name\": \"Ukraine\", \"type\": \"bar\", \"y\": [1467548]}, {\"name\": \"Indonesia\", \"type\": \"bar\", \"y\": [1425044]}, {\"name\": \"Peru\", \"type\": \"bar\", \"y\": [1418974]}, {\"name\": \"Czechia\", \"type\": \"bar\", \"y\": [1402420]}, {\"name\": \"Netherlands\", \"type\": \"bar\", \"y\": [1162661]}, {\"name\": \"Canada\", \"type\": \"bar\", \"y\": [913047]}, {\"name\": \"Chile\", \"type\": \"bar\", \"y\": [896231]}, {\"name\": \"Romania\", \"type\": \"bar\", \"y\": [862681]}, {\"name\": \"Israel\", \"type\": \"bar\", \"y\": [820913]}, {\"name\": \"Portugal\", \"type\": \"bar\", \"y\": [814513]}, {\"name\": \"Belgium\", \"type\": \"bar\", \"y\": [808283]}, {\"name\": \"Iraq\", \"type\": \"bar\", \"y\": [763085]}, {\"name\": \"Sweden\", \"type\": \"bar\", \"y\": [712527]}, {\"name\": \"Philippines\", \"type\": \"bar\", \"y\": [626893]}, {\"name\": \"Pakistan\", \"type\": \"bar\", \"y\": [607453]}, {\"name\": \"Switzerland\", \"type\": \"bar\", \"y\": [573815]}, {\"name\": \"Bangladesh\", \"type\": \"bar\", \"y\": [559168]}, {\"name\": \"Hungary\", \"type\": \"bar\", \"y\": [524196]}, {\"name\": \"Serbia\", \"type\": \"bar\", \"y\": [520911]}, {\"name\": \"Austria\", \"type\": \"bar\", \"y\": [495464]}, {\"name\": \"Morocco\", \"type\": \"bar\", \"y\": [489096]}, {\"name\": \"Jordan\", \"type\": \"bar\", \"y\": [486470]}, {\"name\": \"Japan\", \"type\": \"bar\", \"y\": [447906]}, {\"name\": \"UAE\", \"type\": \"bar\", \"y\": [428295]}, {\"name\": \"Lebanon\", \"type\": \"bar\", \"y\": [419953]}, {\"name\": \"Saudi Arabia\", \"type\": \"bar\", \"y\": [382752]}, {\"name\": \"Panama\", \"type\": \"bar\", \"y\": [348155]}, {\"name\": \"Slovakia\", \"type\": \"bar\", \"y\": [337960]}, {\"name\": \"Malaysia\", \"type\": \"bar\", \"y\": [324971]}, {\"name\": \"Belarus\", \"type\": \"bar\", \"y\": [303270]}, {\"name\": \"Ecuador\", \"type\": \"bar\", \"y\": [302498]}, {\"name\": \"Bulgaria\", \"type\": \"bar\", \"y\": [283194]}, {\"name\": \"Nepal\", \"type\": \"bar\", \"y\": [275310]}, {\"name\": \"Georgia\", \"type\": \"bar\", \"y\": [275148]}, {\"name\": \"Bolivia\", \"type\": \"bar\", \"y\": [259389]}, {\"name\": \"Croatia\", \"type\": \"bar\", \"y\": [251174]}, {\"name\": \"Dominican Republic\", \"type\": \"bar\", \"y\": [246299]}, {\"name\": \"Tunisia\", \"type\": \"bar\", \"y\": [242124]}, {\"name\": \"Azerbaijan\", \"type\": \"bar\", \"y\": [240671]}, {\"name\": \"Ireland\", \"type\": \"bar\", \"y\": [227316]}, {\"name\": \"Kazakhstan\", \"type\": \"bar\", \"y\": [224731]}, {\"name\": \"Greece\", \"type\": \"bar\", \"y\": [222281]}, {\"name\": \"Denmark\", \"type\": \"bar\", \"y\": [221071]}, {\"name\": \"Palestine\", \"type\": \"bar\", \"y\": [211602]}, {\"name\": \"Kuwait\", \"type\": \"bar\", \"y\": [210855]}, {\"name\": \"Costa Rica\", \"type\": \"bar\", \"y\": [209093]}, {\"name\": \"Lithuania\", \"type\": \"bar\", \"y\": [205644]}, {\"name\": \"Moldova\", \"type\": \"bar\", \"y\": [205324]}, {\"name\": \"Slovenia\", \"type\": \"bar\", \"y\": [200579]}, {\"name\": \"Egypt\", \"type\": \"bar\", \"y\": [191555]}, {\"name\": \"Guatemala\", \"type\": \"bar\", \"y\": [183014]}, {\"name\": \"Paraguay\", \"type\": \"bar\", \"y\": [181414]}, {\"name\": \"Armenia\", \"type\": \"bar\", \"y\": [178702]}, {\"name\": \"Honduras\", \"type\": \"bar\", \"y\": [178277]}, {\"name\": \"Ethiopia\", \"type\": \"bar\", \"y\": [176618]}, {\"name\": \"Qatar\", \"type\": \"bar\", \"y\": [170733]}, {\"name\": \"Nigeria\", \"type\": \"bar\", \"y\": [160895]}, {\"name\": \"Oman\", \"type\": \"bar\", \"y\": [147423]}, {\"name\": \"Venezuela\", \"type\": \"bar\", \"y\": [146488]}, {\"name\": \"Libya\", \"type\": \"bar\", \"y\": [146080]}, {\"name\": \"Bosnia and Herzegovina\", \"type\": \"bar\", \"y\": [144831]}, {\"name\": \"Myanmar\", \"type\": \"bar\", \"y\": [142147]}, {\"name\": \"Bahrain\", \"type\": \"bar\", \"y\": [131683]}, {\"name\": \"Albania\", \"type\": \"bar\", \"y\": [118017]}, {\"name\": \"Algeria\", \"type\": \"bar\", \"y\": [115410]}, {\"name\": \"Kenya\", \"type\": \"bar\", \"y\": [113967]}, {\"name\": \"North Macedonia\", \"type\": \"bar\", \"y\": [112930]}, {\"name\": \"S. Korea\", \"type\": \"bar\", \"y\": [96017]}, {\"name\": \"Latvia\", \"type\": \"bar\", \"y\": [93959]}, {\"name\": \"Sri Lanka\", \"type\": \"bar\", \"y\": [88238]}, {\"name\": \"Ghana\", \"type\": \"bar\", \"y\": [87985]}, {\"name\": \"Kyrgyzstan\", \"type\": \"bar\", \"y\": [86917]}, {\"name\": \"Estonia\", \"type\": \"bar\", \"y\": [86086]}, {\"name\": \"Zambia\", \"type\": \"bar\", \"y\": [84950]}, {\"name\": \"Montenegro\", \"type\": \"bar\", \"y\": [84163]}, {\"name\": \"Norway\", \"type\": \"bar\", \"y\": [81305]}, {\"name\": \"Uzbekistan\", \"type\": \"bar\", \"y\": [80678]}, {\"name\": \"Uruguay\", \"type\": \"bar\", \"y\": [72862]}, {\"name\": \"Finland\", \"type\": \"bar\", \"y\": [67334]}, {\"name\": \"Mozambique\", \"type\": \"bar\", \"y\": [64516]}, {\"name\": \"El Salvador\", \"type\": \"bar\", \"y\": [62377]}, {\"name\": \"Cuba\", \"type\": \"bar\", \"y\": [62206]}, {\"name\": \"Singapore\", \"type\": \"bar\", \"y\": [60117]}, {\"name\": \"Luxembourg\", \"type\": \"bar\", \"y\": [57926]}, {\"name\": \"Afghanistan\", \"type\": \"bar\", \"y\": [55995]}, {\"name\": \"Namibia\", \"type\": \"bar\", \"y\": [41424]}, {\"name\": \"Cameroon\", \"type\": \"bar\", \"y\": [40622]}, {\"name\": \"Uganda\", \"type\": \"bar\", \"y\": [40591]}, {\"name\": \"Cyprus\", \"type\": \"bar\", \"y\": [39869]}, {\"name\": \"Ivory Coast\", \"type\": \"bar\", \"y\": [37908]}, {\"name\": \"Senegal\", \"type\": \"bar\", \"y\": [36996]}, {\"name\": \"Zimbabwe\", \"type\": \"bar\", \"y\": [36504]}, {\"name\": \"Botswana\", \"type\": \"bar\", \"y\": [34999]}, {\"name\": \"Malawi\", \"type\": \"bar\", \"y\": [32864]}, {\"name\": \"Jamaica\", \"type\": \"bar\", \"y\": [31305]}, {\"name\": \"Sudan\", \"type\": \"bar\", \"y\": [29135]}, {\"name\": \"Australia\", \"type\": \"bar\", \"y\": [29130]}, {\"name\": \"DRC\", \"type\": \"bar\", \"y\": [27077]}, {\"name\": \"Thailand\", \"type\": \"bar\", \"y\": [27005]}, {\"name\": \"Malta\", \"type\": \"bar\", \"y\": [26748]}, {\"name\": \"Maldives\", \"type\": \"bar\", \"y\": [21666]}, {\"name\": \"Madagascar\", \"type\": \"bar\", \"y\": [21587]}, {\"name\": \"Angola\", \"type\": \"bar\", \"y\": [21407]}, {\"name\": \"Rwanda\", \"type\": \"bar\", \"y\": [20302]}, {\"name\": \"Mayotte\", \"type\": \"bar\", \"y\": [18845]}, {\"name\": \"French Polynesia\", \"type\": \"bar\", \"y\": [18546]}, {\"name\": \"Guinea\", \"type\": \"bar\", \"y\": [17851]}, {\"name\": \"Mauritania\", \"type\": \"bar\", \"y\": [17457]}, {\"name\": \"Eswatini\", \"type\": \"bar\", \"y\": [17239]}, {\"name\": \"Gabon\", \"type\": \"bar\", \"y\": [16945]}, {\"name\": \"French Guiana\", \"type\": \"bar\", \"y\": [16764]}, {\"name\": \"Syria\", \"type\": \"bar\", \"y\": [16556]}, {\"name\": \"Cabo Verde\", \"type\": \"bar\", \"y\": [16120]}, {\"name\": \"R\\u00e9union\", \"type\": \"bar\", \"y\": [13801]}, {\"name\": \"Haiti\", \"type\": \"bar\", \"y\": [12664]}, {\"name\": \"Belize\", \"type\": \"bar\", \"y\": [12383]}, {\"name\": \"Burkina Faso\", \"type\": \"bar\", \"y\": [12378]}, {\"name\": \"Hong Kong\", \"type\": \"bar\", \"y\": [11312]}, {\"name\": \"Andorra\", \"type\": \"bar\", \"y\": [11289]}, {\"name\": \"Guadeloupe\", \"type\": \"bar\", \"y\": [10614]}, {\"name\": \"Lesotho\", \"type\": \"bar\", \"y\": [10530]}, {\"name\": \"South Sudan\", \"type\": \"bar\", \"y\": [9554]}, {\"name\": \"Congo\", \"type\": \"bar\", \"y\": [9329]}, {\"name\": \"Somalia\", \"type\": \"bar\", \"y\": [9328]}, {\"name\": \"Guyana\", \"type\": \"bar\", \"y\": [9187]}, {\"name\": \"Suriname\", \"type\": \"bar\", \"y\": [9028]}, {\"name\": \"Mali\", \"type\": \"bar\", \"y\": [8933]}, {\"name\": \"Bahamas\", \"type\": \"bar\", \"y\": [8765]}, {\"name\": \"Aruba\", \"type\": \"bar\", \"y\": [8421]}, {\"name\": \"Togo\", \"type\": \"bar\", \"y\": [8222]}, {\"name\": \"Trinidad and Tobago\", \"type\": \"bar\", \"y\": [7788]}, {\"name\": \"Martinique\", \"type\": \"bar\", \"y\": [6928]}, {\"name\": \"Equatorial Guinea\", \"type\": \"bar\", \"y\": [6562]}, {\"name\": \"Nicaragua\", \"type\": \"bar\", \"y\": [6537]}, {\"name\": \"Benin\", \"type\": \"bar\", \"y\": [6501]}, {\"name\": \"Djibouti\", \"type\": \"bar\", \"y\": [6294]}, {\"name\": \"Iceland\", \"type\": \"bar\", \"y\": [6083]}, {\"name\": \"Cura\\u00e7ao\", \"type\": \"bar\", \"y\": [5138]}, {\"name\": \"CAR\", \"type\": \"bar\", \"y\": [5023]}, {\"name\": \"Gambia\", \"type\": \"bar\", \"y\": [5019]}, {\"name\": \"Niger\", \"type\": \"bar\", \"y\": [4865]}, {\"name\": \"Chad\", \"type\": \"bar\", \"y\": [4328]}, {\"name\": \"Gibraltar\", \"type\": \"bar\", \"y\": [4263]}, {\"name\": \"San Marino\", \"type\": \"bar\", \"y\": [4151]}, {\"name\": \"Mongolia\", \"type\": \"bar\", \"y\": [4083]}, {\"name\": \"Saint Lucia\", \"type\": \"bar\", \"y\": [4053]}, {\"name\": \"Channel Islands\", \"type\": \"bar\", \"y\": [4044]}, {\"name\": \"Sierra Leone\", \"type\": \"bar\", \"y\": [3938]}, {\"name\": \"Comoros\", \"type\": \"bar\", \"y\": [3646]}, {\"name\": \"Guinea-Bissau\", \"type\": \"bar\", \"y\": [3447]}, {\"name\": \"Barbados\", \"type\": \"bar\", \"y\": [3442]}, {\"name\": \"Seychelles\", \"type\": \"bar\", \"y\": [3342]}, {\"name\": \"Eritrea\", \"type\": \"bar\", \"y\": [3055]}, {\"name\": \"Yemen\", \"type\": \"bar\", \"y\": [2908]}, {\"name\": \"Liechtenstein\", \"type\": \"bar\", \"y\": [2612]}, {\"name\": \"Vietnam\", \"type\": \"bar\", \"y\": [2557]}, {\"name\": \"Burundi\", \"type\": \"bar\", \"y\": [2461]}, {\"name\": \"New Zealand\", \"type\": \"bar\", \"y\": [2430]}, {\"name\": \"Papua New Guinea\", \"type\": \"bar\", \"y\": [2269]}, {\"name\": \"Turks and Caicos\", \"type\": \"bar\", \"y\": [2233]}, {\"name\": \"Monaco\", \"type\": \"bar\", \"y\": [2120]}, {\"name\": \"Sint Maarten\", \"type\": \"bar\", \"y\": [2085]}, {\"name\": \"Sao Tome and Principe\", \"type\": \"bar\", \"y\": [2084]}, {\"name\": \"Liberia\", \"type\": \"bar\", \"y\": [2030]}, {\"name\": \"St. Vincent Grenadines\", \"type\": \"bar\", \"y\": [1680]}, {\"name\": \"Saint Martin\", \"type\": \"bar\", \"y\": [1602]}, {\"name\": \"Cambodia\", \"type\": \"bar\", \"y\": [1325]}, {\"name\": \"Isle of Man\", \"type\": \"bar\", \"y\": [1307]}, {\"name\": \"Taiwan\", \"type\": \"bar\", \"y\": [990]}, {\"name\": \"Antigua and Barbuda\", \"type\": \"bar\", \"y\": [963]}, {\"name\": \"Bhutan\", \"type\": \"bar\", \"y\": [868]}, {\"name\": \"Caribbean Netherlands\", \"type\": \"bar\", \"y\": [804]}, {\"name\": \"Mauritius\", \"type\": \"bar\", \"y\": [747]}, {\"name\": \"Bermuda\", \"type\": \"bar\", \"y\": [740]}, {\"name\": \"St. Barth\", \"type\": \"bar\", \"y\": [712]}, {\"name\": \"Faeroe Islands\", \"type\": \"bar\", \"y\": [661]}, {\"name\": \"Tanzania\", \"type\": \"bar\", \"y\": [509]}, {\"name\": \"Cayman Islands\", \"type\": \"bar\", \"y\": [474]}, {\"name\": \"Timor-Leste\", \"type\": \"bar\", \"y\": [203]}, {\"name\": \"Brunei \", \"type\": \"bar\", \"y\": [199]}, {\"name\": \"Wallis and Futuna\", \"type\": \"bar\", \"y\": [186]}, {\"name\": \"Dominica\", \"type\": \"bar\", \"y\": [156]}, {\"name\": \"Grenada\", \"type\": \"bar\", \"y\": [154]}, {\"name\": \"British Virgin Islands\", \"type\": \"bar\", \"y\": [153]}, {\"name\": \"New Caledonia\", \"type\": \"bar\", \"y\": [93]}, {\"name\": \"Fiji\", \"type\": \"bar\", \"y\": [66]}, {\"name\": \"Macao\", \"type\": \"bar\", \"y\": [48]}, {\"name\": \"Laos\", \"type\": \"bar\", \"y\": [48]}, {\"name\": \"Saint Kitts and Nevis\", \"type\": \"bar\", \"y\": [43]}, {\"name\": \"Vatican City\", \"type\": \"bar\", \"y\": [27]}, {\"name\": \"Anguilla\", \"type\": \"bar\", \"y\": [21]}, {\"name\": \"Montserrat\", \"type\": \"bar\", \"y\": [20]}, {\"name\": \"Solomon Islands\", \"type\": \"bar\", \"y\": [18]}, {\"name\": \"Western Sahara\", \"type\": \"bar\", \"y\": [10]}, {\"name\": \"Samoa\", \"type\": \"bar\", \"y\": [3]}, {\"name\": \"Vanuatu\", \"type\": \"bar\", \"y\": [3]}],                        {\"barmode\": \"stack\", \"height\": 1200, \"template\": {\"data\": {\"bar\": [{\"error_x\": {\"color\": \"#2a3f5f\"}, \"error_y\": {\"color\": \"#2a3f5f\"}, \"marker\": {\"line\": {\"color\": \"#E5ECF6\", \"width\": 0.5}}, \"type\": \"bar\"}], \"barpolar\": [{\"marker\": {\"line\": {\"color\": \"#E5ECF6\", \"width\": 0.5}}, \"type\": \"barpolar\"}], \"carpet\": [{\"aaxis\": {\"endlinecolor\": \"#2a3f5f\", \"gridcolor\": \"white\", \"linecolor\": \"white\", \"minorgridcolor\": \"white\", \"startlinecolor\": \"#2a3f5f\"}, \"baxis\": {\"endlinecolor\": \"#2a3f5f\", \"gridcolor\": \"white\", \"linecolor\": \"white\", \"minorgridcolor\": \"white\", \"startlinecolor\": \"#2a3f5f\"}, \"type\": \"carpet\"}], \"choropleth\": [{\"colorbar\": {\"outlinewidth\": 0, \"ticks\": \"\"}, \"type\": \"choropleth\"}], \"contour\": [{\"colorbar\": {\"outlinewidth\": 0, \"ticks\": \"\"}, \"colorscale\": [[0.0, \"#0d0887\"], [0.1111111111111111, \"#46039f\"], [0.2222222222222222, \"#7201a8\"], [0.3333333333333333, \"#9c179e\"], [0.4444444444444444, \"#bd3786\"], [0.5555555555555556, \"#d8576b\"], [0.6666666666666666, \"#ed7953\"], [0.7777777777777778, \"#fb9f3a\"], [0.8888888888888888, \"#fdca26\"], [1.0, \"#f0f921\"]], \"type\": \"contour\"}], \"contourcarpet\": [{\"colorbar\": {\"outlinewidth\": 0, \"ticks\": \"\"}, \"type\": \"contourcarpet\"}], \"heatmap\": [{\"colorbar\": {\"outlinewidth\": 0, \"ticks\": \"\"}, \"colorscale\": [[0.0, \"#0d0887\"], [0.1111111111111111, \"#46039f\"], [0.2222222222222222, \"#7201a8\"], [0.3333333333333333, \"#9c179e\"], [0.4444444444444444, \"#bd3786\"], [0.5555555555555556, \"#d8576b\"], [0.6666666666666666, \"#ed7953\"], [0.7777777777777778, \"#fb9f3a\"], [0.8888888888888888, \"#fdca26\"], [1.0, \"#f0f921\"]], \"type\": \"heatmap\"}], \"heatmapgl\": [{\"colorbar\": {\"outlinewidth\": 0, \"ticks\": \"\"}, \"colorscale\": [[0.0, \"#0d0887\"], [0.1111111111111111, \"#46039f\"], [0.2222222222222222, \"#7201a8\"], [0.3333333333333333, \"#9c179e\"], [0.4444444444444444, \"#bd3786\"], [0.5555555555555556, \"#d8576b\"], [0.6666666666666666, \"#ed7953\"], [0.7777777777777778, \"#fb9f3a\"], [0.8888888888888888, \"#fdca26\"], [1.0, \"#f0f921\"]], \"type\": \"heatmapgl\"}], \"histogram\": [{\"marker\": {\"colorbar\": {\"outlinewidth\": 0, \"ticks\": \"\"}}, \"type\": \"histogram\"}], \"histogram2d\": [{\"colorbar\": {\"outlinewidth\": 0, \"ticks\": \"\"}, \"colorscale\": [[0.0, \"#0d0887\"], [0.1111111111111111, \"#46039f\"], [0.2222222222222222, \"#7201a8\"], [0.3333333333333333, \"#9c179e\"], [0.4444444444444444, \"#bd3786\"], [0.5555555555555556, \"#d8576b\"], [0.6666666666666666, \"#ed7953\"], [0.7777777777777778, \"#fb9f3a\"], [0.8888888888888888, \"#fdca26\"], [1.0, \"#f0f921\"]], \"type\": \"histogram2d\"}], \"histogram2dcontour\": [{\"colorbar\": {\"outlinewidth\": 0, \"ticks\": \"\"}, \"colorscale\": [[0.0, \"#0d0887\"], [0.1111111111111111, \"#46039f\"], [0.2222222222222222, \"#7201a8\"], [0.3333333333333333, \"#9c179e\"], [0.4444444444444444, \"#bd3786\"], [0.5555555555555556, \"#d8576b\"], [0.6666666666666666, \"#ed7953\"], [0.7777777777777778, \"#fb9f3a\"], [0.8888888888888888, \"#fdca26\"], [1.0, \"#f0f921\"]], \"type\": \"histogram2dcontour\"}], \"mesh3d\": [{\"colorbar\": {\"outlinewidth\": 0, \"ticks\": \"\"}, \"type\": \"mesh3d\"}], \"parcoords\": [{\"line\": {\"colorbar\": {\"outlinewidth\": 0, \"ticks\": \"\"}}, \"type\": \"parcoords\"}], \"pie\": [{\"automargin\": true, \"type\": \"pie\"}], \"scatter\": [{\"marker\": {\"colorbar\": {\"outlinewidth\": 0, \"ticks\": \"\"}}, \"type\": \"scatter\"}], \"scatter3d\": [{\"line\": {\"colorbar\": {\"outlinewidth\": 0, \"ticks\": \"\"}}, \"marker\": {\"colorbar\": {\"outlinewidth\": 0, \"ticks\": \"\"}}, \"type\": \"scatter3d\"}], \"scattercarpet\": [{\"marker\": {\"colorbar\": {\"outlinewidth\": 0, \"ticks\": \"\"}}, \"type\": \"scattercarpet\"}], \"scattergeo\": [{\"marker\": {\"colorbar\": {\"outlinewidth\": 0, \"ticks\": \"\"}}, \"type\": \"scattergeo\"}], \"scattergl\": [{\"marker\": {\"colorbar\": {\"outlinewidth\": 0, \"ticks\": \"\"}}, \"type\": \"scattergl\"}], \"scattermapbox\": [{\"marker\": {\"colorbar\": {\"outlinewidth\": 0, \"ticks\": \"\"}}, \"type\": \"scattermapbox\"}], \"scatterpolar\": [{\"marker\": {\"colorbar\": {\"outlinewidth\": 0, \"ticks\": \"\"}}, \"type\": \"scatterpolar\"}], \"scatterpolargl\": [{\"marker\": {\"colorbar\": {\"outlinewidth\": 0, \"ticks\": \"\"}}, \"type\": \"scatterpolargl\"}], \"scatterternary\": [{\"marker\": {\"colorbar\": {\"outlinewidth\": 0, \"ticks\": \"\"}}, \"type\": \"scatterternary\"}], \"surface\": [{\"colorbar\": {\"outlinewidth\": 0, \"ticks\": \"\"}, \"colorscale\": [[0.0, \"#0d0887\"], [0.1111111111111111, \"#46039f\"], [0.2222222222222222, \"#7201a8\"], [0.3333333333333333, \"#9c179e\"], [0.4444444444444444, \"#bd3786\"], [0.5555555555555556, \"#d8576b\"], [0.6666666666666666, \"#ed7953\"], [0.7777777777777778, \"#fb9f3a\"], [0.8888888888888888, \"#fdca26\"], [1.0, \"#f0f921\"]], \"type\": \"surface\"}], \"table\": [{\"cells\": {\"fill\": {\"color\": \"#EBF0F8\"}, \"line\": {\"color\": \"white\"}}, \"header\": {\"fill\": {\"color\": \"#C8D4E3\"}, \"line\": {\"color\": \"white\"}}, \"type\": \"table\"}]}, \"layout\": {\"annotationdefaults\": {\"arrowcolor\": \"#2a3f5f\", \"arrowhead\": 0, \"arrowwidth\": 1}, \"autotypenumbers\": \"strict\", \"coloraxis\": {\"colorbar\": {\"outlinewidth\": 0, \"ticks\": \"\"}}, \"colorscale\": {\"diverging\": [[0, \"#8e0152\"], [0.1, \"#c51b7d\"], [0.2, \"#de77ae\"], [0.3, \"#f1b6da\"], [0.4, \"#fde0ef\"], [0.5, \"#f7f7f7\"], [0.6, \"#e6f5d0\"], [0.7, \"#b8e186\"], [0.8, \"#7fbc41\"], [0.9, \"#4d9221\"], [1, \"#276419\"]], \"sequential\": [[0.0, \"#0d0887\"], [0.1111111111111111, \"#46039f\"], [0.2222222222222222, \"#7201a8\"], [0.3333333333333333, \"#9c179e\"], [0.4444444444444444, \"#bd3786\"], [0.5555555555555556, \"#d8576b\"], [0.6666666666666666, \"#ed7953\"], [0.7777777777777778, \"#fb9f3a\"], [0.8888888888888888, \"#fdca26\"], [1.0, \"#f0f921\"]], \"sequentialminus\": [[0.0, \"#0d0887\"], [0.1111111111111111, \"#46039f\"], [0.2222222222222222, \"#7201a8\"], [0.3333333333333333, \"#9c179e\"], [0.4444444444444444, \"#bd3786\"], [0.5555555555555556, \"#d8576b\"], [0.6666666666666666, \"#ed7953\"], [0.7777777777777778, \"#fb9f3a\"], [0.8888888888888888, \"#fdca26\"], [1.0, \"#f0f921\"]]}, \"colorway\": [\"#636efa\", \"#EF553B\", \"#00cc96\", \"#ab63fa\", \"#FFA15A\", \"#19d3f3\", \"#FF6692\", \"#B6E880\", \"#FF97FF\", \"#FECB52\"], \"font\": {\"color\": \"#2a3f5f\"}, \"geo\": {\"bgcolor\": \"white\", \"lakecolor\": \"white\", \"landcolor\": \"#E5ECF6\", \"showlakes\": true, \"showland\": true, \"subunitcolor\": \"white\"}, \"hoverlabel\": {\"align\": \"left\"}, \"hovermode\": \"closest\", \"mapbox\": {\"style\": \"light\"}, \"paper_bgcolor\": \"white\", \"plot_bgcolor\": \"#E5ECF6\", \"polar\": {\"angularaxis\": {\"gridcolor\": \"white\", \"linecolor\": \"white\", \"ticks\": \"\"}, \"bgcolor\": \"#E5ECF6\", \"radialaxis\": {\"gridcolor\": \"white\", \"linecolor\": \"white\", \"ticks\": \"\"}}, \"scene\": {\"xaxis\": {\"backgroundcolor\": \"#E5ECF6\", \"gridcolor\": \"white\", \"gridwidth\": 2, \"linecolor\": \"white\", \"showbackground\": true, \"ticks\": \"\", \"zerolinecolor\": \"white\"}, \"yaxis\": {\"backgroundcolor\": \"#E5ECF6\", \"gridcolor\": \"white\", \"gridwidth\": 2, \"linecolor\": \"white\", \"showbackground\": true, \"ticks\": \"\", \"zerolinecolor\": \"white\"}, \"zaxis\": {\"backgroundcolor\": \"#E5ECF6\", \"gridcolor\": \"white\", \"gridwidth\": 2, \"linecolor\": \"white\", \"showbackground\": true, \"ticks\": \"\", \"zerolinecolor\": \"white\"}}, \"shapedefaults\": {\"line\": {\"color\": \"#2a3f5f\"}}, \"ternary\": {\"aaxis\": {\"gridcolor\": \"white\", \"linecolor\": \"white\", \"ticks\": \"\"}, \"baxis\": {\"gridcolor\": \"white\", \"linecolor\": \"white\", \"ticks\": \"\"}, \"bgcolor\": \"#E5ECF6\", \"caxis\": {\"gridcolor\": \"white\", \"linecolor\": \"white\", \"ticks\": \"\"}}, \"title\": {\"x\": 0.05}, \"xaxis\": {\"automargin\": true, \"gridcolor\": \"white\", \"linecolor\": \"white\", \"ticks\": \"\", \"title\": {\"standoff\": 15}, \"zerolinecolor\": \"white\", \"zerolinewidth\": 2}, \"yaxis\": {\"automargin\": true, \"gridcolor\": \"white\", \"linecolor\": \"white\", \"ticks\": \"\", \"title\": {\"standoff\": 15}, \"zerolinecolor\": \"white\", \"zerolinewidth\": 2}}}, \"title\": {\"font\": {\"size\": 20}, \"text\": \"Stacked Bar Chart of All Countries COVID-19 Cases on Mar 15, 2021\", \"x\": 0.5, \"xanchor\": \"center\"}},                        {\"responsive\": true}                    ).then(function(){\n",
       "                            \n",
       "var gd = document.getElementById('89b6bdbb-d3c4-42d8-a4b1-a84a28d3a9de');\n",
       "var x = new MutationObserver(function (mutations, observer) {{\n",
       "        var display = window.getComputedStyle(gd).display;\n",
       "        if (!display || display === 'none') {{\n",
       "            console.log([gd, 'removed!']);\n",
       "            Plotly.purge(gd);\n",
       "            observer.disconnect();\n",
       "        }}\n",
       "}});\n",
       "\n",
       "// Listen for the removal of the full notebook cells\n",
       "var notebookContainer = gd.closest('#notebook-container');\n",
       "if (notebookContainer) {{\n",
       "    x.observe(notebookContainer, {childList: true});\n",
       "}}\n",
       "\n",
       "// Listen for the clearing of the current output cell\n",
       "var outputEl = gd.closest('.output');\n",
       "if (outputEl) {{\n",
       "    x.observe(outputEl, {childList: true});\n",
       "}}\n",
       "\n",
       "                        })                };                });            </script>        </div>"
      ]
     },
     "metadata": {},
     "output_type": "display_data"
    }
   ],
   "source": [
    "bar_list = []\n",
    "for i in country_df.index:\n",
    "    bar_list.append(go.Bar(name=country_df['Country'][i], y=[country_df['Total Cases'][i]]))\n",
    "    \n",
    "fig = go.Figure(data=bar_list)\n",
    "fig.update_layout(title={'text': 'Stacked Bar Chart of All Countries COVID-19 Cases on %s' % yesterday_str, 'x': 0.5,\n",
    "                         'xanchor': 'center', 'font': {'size': 20}}, barmode='stack', height=1200)\n",
    "fig.show()"
   ]
  },
  {
   "cell_type": "code",
   "execution_count": 22,
   "metadata": {},
   "outputs": [
    {
     "data": {
      "application/vnd.plotly.v1+json": {
       "config": {
        "plotlyServerURL": "https://plot.ly"
       },
       "data": [
        {
         "marker": {
          "color": [
           120764967,
           30138586,
           11525477,
           11409595,
           4400045,
           4263527,
           4078133,
           3238394,
           3195062,
           2894893,
           2585385,
           2305884,
           2201886,
           2166290,
           1917527,
           1754933,
           1530033,
           1467548,
           1425044,
           1418974,
           1402420,
           1162661,
           913047,
           896231,
           862681,
           820913,
           814513,
           808283,
           763085,
           712527,
           626893,
           607453,
           573815,
           559168,
           524196,
           520911,
           495464,
           489096,
           486470,
           447906,
           428295,
           419953,
           382752,
           348155,
           337960,
           324971,
           303270,
           302498,
           283194,
           275310,
           275148,
           259389,
           251174,
           246299,
           242124,
           240671,
           227316,
           224731,
           222281,
           221071,
           211602,
           210855,
           209093,
           205644,
           205324,
           200579,
           191555,
           183014,
           181414,
           178702,
           178277,
           176618,
           170733,
           160895,
           147423,
           146488,
           146080,
           144831,
           142147,
           131683,
           118017,
           115410,
           113967,
           112930,
           96017,
           93959,
           88238,
           87985,
           86917,
           86086,
           84950,
           84163,
           81305,
           80678,
           72862,
           67334,
           64516,
           62377,
           62206,
           60117,
           57926,
           55995,
           41424,
           40622,
           40591,
           39869,
           37908,
           36996,
           36504,
           34999,
           32864,
           31305,
           29135,
           29130,
           27077,
           27005,
           26748,
           21666,
           21587,
           21407,
           20302,
           18845,
           18546,
           17851,
           17457,
           17239,
           16945,
           16764,
           16556,
           16120,
           13801,
           12664,
           12383,
           12378,
           11312,
           11289,
           10614,
           10530,
           9554,
           9329,
           9328,
           9187,
           9028,
           8933,
           8765,
           8421,
           8222,
           7788,
           6928,
           6562,
           6537,
           6501,
           6294,
           6083,
           5138,
           5023,
           5019,
           4865,
           4328,
           4263,
           4151,
           4083,
           4053,
           4044,
           3938,
           3646,
           3447,
           3442,
           3342,
           3055,
           2908,
           2612,
           2557,
           2461,
           2430,
           2269,
           2233,
           2120,
           2085,
           2084,
           2030,
           1680,
           1602,
           1325,
           1307,
           990,
           963,
           868,
           804,
           747,
           740,
           712,
           661,
           509,
           474,
           203,
           199,
           186,
           156,
           154,
           153,
           93,
           66,
           48,
           48,
           43,
           27,
           21,
           20,
           18,
           10,
           3,
           3
          ],
          "colorscale": [
           [
            0,
            "rgb(255,245,240)"
           ],
           [
            0.125,
            "rgb(254,224,210)"
           ],
           [
            0.25,
            "rgb(252,187,161)"
           ],
           [
            0.375,
            "rgb(252,146,114)"
           ],
           [
            0.5,
            "rgb(251,106,74)"
           ],
           [
            0.625,
            "rgb(239,59,44)"
           ],
           [
            0.75,
            "rgb(203,24,29)"
           ],
           [
            0.875,
            "rgb(165,15,21)"
           ],
           [
            1,
            "rgb(103,0,13)"
           ]
          ],
          "showscale": true
         },
         "type": "bar",
         "x": [
          "USA",
          "Brazil",
          "India",
          "Russia",
          "UK",
          "France",
          "Italy",
          "Spain",
          "Turkey",
          "Germany",
          "Colombia",
          "Argentina",
          "Mexico",
          "Poland",
          "Iran",
          "South Africa",
          "Ukraine",
          "Indonesia",
          "Peru",
          "Czechia",
          "Netherlands",
          "Canada",
          "Chile",
          "Romania",
          "Israel",
          "Portugal",
          "Belgium",
          "Iraq",
          "Sweden",
          "Philippines",
          "Pakistan",
          "Switzerland",
          "Bangladesh",
          "Hungary",
          "Serbia",
          "Austria",
          "Morocco",
          "Jordan",
          "Japan",
          "UAE",
          "Lebanon",
          "Saudi Arabia",
          "Panama",
          "Slovakia",
          "Malaysia",
          "Belarus",
          "Ecuador",
          "Bulgaria",
          "Nepal",
          "Georgia",
          "Bolivia",
          "Croatia",
          "Dominican Republic",
          "Tunisia",
          "Azerbaijan",
          "Ireland",
          "Kazakhstan",
          "Greece",
          "Denmark",
          "Palestine",
          "Kuwait",
          "Costa Rica",
          "Lithuania",
          "Moldova",
          "Slovenia",
          "Egypt",
          "Guatemala",
          "Paraguay",
          "Armenia",
          "Honduras",
          "Ethiopia",
          "Qatar",
          "Nigeria",
          "Oman",
          "Venezuela",
          "Libya",
          "Bosnia and Herzegovina",
          "Myanmar",
          "Bahrain",
          "Albania",
          "Algeria",
          "Kenya",
          "North Macedonia",
          "S. Korea",
          "Latvia",
          "Sri Lanka",
          "Ghana",
          "Kyrgyzstan",
          "Estonia",
          "Zambia",
          "Montenegro",
          "Norway",
          "Uzbekistan",
          "Uruguay",
          "Finland",
          "Mozambique",
          "El Salvador",
          "Cuba",
          "Singapore",
          "Luxembourg",
          "Afghanistan",
          "Namibia",
          "Cameroon",
          "Uganda",
          "Cyprus",
          "Ivory Coast",
          "Senegal",
          "Zimbabwe",
          "Botswana",
          "Malawi",
          "Jamaica",
          "Sudan",
          "Australia",
          "DRC",
          "Thailand",
          "Malta",
          "Maldives",
          "Madagascar",
          "Angola",
          "Rwanda",
          "Mayotte",
          "French Polynesia",
          "Guinea",
          "Mauritania",
          "Eswatini",
          "Gabon",
          "French Guiana",
          "Syria",
          "Cabo Verde",
          "Réunion",
          "Haiti",
          "Belize",
          "Burkina Faso",
          "Hong Kong",
          "Andorra",
          "Guadeloupe",
          "Lesotho",
          "South Sudan",
          "Congo",
          "Somalia",
          "Guyana",
          "Suriname",
          "Mali",
          "Bahamas",
          "Aruba",
          "Togo",
          "Trinidad and Tobago",
          "Martinique",
          "Equatorial Guinea",
          "Nicaragua",
          "Benin",
          "Djibouti",
          "Iceland",
          "Curaçao",
          "CAR",
          "Gambia",
          "Niger",
          "Chad",
          "Gibraltar",
          "San Marino",
          "Mongolia",
          "Saint Lucia",
          "Channel Islands",
          "Sierra Leone",
          "Comoros",
          "Guinea-Bissau",
          "Barbados",
          "Seychelles",
          "Eritrea",
          "Yemen",
          "Liechtenstein",
          "Vietnam",
          "Burundi",
          "New Zealand",
          "Papua New Guinea",
          "Turks and Caicos",
          "Monaco",
          "Sint Maarten",
          "Sao Tome and Principe",
          "Liberia",
          "St. Vincent Grenadines",
          "Saint Martin",
          "Cambodia",
          "Isle of Man",
          "Taiwan",
          "Antigua and Barbuda",
          "Bhutan",
          "Caribbean Netherlands",
          "Mauritius",
          "Bermuda",
          "St. Barth",
          "Faeroe Islands",
          "Tanzania",
          "Cayman Islands",
          "Timor-Leste",
          "Brunei ",
          "Wallis and Futuna",
          "Dominica",
          "Grenada",
          "British Virgin Islands",
          "New Caledonia",
          "Fiji",
          "Macao",
          "Laos",
          "Saint Kitts and Nevis",
          "Vatican City",
          "Anguilla",
          "Montserrat",
          "Solomon Islands",
          "Western Sahara",
          "Samoa",
          "Vanuatu"
         ],
         "y": [
          30138586,
          11525477,
          11409595,
          4400045,
          4263527,
          4078133,
          3238394,
          3195062,
          2894893,
          2585385,
          2305884,
          2201886,
          2166290,
          1917527,
          1754933,
          1530033,
          1467548,
          1425044,
          1418974,
          1402420,
          1162661,
          913047,
          896231,
          862681,
          820913,
          814513,
          808283,
          763085,
          712527,
          626893,
          607453,
          573815,
          559168,
          524196,
          520911,
          495464,
          489096,
          486470,
          447906,
          428295,
          419953,
          382752,
          348155,
          337960,
          324971,
          303270,
          302498,
          283194,
          275310,
          275148,
          259389,
          251174,
          246299,
          242124,
          240671,
          227316,
          224731,
          222281,
          221071,
          211602,
          210855,
          209093,
          205644,
          205324,
          200579,
          191555,
          183014,
          181414,
          178702,
          178277,
          176618,
          170733,
          160895,
          147423,
          146488,
          146080,
          144831,
          142147,
          131683,
          118017,
          115410,
          113967,
          112930,
          96017,
          93959,
          88238,
          87985,
          86917,
          86086,
          84950,
          84163,
          81305,
          80678,
          72862,
          67334,
          64516,
          62377,
          62206,
          60117,
          57926,
          55995,
          41424,
          40622,
          40591,
          39869,
          37908,
          36996,
          36504,
          34999,
          32864,
          31305,
          29135,
          29130,
          27077,
          27005,
          26748,
          21666,
          21587,
          21407,
          20302,
          18845,
          18546,
          17851,
          17457,
          17239,
          16945,
          16764,
          16556,
          16120,
          13801,
          12664,
          12383,
          12378,
          11312,
          11289,
          10614,
          10530,
          9554,
          9329,
          9328,
          9187,
          9028,
          8933,
          8765,
          8421,
          8222,
          7788,
          6928,
          6562,
          6537,
          6501,
          6294,
          6083,
          5138,
          5023,
          5019,
          4865,
          4328,
          4263,
          4151,
          4083,
          4053,
          4044,
          3938,
          3646,
          3447,
          3442,
          3342,
          3055,
          2908,
          2612,
          2557,
          2461,
          2430,
          2269,
          2233,
          2120,
          2085,
          2084,
          2030,
          1680,
          1602,
          1325,
          1307,
          990,
          963,
          868,
          804,
          747,
          740,
          712,
          661,
          509,
          474,
          203,
          199,
          186,
          156,
          154,
          153,
          93,
          66,
          48,
          48,
          43,
          27,
          21,
          20,
          18,
          10,
          3,
          3
         ]
        }
       ],
       "layout": {
        "template": {
         "data": {
          "bar": [
           {
            "error_x": {
             "color": "#2a3f5f"
            },
            "error_y": {
             "color": "#2a3f5f"
            },
            "marker": {
             "line": {
              "color": "#E5ECF6",
              "width": 0.5
             }
            },
            "type": "bar"
           }
          ],
          "barpolar": [
           {
            "marker": {
             "line": {
              "color": "#E5ECF6",
              "width": 0.5
             }
            },
            "type": "barpolar"
           }
          ],
          "carpet": [
           {
            "aaxis": {
             "endlinecolor": "#2a3f5f",
             "gridcolor": "white",
             "linecolor": "white",
             "minorgridcolor": "white",
             "startlinecolor": "#2a3f5f"
            },
            "baxis": {
             "endlinecolor": "#2a3f5f",
             "gridcolor": "white",
             "linecolor": "white",
             "minorgridcolor": "white",
             "startlinecolor": "#2a3f5f"
            },
            "type": "carpet"
           }
          ],
          "choropleth": [
           {
            "colorbar": {
             "outlinewidth": 0,
             "ticks": ""
            },
            "type": "choropleth"
           }
          ],
          "contour": [
           {
            "colorbar": {
             "outlinewidth": 0,
             "ticks": ""
            },
            "colorscale": [
             [
              0,
              "#0d0887"
             ],
             [
              0.1111111111111111,
              "#46039f"
             ],
             [
              0.2222222222222222,
              "#7201a8"
             ],
             [
              0.3333333333333333,
              "#9c179e"
             ],
             [
              0.4444444444444444,
              "#bd3786"
             ],
             [
              0.5555555555555556,
              "#d8576b"
             ],
             [
              0.6666666666666666,
              "#ed7953"
             ],
             [
              0.7777777777777778,
              "#fb9f3a"
             ],
             [
              0.8888888888888888,
              "#fdca26"
             ],
             [
              1,
              "#f0f921"
             ]
            ],
            "type": "contour"
           }
          ],
          "contourcarpet": [
           {
            "colorbar": {
             "outlinewidth": 0,
             "ticks": ""
            },
            "type": "contourcarpet"
           }
          ],
          "heatmap": [
           {
            "colorbar": {
             "outlinewidth": 0,
             "ticks": ""
            },
            "colorscale": [
             [
              0,
              "#0d0887"
             ],
             [
              0.1111111111111111,
              "#46039f"
             ],
             [
              0.2222222222222222,
              "#7201a8"
             ],
             [
              0.3333333333333333,
              "#9c179e"
             ],
             [
              0.4444444444444444,
              "#bd3786"
             ],
             [
              0.5555555555555556,
              "#d8576b"
             ],
             [
              0.6666666666666666,
              "#ed7953"
             ],
             [
              0.7777777777777778,
              "#fb9f3a"
             ],
             [
              0.8888888888888888,
              "#fdca26"
             ],
             [
              1,
              "#f0f921"
             ]
            ],
            "type": "heatmap"
           }
          ],
          "heatmapgl": [
           {
            "colorbar": {
             "outlinewidth": 0,
             "ticks": ""
            },
            "colorscale": [
             [
              0,
              "#0d0887"
             ],
             [
              0.1111111111111111,
              "#46039f"
             ],
             [
              0.2222222222222222,
              "#7201a8"
             ],
             [
              0.3333333333333333,
              "#9c179e"
             ],
             [
              0.4444444444444444,
              "#bd3786"
             ],
             [
              0.5555555555555556,
              "#d8576b"
             ],
             [
              0.6666666666666666,
              "#ed7953"
             ],
             [
              0.7777777777777778,
              "#fb9f3a"
             ],
             [
              0.8888888888888888,
              "#fdca26"
             ],
             [
              1,
              "#f0f921"
             ]
            ],
            "type": "heatmapgl"
           }
          ],
          "histogram": [
           {
            "marker": {
             "colorbar": {
              "outlinewidth": 0,
              "ticks": ""
             }
            },
            "type": "histogram"
           }
          ],
          "histogram2d": [
           {
            "colorbar": {
             "outlinewidth": 0,
             "ticks": ""
            },
            "colorscale": [
             [
              0,
              "#0d0887"
             ],
             [
              0.1111111111111111,
              "#46039f"
             ],
             [
              0.2222222222222222,
              "#7201a8"
             ],
             [
              0.3333333333333333,
              "#9c179e"
             ],
             [
              0.4444444444444444,
              "#bd3786"
             ],
             [
              0.5555555555555556,
              "#d8576b"
             ],
             [
              0.6666666666666666,
              "#ed7953"
             ],
             [
              0.7777777777777778,
              "#fb9f3a"
             ],
             [
              0.8888888888888888,
              "#fdca26"
             ],
             [
              1,
              "#f0f921"
             ]
            ],
            "type": "histogram2d"
           }
          ],
          "histogram2dcontour": [
           {
            "colorbar": {
             "outlinewidth": 0,
             "ticks": ""
            },
            "colorscale": [
             [
              0,
              "#0d0887"
             ],
             [
              0.1111111111111111,
              "#46039f"
             ],
             [
              0.2222222222222222,
              "#7201a8"
             ],
             [
              0.3333333333333333,
              "#9c179e"
             ],
             [
              0.4444444444444444,
              "#bd3786"
             ],
             [
              0.5555555555555556,
              "#d8576b"
             ],
             [
              0.6666666666666666,
              "#ed7953"
             ],
             [
              0.7777777777777778,
              "#fb9f3a"
             ],
             [
              0.8888888888888888,
              "#fdca26"
             ],
             [
              1,
              "#f0f921"
             ]
            ],
            "type": "histogram2dcontour"
           }
          ],
          "mesh3d": [
           {
            "colorbar": {
             "outlinewidth": 0,
             "ticks": ""
            },
            "type": "mesh3d"
           }
          ],
          "parcoords": [
           {
            "line": {
             "colorbar": {
              "outlinewidth": 0,
              "ticks": ""
             }
            },
            "type": "parcoords"
           }
          ],
          "pie": [
           {
            "automargin": true,
            "type": "pie"
           }
          ],
          "scatter": [
           {
            "marker": {
             "colorbar": {
              "outlinewidth": 0,
              "ticks": ""
             }
            },
            "type": "scatter"
           }
          ],
          "scatter3d": [
           {
            "line": {
             "colorbar": {
              "outlinewidth": 0,
              "ticks": ""
             }
            },
            "marker": {
             "colorbar": {
              "outlinewidth": 0,
              "ticks": ""
             }
            },
            "type": "scatter3d"
           }
          ],
          "scattercarpet": [
           {
            "marker": {
             "colorbar": {
              "outlinewidth": 0,
              "ticks": ""
             }
            },
            "type": "scattercarpet"
           }
          ],
          "scattergeo": [
           {
            "marker": {
             "colorbar": {
              "outlinewidth": 0,
              "ticks": ""
             }
            },
            "type": "scattergeo"
           }
          ],
          "scattergl": [
           {
            "marker": {
             "colorbar": {
              "outlinewidth": 0,
              "ticks": ""
             }
            },
            "type": "scattergl"
           }
          ],
          "scattermapbox": [
           {
            "marker": {
             "colorbar": {
              "outlinewidth": 0,
              "ticks": ""
             }
            },
            "type": "scattermapbox"
           }
          ],
          "scatterpolar": [
           {
            "marker": {
             "colorbar": {
              "outlinewidth": 0,
              "ticks": ""
             }
            },
            "type": "scatterpolar"
           }
          ],
          "scatterpolargl": [
           {
            "marker": {
             "colorbar": {
              "outlinewidth": 0,
              "ticks": ""
             }
            },
            "type": "scatterpolargl"
           }
          ],
          "scatterternary": [
           {
            "marker": {
             "colorbar": {
              "outlinewidth": 0,
              "ticks": ""
             }
            },
            "type": "scatterternary"
           }
          ],
          "surface": [
           {
            "colorbar": {
             "outlinewidth": 0,
             "ticks": ""
            },
            "colorscale": [
             [
              0,
              "#0d0887"
             ],
             [
              0.1111111111111111,
              "#46039f"
             ],
             [
              0.2222222222222222,
              "#7201a8"
             ],
             [
              0.3333333333333333,
              "#9c179e"
             ],
             [
              0.4444444444444444,
              "#bd3786"
             ],
             [
              0.5555555555555556,
              "#d8576b"
             ],
             [
              0.6666666666666666,
              "#ed7953"
             ],
             [
              0.7777777777777778,
              "#fb9f3a"
             ],
             [
              0.8888888888888888,
              "#fdca26"
             ],
             [
              1,
              "#f0f921"
             ]
            ],
            "type": "surface"
           }
          ],
          "table": [
           {
            "cells": {
             "fill": {
              "color": "#EBF0F8"
             },
             "line": {
              "color": "white"
             }
            },
            "header": {
             "fill": {
              "color": "#C8D4E3"
             },
             "line": {
              "color": "white"
             }
            },
            "type": "table"
           }
          ]
         },
         "layout": {
          "annotationdefaults": {
           "arrowcolor": "#2a3f5f",
           "arrowhead": 0,
           "arrowwidth": 1
          },
          "autotypenumbers": "strict",
          "coloraxis": {
           "colorbar": {
            "outlinewidth": 0,
            "ticks": ""
           }
          },
          "colorscale": {
           "diverging": [
            [
             0,
             "#8e0152"
            ],
            [
             0.1,
             "#c51b7d"
            ],
            [
             0.2,
             "#de77ae"
            ],
            [
             0.3,
             "#f1b6da"
            ],
            [
             0.4,
             "#fde0ef"
            ],
            [
             0.5,
             "#f7f7f7"
            ],
            [
             0.6,
             "#e6f5d0"
            ],
            [
             0.7,
             "#b8e186"
            ],
            [
             0.8,
             "#7fbc41"
            ],
            [
             0.9,
             "#4d9221"
            ],
            [
             1,
             "#276419"
            ]
           ],
           "sequential": [
            [
             0,
             "#0d0887"
            ],
            [
             0.1111111111111111,
             "#46039f"
            ],
            [
             0.2222222222222222,
             "#7201a8"
            ],
            [
             0.3333333333333333,
             "#9c179e"
            ],
            [
             0.4444444444444444,
             "#bd3786"
            ],
            [
             0.5555555555555556,
             "#d8576b"
            ],
            [
             0.6666666666666666,
             "#ed7953"
            ],
            [
             0.7777777777777778,
             "#fb9f3a"
            ],
            [
             0.8888888888888888,
             "#fdca26"
            ],
            [
             1,
             "#f0f921"
            ]
           ],
           "sequentialminus": [
            [
             0,
             "#0d0887"
            ],
            [
             0.1111111111111111,
             "#46039f"
            ],
            [
             0.2222222222222222,
             "#7201a8"
            ],
            [
             0.3333333333333333,
             "#9c179e"
            ],
            [
             0.4444444444444444,
             "#bd3786"
            ],
            [
             0.5555555555555556,
             "#d8576b"
            ],
            [
             0.6666666666666666,
             "#ed7953"
            ],
            [
             0.7777777777777778,
             "#fb9f3a"
            ],
            [
             0.8888888888888888,
             "#fdca26"
            ],
            [
             1,
             "#f0f921"
            ]
           ]
          },
          "colorway": [
           "#636efa",
           "#EF553B",
           "#00cc96",
           "#ab63fa",
           "#FFA15A",
           "#19d3f3",
           "#FF6692",
           "#B6E880",
           "#FF97FF",
           "#FECB52"
          ],
          "font": {
           "color": "#2a3f5f"
          },
          "geo": {
           "bgcolor": "white",
           "lakecolor": "white",
           "landcolor": "#E5ECF6",
           "showlakes": true,
           "showland": true,
           "subunitcolor": "white"
          },
          "hoverlabel": {
           "align": "left"
          },
          "hovermode": "closest",
          "mapbox": {
           "style": "light"
          },
          "paper_bgcolor": "white",
          "plot_bgcolor": "#E5ECF6",
          "polar": {
           "angularaxis": {
            "gridcolor": "white",
            "linecolor": "white",
            "ticks": ""
           },
           "bgcolor": "#E5ECF6",
           "radialaxis": {
            "gridcolor": "white",
            "linecolor": "white",
            "ticks": ""
           }
          },
          "scene": {
           "xaxis": {
            "backgroundcolor": "#E5ECF6",
            "gridcolor": "white",
            "gridwidth": 2,
            "linecolor": "white",
            "showbackground": true,
            "ticks": "",
            "zerolinecolor": "white"
           },
           "yaxis": {
            "backgroundcolor": "#E5ECF6",
            "gridcolor": "white",
            "gridwidth": 2,
            "linecolor": "white",
            "showbackground": true,
            "ticks": "",
            "zerolinecolor": "white"
           },
           "zaxis": {
            "backgroundcolor": "#E5ECF6",
            "gridcolor": "white",
            "gridwidth": 2,
            "linecolor": "white",
            "showbackground": true,
            "ticks": "",
            "zerolinecolor": "white"
           }
          },
          "shapedefaults": {
           "line": {
            "color": "#2a3f5f"
           }
          },
          "ternary": {
           "aaxis": {
            "gridcolor": "white",
            "linecolor": "white",
            "ticks": ""
           },
           "baxis": {
            "gridcolor": "white",
            "linecolor": "white",
            "ticks": ""
           },
           "bgcolor": "#E5ECF6",
           "caxis": {
            "gridcolor": "white",
            "linecolor": "white",
            "ticks": ""
           }
          },
          "title": {
           "x": 0.05
          },
          "xaxis": {
           "automargin": true,
           "gridcolor": "white",
           "linecolor": "white",
           "ticks": "",
           "title": {
            "standoff": 15
           },
           "zerolinecolor": "white",
           "zerolinewidth": 2
          },
          "yaxis": {
           "automargin": true,
           "gridcolor": "white",
           "linecolor": "white",
           "ticks": "",
           "title": {
            "standoff": 15
           },
           "zerolinecolor": "white",
           "zerolinewidth": 2
          }
         }
        },
        "title": {
         "font": {
          "size": 20
         },
         "text": "Number of COVID Cases by Country on Mar 15, 2021, log scale",
         "x": 0.5,
         "xanchor": "center"
        },
        "xaxis": {
         "tickangle": -90
        },
        "yaxis": {
         "type": "log"
        }
       }
      },
      "text/html": [
       "<div>                            <div id=\"b87298c4-3eb4-4cf0-9ef0-581b30276fda\" class=\"plotly-graph-div\" style=\"height:525px; width:100%;\"></div>            <script type=\"text/javascript\">                require([\"plotly\"], function(Plotly) {                    window.PLOTLYENV=window.PLOTLYENV || {};                                    if (document.getElementById(\"b87298c4-3eb4-4cf0-9ef0-581b30276fda\")) {                    Plotly.newPlot(                        \"b87298c4-3eb4-4cf0-9ef0-581b30276fda\",                        [{\"marker\": {\"color\": [120764967, 30138586, 11525477, 11409595, 4400045, 4263527, 4078133, 3238394, 3195062, 2894893, 2585385, 2305884, 2201886, 2166290, 1917527, 1754933, 1530033, 1467548, 1425044, 1418974, 1402420, 1162661, 913047, 896231, 862681, 820913, 814513, 808283, 763085, 712527, 626893, 607453, 573815, 559168, 524196, 520911, 495464, 489096, 486470, 447906, 428295, 419953, 382752, 348155, 337960, 324971, 303270, 302498, 283194, 275310, 275148, 259389, 251174, 246299, 242124, 240671, 227316, 224731, 222281, 221071, 211602, 210855, 209093, 205644, 205324, 200579, 191555, 183014, 181414, 178702, 178277, 176618, 170733, 160895, 147423, 146488, 146080, 144831, 142147, 131683, 118017, 115410, 113967, 112930, 96017, 93959, 88238, 87985, 86917, 86086, 84950, 84163, 81305, 80678, 72862, 67334, 64516, 62377, 62206, 60117, 57926, 55995, 41424, 40622, 40591, 39869, 37908, 36996, 36504, 34999, 32864, 31305, 29135, 29130, 27077, 27005, 26748, 21666, 21587, 21407, 20302, 18845, 18546, 17851, 17457, 17239, 16945, 16764, 16556, 16120, 13801, 12664, 12383, 12378, 11312, 11289, 10614, 10530, 9554, 9329, 9328, 9187, 9028, 8933, 8765, 8421, 8222, 7788, 6928, 6562, 6537, 6501, 6294, 6083, 5138, 5023, 5019, 4865, 4328, 4263, 4151, 4083, 4053, 4044, 3938, 3646, 3447, 3442, 3342, 3055, 2908, 2612, 2557, 2461, 2430, 2269, 2233, 2120, 2085, 2084, 2030, 1680, 1602, 1325, 1307, 990, 963, 868, 804, 747, 740, 712, 661, 509, 474, 203, 199, 186, 156, 154, 153, 93, 66, 48, 48, 43, 27, 21, 20, 18, 10, 3, 3], \"colorscale\": [[0.0, \"rgb(255,245,240)\"], [0.125, \"rgb(254,224,210)\"], [0.25, \"rgb(252,187,161)\"], [0.375, \"rgb(252,146,114)\"], [0.5, \"rgb(251,106,74)\"], [0.625, \"rgb(239,59,44)\"], [0.75, \"rgb(203,24,29)\"], [0.875, \"rgb(165,15,21)\"], [1.0, \"rgb(103,0,13)\"]], \"showscale\": true}, \"type\": \"bar\", \"x\": [\"USA\", \"Brazil\", \"India\", \"Russia\", \"UK\", \"France\", \"Italy\", \"Spain\", \"Turkey\", \"Germany\", \"Colombia\", \"Argentina\", \"Mexico\", \"Poland\", \"Iran\", \"South Africa\", \"Ukraine\", \"Indonesia\", \"Peru\", \"Czechia\", \"Netherlands\", \"Canada\", \"Chile\", \"Romania\", \"Israel\", \"Portugal\", \"Belgium\", \"Iraq\", \"Sweden\", \"Philippines\", \"Pakistan\", \"Switzerland\", \"Bangladesh\", \"Hungary\", \"Serbia\", \"Austria\", \"Morocco\", \"Jordan\", \"Japan\", \"UAE\", \"Lebanon\", \"Saudi Arabia\", \"Panama\", \"Slovakia\", \"Malaysia\", \"Belarus\", \"Ecuador\", \"Bulgaria\", \"Nepal\", \"Georgia\", \"Bolivia\", \"Croatia\", \"Dominican Republic\", \"Tunisia\", \"Azerbaijan\", \"Ireland\", \"Kazakhstan\", \"Greece\", \"Denmark\", \"Palestine\", \"Kuwait\", \"Costa Rica\", \"Lithuania\", \"Moldova\", \"Slovenia\", \"Egypt\", \"Guatemala\", \"Paraguay\", \"Armenia\", \"Honduras\", \"Ethiopia\", \"Qatar\", \"Nigeria\", \"Oman\", \"Venezuela\", \"Libya\", \"Bosnia and Herzegovina\", \"Myanmar\", \"Bahrain\", \"Albania\", \"Algeria\", \"Kenya\", \"North Macedonia\", \"S. Korea\", \"Latvia\", \"Sri Lanka\", \"Ghana\", \"Kyrgyzstan\", \"Estonia\", \"Zambia\", \"Montenegro\", \"Norway\", \"Uzbekistan\", \"Uruguay\", \"Finland\", \"Mozambique\", \"El Salvador\", \"Cuba\", \"Singapore\", \"Luxembourg\", \"Afghanistan\", \"Namibia\", \"Cameroon\", \"Uganda\", \"Cyprus\", \"Ivory Coast\", \"Senegal\", \"Zimbabwe\", \"Botswana\", \"Malawi\", \"Jamaica\", \"Sudan\", \"Australia\", \"DRC\", \"Thailand\", \"Malta\", \"Maldives\", \"Madagascar\", \"Angola\", \"Rwanda\", \"Mayotte\", \"French Polynesia\", \"Guinea\", \"Mauritania\", \"Eswatini\", \"Gabon\", \"French Guiana\", \"Syria\", \"Cabo Verde\", \"R\\u00e9union\", \"Haiti\", \"Belize\", \"Burkina Faso\", \"Hong Kong\", \"Andorra\", \"Guadeloupe\", \"Lesotho\", \"South Sudan\", \"Congo\", \"Somalia\", \"Guyana\", \"Suriname\", \"Mali\", \"Bahamas\", \"Aruba\", \"Togo\", \"Trinidad and Tobago\", \"Martinique\", \"Equatorial Guinea\", \"Nicaragua\", \"Benin\", \"Djibouti\", \"Iceland\", \"Cura\\u00e7ao\", \"CAR\", \"Gambia\", \"Niger\", \"Chad\", \"Gibraltar\", \"San Marino\", \"Mongolia\", \"Saint Lucia\", \"Channel Islands\", \"Sierra Leone\", \"Comoros\", \"Guinea-Bissau\", \"Barbados\", \"Seychelles\", \"Eritrea\", \"Yemen\", \"Liechtenstein\", \"Vietnam\", \"Burundi\", \"New Zealand\", \"Papua New Guinea\", \"Turks and Caicos\", \"Monaco\", \"Sint Maarten\", \"Sao Tome and Principe\", \"Liberia\", \"St. Vincent Grenadines\", \"Saint Martin\", \"Cambodia\", \"Isle of Man\", \"Taiwan\", \"Antigua and Barbuda\", \"Bhutan\", \"Caribbean Netherlands\", \"Mauritius\", \"Bermuda\", \"St. Barth\", \"Faeroe Islands\", \"Tanzania\", \"Cayman Islands\", \"Timor-Leste\", \"Brunei \", \"Wallis and Futuna\", \"Dominica\", \"Grenada\", \"British Virgin Islands\", \"New Caledonia\", \"Fiji\", \"Macao\", \"Laos\", \"Saint Kitts and Nevis\", \"Vatican City\", \"Anguilla\", \"Montserrat\", \"Solomon Islands\", \"Western Sahara\", \"Samoa\", \"Vanuatu\"], \"y\": [30138586, 11525477, 11409595, 4400045, 4263527, 4078133, 3238394, 3195062, 2894893, 2585385, 2305884, 2201886, 2166290, 1917527, 1754933, 1530033, 1467548, 1425044, 1418974, 1402420, 1162661, 913047, 896231, 862681, 820913, 814513, 808283, 763085, 712527, 626893, 607453, 573815, 559168, 524196, 520911, 495464, 489096, 486470, 447906, 428295, 419953, 382752, 348155, 337960, 324971, 303270, 302498, 283194, 275310, 275148, 259389, 251174, 246299, 242124, 240671, 227316, 224731, 222281, 221071, 211602, 210855, 209093, 205644, 205324, 200579, 191555, 183014, 181414, 178702, 178277, 176618, 170733, 160895, 147423, 146488, 146080, 144831, 142147, 131683, 118017, 115410, 113967, 112930, 96017, 93959, 88238, 87985, 86917, 86086, 84950, 84163, 81305, 80678, 72862, 67334, 64516, 62377, 62206, 60117, 57926, 55995, 41424, 40622, 40591, 39869, 37908, 36996, 36504, 34999, 32864, 31305, 29135, 29130, 27077, 27005, 26748, 21666, 21587, 21407, 20302, 18845, 18546, 17851, 17457, 17239, 16945, 16764, 16556, 16120, 13801, 12664, 12383, 12378, 11312, 11289, 10614, 10530, 9554, 9329, 9328, 9187, 9028, 8933, 8765, 8421, 8222, 7788, 6928, 6562, 6537, 6501, 6294, 6083, 5138, 5023, 5019, 4865, 4328, 4263, 4151, 4083, 4053, 4044, 3938, 3646, 3447, 3442, 3342, 3055, 2908, 2612, 2557, 2461, 2430, 2269, 2233, 2120, 2085, 2084, 2030, 1680, 1602, 1325, 1307, 990, 963, 868, 804, 747, 740, 712, 661, 509, 474, 203, 199, 186, 156, 154, 153, 93, 66, 48, 48, 43, 27, 21, 20, 18, 10, 3, 3]}],                        {\"template\": {\"data\": {\"bar\": [{\"error_x\": {\"color\": \"#2a3f5f\"}, \"error_y\": {\"color\": \"#2a3f5f\"}, \"marker\": {\"line\": {\"color\": \"#E5ECF6\", \"width\": 0.5}}, \"type\": \"bar\"}], \"barpolar\": [{\"marker\": {\"line\": {\"color\": \"#E5ECF6\", \"width\": 0.5}}, \"type\": \"barpolar\"}], \"carpet\": [{\"aaxis\": {\"endlinecolor\": \"#2a3f5f\", \"gridcolor\": \"white\", \"linecolor\": \"white\", \"minorgridcolor\": \"white\", \"startlinecolor\": \"#2a3f5f\"}, \"baxis\": {\"endlinecolor\": \"#2a3f5f\", \"gridcolor\": \"white\", \"linecolor\": \"white\", \"minorgridcolor\": \"white\", \"startlinecolor\": \"#2a3f5f\"}, \"type\": \"carpet\"}], \"choropleth\": [{\"colorbar\": {\"outlinewidth\": 0, \"ticks\": \"\"}, \"type\": \"choropleth\"}], \"contour\": [{\"colorbar\": {\"outlinewidth\": 0, \"ticks\": \"\"}, \"colorscale\": [[0.0, \"#0d0887\"], [0.1111111111111111, \"#46039f\"], [0.2222222222222222, \"#7201a8\"], [0.3333333333333333, \"#9c179e\"], [0.4444444444444444, \"#bd3786\"], [0.5555555555555556, \"#d8576b\"], [0.6666666666666666, \"#ed7953\"], [0.7777777777777778, \"#fb9f3a\"], [0.8888888888888888, \"#fdca26\"], [1.0, \"#f0f921\"]], \"type\": \"contour\"}], \"contourcarpet\": [{\"colorbar\": {\"outlinewidth\": 0, \"ticks\": \"\"}, \"type\": \"contourcarpet\"}], \"heatmap\": [{\"colorbar\": {\"outlinewidth\": 0, \"ticks\": \"\"}, \"colorscale\": [[0.0, \"#0d0887\"], [0.1111111111111111, \"#46039f\"], [0.2222222222222222, \"#7201a8\"], [0.3333333333333333, \"#9c179e\"], [0.4444444444444444, \"#bd3786\"], [0.5555555555555556, \"#d8576b\"], [0.6666666666666666, \"#ed7953\"], [0.7777777777777778, \"#fb9f3a\"], [0.8888888888888888, \"#fdca26\"], [1.0, \"#f0f921\"]], \"type\": \"heatmap\"}], \"heatmapgl\": [{\"colorbar\": {\"outlinewidth\": 0, \"ticks\": \"\"}, \"colorscale\": [[0.0, \"#0d0887\"], [0.1111111111111111, \"#46039f\"], [0.2222222222222222, \"#7201a8\"], [0.3333333333333333, \"#9c179e\"], [0.4444444444444444, \"#bd3786\"], [0.5555555555555556, \"#d8576b\"], [0.6666666666666666, \"#ed7953\"], [0.7777777777777778, \"#fb9f3a\"], [0.8888888888888888, \"#fdca26\"], [1.0, \"#f0f921\"]], \"type\": \"heatmapgl\"}], \"histogram\": [{\"marker\": {\"colorbar\": {\"outlinewidth\": 0, \"ticks\": \"\"}}, \"type\": \"histogram\"}], \"histogram2d\": [{\"colorbar\": {\"outlinewidth\": 0, \"ticks\": \"\"}, \"colorscale\": [[0.0, \"#0d0887\"], [0.1111111111111111, \"#46039f\"], [0.2222222222222222, \"#7201a8\"], [0.3333333333333333, \"#9c179e\"], [0.4444444444444444, \"#bd3786\"], [0.5555555555555556, \"#d8576b\"], [0.6666666666666666, \"#ed7953\"], [0.7777777777777778, \"#fb9f3a\"], [0.8888888888888888, \"#fdca26\"], [1.0, \"#f0f921\"]], \"type\": \"histogram2d\"}], \"histogram2dcontour\": [{\"colorbar\": {\"outlinewidth\": 0, \"ticks\": \"\"}, \"colorscale\": [[0.0, \"#0d0887\"], [0.1111111111111111, \"#46039f\"], [0.2222222222222222, \"#7201a8\"], [0.3333333333333333, \"#9c179e\"], [0.4444444444444444, \"#bd3786\"], [0.5555555555555556, \"#d8576b\"], [0.6666666666666666, \"#ed7953\"], [0.7777777777777778, \"#fb9f3a\"], [0.8888888888888888, \"#fdca26\"], [1.0, \"#f0f921\"]], \"type\": \"histogram2dcontour\"}], \"mesh3d\": [{\"colorbar\": {\"outlinewidth\": 0, \"ticks\": \"\"}, \"type\": \"mesh3d\"}], \"parcoords\": [{\"line\": {\"colorbar\": {\"outlinewidth\": 0, \"ticks\": \"\"}}, \"type\": \"parcoords\"}], \"pie\": [{\"automargin\": true, \"type\": \"pie\"}], \"scatter\": [{\"marker\": {\"colorbar\": {\"outlinewidth\": 0, \"ticks\": \"\"}}, \"type\": \"scatter\"}], \"scatter3d\": [{\"line\": {\"colorbar\": {\"outlinewidth\": 0, \"ticks\": \"\"}}, \"marker\": {\"colorbar\": {\"outlinewidth\": 0, \"ticks\": \"\"}}, \"type\": \"scatter3d\"}], \"scattercarpet\": [{\"marker\": {\"colorbar\": {\"outlinewidth\": 0, \"ticks\": \"\"}}, \"type\": \"scattercarpet\"}], \"scattergeo\": [{\"marker\": {\"colorbar\": {\"outlinewidth\": 0, \"ticks\": \"\"}}, \"type\": \"scattergeo\"}], \"scattergl\": [{\"marker\": {\"colorbar\": {\"outlinewidth\": 0, \"ticks\": \"\"}}, \"type\": \"scattergl\"}], \"scattermapbox\": [{\"marker\": {\"colorbar\": {\"outlinewidth\": 0, \"ticks\": \"\"}}, \"type\": \"scattermapbox\"}], \"scatterpolar\": [{\"marker\": {\"colorbar\": {\"outlinewidth\": 0, \"ticks\": \"\"}}, \"type\": \"scatterpolar\"}], \"scatterpolargl\": [{\"marker\": {\"colorbar\": {\"outlinewidth\": 0, \"ticks\": \"\"}}, \"type\": \"scatterpolargl\"}], \"scatterternary\": [{\"marker\": {\"colorbar\": {\"outlinewidth\": 0, \"ticks\": \"\"}}, \"type\": \"scatterternary\"}], \"surface\": [{\"colorbar\": {\"outlinewidth\": 0, \"ticks\": \"\"}, \"colorscale\": [[0.0, \"#0d0887\"], [0.1111111111111111, \"#46039f\"], [0.2222222222222222, \"#7201a8\"], [0.3333333333333333, \"#9c179e\"], [0.4444444444444444, \"#bd3786\"], [0.5555555555555556, \"#d8576b\"], [0.6666666666666666, \"#ed7953\"], [0.7777777777777778, \"#fb9f3a\"], [0.8888888888888888, \"#fdca26\"], [1.0, \"#f0f921\"]], \"type\": \"surface\"}], \"table\": [{\"cells\": {\"fill\": {\"color\": \"#EBF0F8\"}, \"line\": {\"color\": \"white\"}}, \"header\": {\"fill\": {\"color\": \"#C8D4E3\"}, \"line\": {\"color\": \"white\"}}, \"type\": \"table\"}]}, \"layout\": {\"annotationdefaults\": {\"arrowcolor\": \"#2a3f5f\", \"arrowhead\": 0, \"arrowwidth\": 1}, \"autotypenumbers\": \"strict\", \"coloraxis\": {\"colorbar\": {\"outlinewidth\": 0, \"ticks\": \"\"}}, \"colorscale\": {\"diverging\": [[0, \"#8e0152\"], [0.1, \"#c51b7d\"], [0.2, \"#de77ae\"], [0.3, \"#f1b6da\"], [0.4, \"#fde0ef\"], [0.5, \"#f7f7f7\"], [0.6, \"#e6f5d0\"], [0.7, \"#b8e186\"], [0.8, \"#7fbc41\"], [0.9, \"#4d9221\"], [1, \"#276419\"]], \"sequential\": [[0.0, \"#0d0887\"], [0.1111111111111111, \"#46039f\"], [0.2222222222222222, \"#7201a8\"], [0.3333333333333333, \"#9c179e\"], [0.4444444444444444, \"#bd3786\"], [0.5555555555555556, \"#d8576b\"], [0.6666666666666666, \"#ed7953\"], [0.7777777777777778, \"#fb9f3a\"], [0.8888888888888888, \"#fdca26\"], [1.0, \"#f0f921\"]], \"sequentialminus\": [[0.0, \"#0d0887\"], [0.1111111111111111, \"#46039f\"], [0.2222222222222222, \"#7201a8\"], [0.3333333333333333, \"#9c179e\"], [0.4444444444444444, \"#bd3786\"], [0.5555555555555556, \"#d8576b\"], [0.6666666666666666, \"#ed7953\"], [0.7777777777777778, \"#fb9f3a\"], [0.8888888888888888, \"#fdca26\"], [1.0, \"#f0f921\"]]}, \"colorway\": [\"#636efa\", \"#EF553B\", \"#00cc96\", \"#ab63fa\", \"#FFA15A\", \"#19d3f3\", \"#FF6692\", \"#B6E880\", \"#FF97FF\", \"#FECB52\"], \"font\": {\"color\": \"#2a3f5f\"}, \"geo\": {\"bgcolor\": \"white\", \"lakecolor\": \"white\", \"landcolor\": \"#E5ECF6\", \"showlakes\": true, \"showland\": true, \"subunitcolor\": \"white\"}, \"hoverlabel\": {\"align\": \"left\"}, \"hovermode\": \"closest\", \"mapbox\": {\"style\": \"light\"}, \"paper_bgcolor\": \"white\", \"plot_bgcolor\": \"#E5ECF6\", \"polar\": {\"angularaxis\": {\"gridcolor\": \"white\", \"linecolor\": \"white\", \"ticks\": \"\"}, \"bgcolor\": \"#E5ECF6\", \"radialaxis\": {\"gridcolor\": \"white\", \"linecolor\": \"white\", \"ticks\": \"\"}}, \"scene\": {\"xaxis\": {\"backgroundcolor\": \"#E5ECF6\", \"gridcolor\": \"white\", \"gridwidth\": 2, \"linecolor\": \"white\", \"showbackground\": true, \"ticks\": \"\", \"zerolinecolor\": \"white\"}, \"yaxis\": {\"backgroundcolor\": \"#E5ECF6\", \"gridcolor\": \"white\", \"gridwidth\": 2, \"linecolor\": \"white\", \"showbackground\": true, \"ticks\": \"\", \"zerolinecolor\": \"white\"}, \"zaxis\": {\"backgroundcolor\": \"#E5ECF6\", \"gridcolor\": \"white\", \"gridwidth\": 2, \"linecolor\": \"white\", \"showbackground\": true, \"ticks\": \"\", \"zerolinecolor\": \"white\"}}, \"shapedefaults\": {\"line\": {\"color\": \"#2a3f5f\"}}, \"ternary\": {\"aaxis\": {\"gridcolor\": \"white\", \"linecolor\": \"white\", \"ticks\": \"\"}, \"baxis\": {\"gridcolor\": \"white\", \"linecolor\": \"white\", \"ticks\": \"\"}, \"bgcolor\": \"#E5ECF6\", \"caxis\": {\"gridcolor\": \"white\", \"linecolor\": \"white\", \"ticks\": \"\"}}, \"title\": {\"x\": 0.05}, \"xaxis\": {\"automargin\": true, \"gridcolor\": \"white\", \"linecolor\": \"white\", \"ticks\": \"\", \"title\": {\"standoff\": 15}, \"zerolinecolor\": \"white\", \"zerolinewidth\": 2}, \"yaxis\": {\"automargin\": true, \"gridcolor\": \"white\", \"linecolor\": \"white\", \"ticks\": \"\", \"title\": {\"standoff\": 15}, \"zerolinecolor\": \"white\", \"zerolinewidth\": 2}}}, \"title\": {\"font\": {\"size\": 20}, \"text\": \"Number of COVID Cases by Country on Mar 15, 2021, log scale\", \"x\": 0.5, \"xanchor\": \"center\"}, \"xaxis\": {\"tickangle\": -90}, \"yaxis\": {\"type\": \"log\"}},                        {\"responsive\": true}                    ).then(function(){\n",
       "                            \n",
       "var gd = document.getElementById('b87298c4-3eb4-4cf0-9ef0-581b30276fda');\n",
       "var x = new MutationObserver(function (mutations, observer) {{\n",
       "        var display = window.getComputedStyle(gd).display;\n",
       "        if (!display || display === 'none') {{\n",
       "            console.log([gd, 'removed!']);\n",
       "            Plotly.purge(gd);\n",
       "            observer.disconnect();\n",
       "        }}\n",
       "}});\n",
       "\n",
       "// Listen for the removal of the full notebook cells\n",
       "var notebookContainer = gd.closest('#notebook-container');\n",
       "if (notebookContainer) {{\n",
       "    x.observe(notebookContainer, {childList: true});\n",
       "}}\n",
       "\n",
       "// Listen for the clearing of the current output cell\n",
       "var outputEl = gd.closest('.output');\n",
       "if (outputEl) {{\n",
       "    x.observe(outputEl, {childList: true});\n",
       "}}\n",
       "\n",
       "                        })                };                });            </script>        </div>"
      ]
     },
     "metadata": {},
     "output_type": "display_data"
    }
   ],
   "source": [
    "bar = go.Bar(x=country_df['Country'], y=country_df['Total Cases'], marker=dict(color=df['Total Cases'], colorscale='Reds', showscale=True))\n",
    "fig = go.Figure(data=[bar])\n",
    "fig.update_layout(title={'text': 'Number of COVID Cases by Country on %s, log scale' % yesterday_str, 'x': 0.5,\n",
    "                         'xanchor': 'center', 'font': {'size': 20}}, yaxis_type=\"log\", xaxis_tickangle=-90)"
   ]
  },
  {
   "cell_type": "code",
   "execution_count": null,
   "metadata": {},
   "outputs": [],
   "source": []
  }
 ],
 "metadata": {
  "kernelspec": {
   "display_name": "Python 3",
   "language": "python",
   "name": "python3"
  },
  "language_info": {
   "codemirror_mode": {
    "name": "ipython",
    "version": 3
   },
   "file_extension": ".py",
   "mimetype": "text/x-python",
   "name": "python",
   "nbconvert_exporter": "python",
   "pygments_lexer": "ipython3",
   "version": "3.7.4"
  }
 },
 "nbformat": 4,
 "nbformat_minor": 4
}
